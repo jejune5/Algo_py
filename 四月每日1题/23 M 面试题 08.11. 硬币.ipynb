{
 "cells": [
  {
   "cell_type": "markdown",
   "metadata": {
    "collapsed": true,
    "pycharm": {
     "name": "#%% md\n"
    }
   },
   "source": [
    "硬币。给定数量不限的硬币，币值为25分、10分、5分和1分，编写代码计算n分有几种表示法。\n",
    "(结果可能会很大，你需要将结果模上1000000007)"
   ]
  },
  {
   "cell_type": "code",
   "execution_count": 1,
   "outputs": [
    {
     "name": "stdout",
     "text": [
      "5\n"
     ],
     "output_type": "stream"
    }
   ],
   "source": [
    "def waysToChange(n: int) -> int:\n",
    "    return n\n",
    "\n",
    "t = waysToChange(5)\n",
    "print(t)"
   ],
   "metadata": {
    "collapsed": false,
    "pycharm": {
     "name": "#%%\n",
     "is_executing": false
    }
   }
  },
  {
   "cell_type": "code",
   "execution_count": 52,
   "outputs": [
    {
     "name": "stdout",
     "text": [
      "5 5 [1, 0, 0, 0, 0, 0]\n    [1, 0, 0, 0, 0, 1]\n1 1 [1, 0, 0, 0, 0, 1]\n    [1, 1, 0, 0, 0, 1]\n1 2 [1, 1, 0, 0, 0, 1]\n    [1, 1, 1, 0, 0, 1]\n1 3 [1, 1, 1, 0, 0, 1]\n    [1, 1, 1, 1, 0, 1]\n1 4 [1, 1, 1, 1, 0, 1]\n    [1, 1, 1, 1, 1, 1]\n1 5 [1, 1, 1, 1, 1, 1]\n    [1, 1, 1, 1, 1, 2]\n2\n"
     ],
     "output_type": "stream"
    }
   ],
   "source": [
    "n = 5\n",
    "####################\n",
    "coins = [25, 10, 5, 1]\n",
    "mod = 10**9 + 7\n",
    "f = [1] + [0]*n\n",
    "for coin in coins:\n",
    "    for i in range(coin, n + 1):\n",
    "        f[i] += f[i-coin]\n",
    "    \n",
    "print(f[n] % mod)\n"
   ],
   "metadata": {
    "collapsed": false,
    "pycharm": {
     "name": "#%%\n",
     "is_executing": false
    }
   }
  }
 ],
 "metadata": {
  "kernelspec": {
   "display_name": "Python 3",
   "language": "python",
   "name": "python3"
  },
  "language_info": {
   "codemirror_mode": {
    "name": "ipython",
    "version": 2
   },
   "file_extension": ".py",
   "mimetype": "text/x-python",
   "name": "python",
   "nbconvert_exporter": "python",
   "pygments_lexer": "ipython2",
   "version": "2.7.6"
  },
  "pycharm": {
   "stem_cell": {
    "cell_type": "raw",
    "source": [],
    "metadata": {
     "collapsed": false
    }
   }
  }
 },
 "nbformat": 4,
 "nbformat_minor": 0
}