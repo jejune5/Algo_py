{
 "cells": [
  {
   "cell_type": "markdown",
   "metadata": {
    "collapsed": true,
    "pycharm": {
     "name": "#%% md\n"
    }
   },
   "source": [
    "给出一个区间的集合，请合并所有重叠的区间。\n",
    "\n",
    "示例 1:\n",
    "\n",
    "输入: [[1,3],[2,6],[8,10],[15,18]]\n",
    "输出: [[1,6],[8,10],[15,18]]\n",
    "解释: 区间 [1,3] 和 [2,6] 重叠, 将它们合并为 [1,6]."
   ]
  },
  {
   "cell_type": "code",
   "execution_count": 112,
   "outputs": [
    {
     "name": "stdout",
     "text": [
      "[[1, 5]]\n"
     ],
     "output_type": "stream"
    }
   ],
   "source": [
    "def merge(intervals):\n",
    "    \n",
    "    intervals = sorted(intervals)\n",
    "    i = 0 \n",
    "    while i != len(intervals)-1:\n",
    "        if intervals[i][0] <= intervals[i+1][0] <= intervals[i][1]:\n",
    "            if intervals[i][1] <= intervals[i+1][1] :\n",
    "                intervals[i] = [intervals[i][0], intervals[i+1][1]]\n",
    "            \n",
    "            intervals.remove(intervals[i+1])\n",
    "        else:\n",
    "            i+=1\n",
    "    return intervals\n",
    "\n",
    "intervals = [[1,4],[4,5]]\n",
    "t = merge(intervals)\n",
    "print(t)"
   ],
   "metadata": {
    "collapsed": false,
    "pycharm": {
     "name": "#%%\n",
     "is_executing": false
    }
   }
  },
  {
   "cell_type": "code",
   "execution_count": 48,
   "outputs": [
    {
     "name": "stdout",
     "text": [
      "[2, 6]\n[8, 10]\n[15, 18]\n"
     ],
     "output_type": "stream"
    }
   ],
   "source": [
    "intervals = [[1,3],[2,6],[8,10],[15,18]]\n",
    "#################################################\n",
    "intervals = sorted(intervals)\n",
    "ans = []\n",
    "# for i in range(0, len(intervals) - 1):\n",
    "#     # for j in range(i,len(intervals)):\n",
    "#     print(intervals[i])\n",
    "#     if intervals[i][0]\n",
    "i = 0\n",
    "while i != len(intervals)-1:\n",
    "    if intervals[i][0] <= intervals[i+1][0] <= intervals[i][1]:\n",
    "        if intervals[i][1] <= intervals[i+1][1] :\n",
    "            ans.append([])\n",
    "            \n",
    "        else:\n",
    "            \n",
    "            \n",
    "        print()\n",
    "    i+=1\n",
    "    print(intervals[i])\n",
    "    "
   ],
   "metadata": {
    "collapsed": false,
    "pycharm": {
     "name": "#%%\n",
     "is_executing": false
    }
   }
  },
  {
   "cell_type": "code",
   "execution_count": 104,
   "outputs": [
    {
     "name": "stdout",
     "text": [
      "[[1, 6], [8, 10], [15, 18]]\n"
     ],
     "output_type": "stream"
    }
   ],
   "source": [
    "intervals = [[1,3],[2,6],[8,10],[15,18]]\n",
    "#################################################\n",
    "intervals = sorted(intervals)\n",
    "i = 0 \n",
    "while i != len(intervals)-1:\n",
    "    if intervals[i][0] <= intervals[i+1][0] <= intervals[i][1]:\n",
    "        if intervals[i][1] <= intervals[i+1][1] :\n",
    "            intervals[i] = [intervals[i][0], intervals[i+1][1]]\n",
    "        \n",
    "        intervals.remove(intervals[i+1])\n",
    "    else:\n",
    "        i+=1\n",
    "\n",
    "print(intervals)"
   ],
   "metadata": {
    "collapsed": false,
    "pycharm": {
     "name": "#%%\n",
     "is_executing": false
    }
   }
  }
 ],
 "metadata": {
  "kernelspec": {
   "display_name": "Python 3",
   "language": "python",
   "name": "python3"
  },
  "language_info": {
   "codemirror_mode": {
    "name": "ipython",
    "version": 2
   },
   "file_extension": ".py",
   "mimetype": "text/x-python",
   "name": "python",
   "nbconvert_exporter": "python",
   "pygments_lexer": "ipython2",
   "version": "2.7.6"
  },
  "pycharm": {
   "stem_cell": {
    "cell_type": "raw",
    "source": [],
    "metadata": {
     "collapsed": false
    }
   }
  }
 },
 "nbformat": 4,
 "nbformat_minor": 0
}