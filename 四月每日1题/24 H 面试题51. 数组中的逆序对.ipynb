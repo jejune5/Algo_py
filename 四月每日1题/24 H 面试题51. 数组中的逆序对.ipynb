{
 "cells": [
  {
   "cell_type": "markdown",
   "metadata": {
    "collapsed": true,
    "pycharm": {
     "name": "#%% md\n"
    }
   },
   "source": [
    "在数组中的两个数字，如果前面一个数字大于后面的数字，则这两个数字组成一个逆序对。\n",
    "输入一个数组，求出这个数组中的逆序对的总数。\n",
    "\n",
    "示例 1:\n",
    "输入: [7,5,6,4]\n",
    "输出: 5"
   ]
  },
  {
   "cell_type": "code",
   "execution_count": 1,
   "outputs": [
    {
     "name": "stdout",
     "text": [
      "[7, 5, 6, 4]\n"
     ],
     "output_type": "stream"
    }
   ],
   "source": [
    "def reversePairs(nums):\n",
    "    \n",
    "    return nums\n",
    "\n",
    "nums = [7,5,6,4]\n",
    "t = reversePairs(nums)\n",
    "print(t)"
   ],
   "metadata": {
    "collapsed": false,
    "pycharm": {
     "name": "#%%\n",
     "is_executing": false
    }
   }
  }
 ],
 "metadata": {
  "kernelspec": {
   "display_name": "Python 3",
   "language": "python",
   "name": "python3"
  },
  "language_info": {
   "codemirror_mode": {
    "name": "ipython",
    "version": 2
   },
   "file_extension": ".py",
   "mimetype": "text/x-python",
   "name": "python",
   "nbconvert_exporter": "python",
   "pygments_lexer": "ipython2",
   "version": "2.7.6"
  },
  "pycharm": {
   "stem_cell": {
    "cell_type": "raw",
    "source": [],
    "metadata": {
     "collapsed": false
    }
   }
  }
 },
 "nbformat": 4,
 "nbformat_minor": 0
}