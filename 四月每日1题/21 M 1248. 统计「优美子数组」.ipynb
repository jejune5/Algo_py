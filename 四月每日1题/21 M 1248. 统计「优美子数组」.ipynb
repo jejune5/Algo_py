{
 "cells": [
  {
   "cell_type": "markdown",
   "metadata": {
    "collapsed": true,
    "pycharm": {
     "name": "#%% md\n"
    }
   },
   "source": [
    "给你一个整数数组 nums 和一个整数 k。\n",
    "\n",
    "如果某个 连续 子数组中恰好有 k 个奇数数字，我们就认为这个子数组是「优美子数组」。\n",
    "\n",
    "请返回这个数组中「优美子数组」的数目。"
   ]
  },
  {
   "cell_type": "code",
   "execution_count": 81,
   "outputs": [
    {
     "name": "stdout",
     "text": [
      "2\n"
     ],
     "output_type": "stream"
    }
   ],
   "source": [
    "def numberOfSubarrays(nums, k):\n",
    "    \n",
    "    def iskEqu(nums,k):\n",
    "        n = 0\n",
    "        for e in nums:\n",
    "            if e % 2 == 1:\n",
    "                n+=1    \n",
    "        return n==k\n",
    "\n",
    "    lens = len(nums)\n",
    "    n,count = k,0\n",
    "    while n<=lens: \n",
    "        for i in range(lens - n + 1):\n",
    "            if iskEqu(nums[i:i+n],k):\n",
    "                count+=1        \n",
    "        n+=1\n",
    "    return count\n",
    "\n",
    "nums = [1,1,2,1,1]\n",
    "k = 3\n",
    "t = numberOfSubarrays(nums, k)\n",
    "print(t)"
   ],
   "metadata": {
    "collapsed": false,
    "pycharm": {
     "name": "#%%\n",
     "is_executing": false
    }
   }
  },
  {
   "cell_type": "code",
   "execution_count": 78,
   "outputs": [
    {
     "name": "stdout",
     "text": [
      "16\n"
     ],
     "output_type": "stream"
    }
   ],
   "source": [
    "nums = [1,1,2,1,1]\n",
    "k = 3\n",
    "nums = [2,2,2,1,2,2,1,2,2,2];k = 2\n",
    "###################################\n",
    "def iskEqu(nums,k):\n",
    "    n = 0\n",
    "    for e in nums:\n",
    "        if e % 2 == 1:\n",
    "            n+=1    \n",
    "    return n==k\n",
    "\n",
    "# print(nOdd(nums,k))\n",
    "lens = len(nums)\n",
    "n,count = k,0\n",
    "while n<=lens: \n",
    "    for i in range(lens - n + 1):\n",
    "        if iskEqu(nums[i:i+n],k):\n",
    "            count+=1        \n",
    "    n+=1\n",
    "    \n",
    "print(count)"
   ],
   "metadata": {
    "collapsed": false,
    "pycharm": {
     "name": "#%%\n",
     "is_executing": false
    }
   }
  },
  {
   "cell_type": "code",
   "execution_count": null,
   "outputs": [],
   "source": [],
   "metadata": {
    "collapsed": false,
    "pycharm": {
     "name": "#%%\n"
    }
   }
  }
 ],
 "metadata": {
  "kernelspec": {
   "display_name": "Python 3",
   "language": "python",
   "name": "python3"
  },
  "language_info": {
   "codemirror_mode": {
    "name": "ipython",
    "version": 2
   },
   "file_extension": ".py",
   "mimetype": "text/x-python",
   "name": "python",
   "nbconvert_exporter": "python",
   "pygments_lexer": "ipython2",
   "version": "2.7.6"
  },
  "pycharm": {
   "stem_cell": {
    "cell_type": "raw",
    "source": [],
    "metadata": {
     "collapsed": false
    }
   }
  }
 },
 "nbformat": 4,
 "nbformat_minor": 0
}