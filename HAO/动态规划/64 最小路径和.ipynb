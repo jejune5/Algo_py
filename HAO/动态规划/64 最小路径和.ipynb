{
 "cells": [
  {
   "cell_type": "code",
   "execution_count": 83,
   "metadata": {
    "collapsed": true,
    "pycharm": {
     "is_executing": false
    }
   },
   "outputs": [
    {
     "name": "stdout",
     "text": [
      "6\n"
     ],
     "output_type": "stream"
    }
   ],
   "source": [
    "\n",
    "def minPathSum(grid):\n",
    "    return grid[0][0]\n",
    "\n",
    "\n",
    "grid =[\n",
    "  [1,3,1],\n",
    "  [1,5,1],\n",
    "  [4,2,1]\n",
    "]\n",
    "t = minPathSum(grid)\n",
    "# print(t)\n",
    "#################\n",
    "grid = [[1,2,5],[3,2,1]]\n",
    "dp = [i for i in grid]\n",
    "for i in range(1,len(dp[0])):\n",
    "    dp[0][i] += dp[0][i-1]\n",
    "for i in range(len(dp)):    \n",
    "    dp[i][0] += dp[i-1][0]\n",
    "\n",
    "# print(dp)\n",
    "    \n",
    "for i in range(1, len(grid)):\n",
    "    for j in range(1, len(grid[i])):\n",
    "        dp[i][j] += min(dp[i-1][j], dp[i][j-1])           \n",
    "\n",
    "\n",
    "print(dp[-1][-1])\n"
   ]
  },
  {
   "cell_type": "code",
   "execution_count": 84,
   "outputs": [
    {
     "name": "stdout",
     "text": [
      "[[]]\n[[]]\n"
     ],
     "output_type": "stream"
    }
   ],
   "source": [
    "grid = [[]]\n",
    "dp = [i for i in grid]\n",
    "\n",
    "print(dp)\n",
    "for i in range(0, len(grid)):\n",
    "    for j in range(0, len(grid[i])):\n",
    "        if i == 0 and j == 0:\n",
    "            pass\n",
    "        elif i == 0 and j != 0:\n",
    "            dp[i][j] += dp[i][j-1]\n",
    "        elif i != 0 and j == 0:\n",
    "            dp[i][j] += dp[i-1][j]\n",
    "        else:\n",
    "            dp[i][j] += min(dp[i-1][j], dp[i][j-1])   \n",
    "print(dp)"
   ],
   "metadata": {
    "collapsed": false,
    "pycharm": {
     "name": "#%%\n",
     "is_executing": false
    }
   }
  }
 ],
 "metadata": {
  "language_info": {
   "codemirror_mode": {
    "name": "ipython",
    "version": 2
   },
   "file_extension": ".py",
   "mimetype": "text/x-python",
   "name": "python",
   "nbconvert_exporter": "python",
   "pygments_lexer": "ipython2",
   "version": "2.7.6"
  },
  "kernelspec": {
   "name": "python3",
   "language": "python",
   "display_name": "Python 3"
  },
  "pycharm": {
   "stem_cell": {
    "cell_type": "raw",
    "source": [],
    "metadata": {
     "collapsed": false
    }
   }
  }
 },
 "nbformat": 4,
 "nbformat_minor": 0
}