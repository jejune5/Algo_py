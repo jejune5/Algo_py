{
 "cells": [
  {
   "cell_type": "code",
   "execution_count": 116,
   "metadata": {
    "collapsed": true,
    "pycharm": {
     "is_executing": false
    }
   },
   "outputs": [
    {
     "name": "stdout",
     "text": [
      "3\n"
     ],
     "output_type": "stream"
    }
   ],
   "source": [
    "# import queue\n",
    "from collections import deque\n",
    "a = deque()\n",
    "\n",
    "for i in range(99, 103):\n",
    "    a.append(i)\n",
    "\n",
    "a.pop()\n",
    "t = len(a)\n",
    "print(t)\n",
    "\n",
    "\n",
    "# t = a.get(0)\n",
    "# print(t)"
   ]
  }
 ],
 "metadata": {
  "language_info": {
   "codemirror_mode": {
    "name": "ipython",
    "version": 2
   },
   "file_extension": ".py",
   "mimetype": "text/x-python",
   "name": "python",
   "nbconvert_exporter": "python",
   "pygments_lexer": "ipython2",
   "version": "2.7.6"
  },
  "kernelspec": {
   "name": "python3",
   "language": "python",
   "display_name": "Python 3"
  },
  "pycharm": {
   "stem_cell": {
    "cell_type": "raw",
    "source": [],
    "metadata": {
     "collapsed": false
    }
   }
  }
 },
 "nbformat": 4,
 "nbformat_minor": 0
}