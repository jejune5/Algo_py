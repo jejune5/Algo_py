{
 "cells": [
  {
   "cell_type": "code",
   "execution_count": 6,
   "metadata": {
    "collapsed": true,
    "pycharm": {
     "is_executing": false
    }
   },
   "outputs": [
    {
     "name": "stdout",
     "text": [
      "3\n"
     ],
     "output_type": "stream"
    }
   ],
   "source": [
    "# import queue\n",
    "from collections import deque\n",
    "a = deque()\n",
    "\n",
    "for i in range(99, 103):\n",
    "    a.append(i)\n",
    "\n",
    "a.pop()\n",
    "t = len(a)\n",
    "print(t)\n",
    "\n",
    "\n",
    "# t = a.get(0)\n",
    "# print(t)"
   ]
  },
  {
   "cell_type": "code",
   "execution_count": 7,
   "outputs": [
    {
     "name": "stdout",
     "text": [
      "[3, 1, 2, 4]\n"
     ],
     "output_type": "stream"
    }
   ],
   "source": [
    "from HAO.二叉树 import str2TreeNode as tree\n",
    "\n",
    "def dfs(root, res):\n",
    "    if not root:\n",
    "        return\n",
    "    res.append(root.val)\n",
    "    dfs(root.left, res)\n",
    "    dfs(root.right, res)\n",
    "\n",
    "root = tree.stringToTreeNode('[3,1,4,null,2]')\n",
    "res=[]\n",
    "dfs(root, res)\n",
    "print(res)"
   ],
   "metadata": {
    "collapsed": false,
    "pycharm": {
     "name": "#%%\n",
     "is_executing": false
    }
   }
  }
 ],
 "metadata": {
  "language_info": {
   "codemirror_mode": {
    "name": "ipython",
    "version": 2
   },
   "file_extension": ".py",
   "mimetype": "text/x-python",
   "name": "python",
   "nbconvert_exporter": "python",
   "pygments_lexer": "ipython2",
   "version": "2.7.6"
  },
  "kernelspec": {
   "name": "python3",
   "language": "python",
   "display_name": "Python 3"
  },
  "pycharm": {
   "stem_cell": {
    "cell_type": "raw",
    "source": [],
    "metadata": {
     "collapsed": false
    }
   }
  }
 },
 "nbformat": 4,
 "nbformat_minor": 0
}