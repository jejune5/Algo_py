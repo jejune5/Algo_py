{
 "cells": [
  {
   "cell_type": "code",
   "execution_count": null,
   "metadata": {
    "collapsed": true,
    "pycharm": {
     "is_executing": true
    }
   },
   "outputs": [
    {
     "name": "stdout",
     "text": [
      "L: [4]\n",
      "L: [8]\n",
      "L: [3, 4]\n"
     ],
     "output_type": "stream"
    }
   ],
   "source": [
    "#归并排序实现\n",
    "def MergeSort(nums):\n",
    "    \n",
    "    lens = len(nums)\n",
    "    if lens <= 1:\n",
    "        return nums\n",
    "    mid = lens//2\n",
    "    L = MergeSort(nums[:mid])\n",
    "    R = MergeSort(nums[mid:])\n",
    "    print('L:',L)\n",
    "    return Merge(L,R)\n",
    "\n",
    "def Merge(L,R):\n",
    "    r, l = 0, 0\n",
    "    res = []\n",
    "    while l < len(L) and r < len(R):\n",
    "        if L[l] <= R[r]:\n",
    "            res.append(L[l])\n",
    "            l+=1\n",
    "        else:\n",
    "            res.append(R[r])\n",
    "            r+=1\n",
    "    res+=L[l:]\n",
    "    res+=R[r:]\n",
    "    return res\n",
    "\n",
    "# t = Merge([1,2,3],[4,5,6])\n",
    "# print(t)    \n",
    "    \n",
    "\n",
    "nums = [4,3,8,9]\n",
    "t = MergeSort(nums)\n",
    "print(t)"
   ]
  },
  {
   "cell_type": "code",
   "execution_count": 2,
   "outputs": [
    {
     "name": "stdout",
     "text": [
      "5\n"
     ],
     "output_type": "stream"
    }
   ],
   "source": [
    "print(mid)"
   ],
   "metadata": {
    "collapsed": false,
    "pycharm": {
     "name": "#%%\n",
     "is_executing": false
    }
   }
  }
 ],
 "metadata": {
  "kernelspec": {
   "display_name": "Python 3",
   "language": "python",
   "name": "python3"
  },
  "language_info": {
   "codemirror_mode": {
    "name": "ipython",
    "version": 2
   },
   "file_extension": ".py",
   "mimetype": "text/x-python",
   "name": "python",
   "nbconvert_exporter": "python",
   "pygments_lexer": "ipython2",
   "version": "2.7.6"
  },
  "pycharm": {
   "stem_cell": {
    "cell_type": "raw",
    "source": [],
    "metadata": {
     "collapsed": false
    }
   }
  }
 },
 "nbformat": 4,
 "nbformat_minor": 0
}