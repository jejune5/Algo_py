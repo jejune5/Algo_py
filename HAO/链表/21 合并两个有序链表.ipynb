{
 "cells": [
  {
   "cell_type": "code",
   "execution_count": 20,
   "metadata": {
    "collapsed": true,
    "pycharm": {
     "is_executing": false
    }
   },
   "outputs": [
    {
     "name": "stdout",
     "text": [
      "[1, 2, 3]\n"
     ],
     "output_type": "stream"
    }
   ],
   "source": [
    "# Definition for singly-linked list.\n",
    "class ListNode:\n",
    "    def __init__(self, x):\n",
    "        self.val = x\n",
    "        self.next = None\n",
    "\n",
    "\n",
    "def listToListNode(List):\n",
    "    tem_node = ListNode(None)\n",
    "    node = ListNode(None)\n",
    "    for i in List:\n",
    "        # 记得是判定val是否有值，并且用一个node记住头节点，然后返回的是头节点\n",
    "        if not tem_node.val:\n",
    "            tem_node.val = i\n",
    "            node = tem_node\n",
    "        else:\n",
    "            tem_node.next = ListNode(i)\n",
    "            tem_node = tem_node.next\n",
    "    return node\n",
    "\n",
    "\n",
    "def ListNodeTolist(head: ListNode) -> list:\n",
    "    List = []\n",
    "    while head:\n",
    "        List.append(head.val)\n",
    "        head = head.next\n",
    "    return List\n",
    "\n",
    "\n",
    "a = [1, 2, 3]\n",
    "res = listToListNode(a)\n",
    "List = ListNodeTolist(res)\n",
    "\n",
    "print(List)"
   ]
  },
  {
   "cell_type": "code",
   "execution_count": 21,
   "outputs": [
    {
     "name": "stdout",
     "text": [
      "[1, 2, 3, 4, 5, 6, 8]\n"
     ],
     "output_type": "stream"
    }
   ],
   "source": [
    "def mergeTwoLists(l1: ListNode, l2: ListNode) -> ListNode:\n",
    "    head = ListNode(None)\n",
    "    res = head\n",
    "    while l1 != None and l2 != None:\n",
    "        if l1.val <= l2.val:\n",
    "            res.next = l1\n",
    "            l1 = l1.next\n",
    "            \n",
    "        else:\n",
    "            res.next = l2\n",
    "            l2 = l2.next\n",
    "        res = res.next\n",
    "    if l1 == None:\n",
    "        res.next = l2\n",
    "    if l2 == None:\n",
    "        res.next = l1\n",
    "    return head.next\n",
    "\n",
    "l1= [1, 3, 5]\n",
    "l2 = [2, 4, 6, 8]\n",
    "l1 = listToListNode(l1)\n",
    "l2 = listToListNode(l2)\n",
    "\n",
    "t = mergeTwoLists(l1, l2)\n",
    "print(ListNodeTolist(t))\n",
    "            \n",
    "    \n",
    "    "
   ],
   "metadata": {
    "collapsed": false,
    "pycharm": {
     "name": "#%%\n",
     "is_executing": false
    }
   }
  }
 ],
 "metadata": {
  "language_info": {
   "codemirror_mode": {
    "name": "ipython",
    "version": 2
   },
   "file_extension": ".py",
   "mimetype": "text/x-python",
   "name": "python",
   "nbconvert_exporter": "python",
   "pygments_lexer": "ipython2",
   "version": "2.7.6"
  },
  "kernelspec": {
   "name": "python3",
   "language": "python",
   "display_name": "Python 3"
  },
  "pycharm": {
   "stem_cell": {
    "cell_type": "raw",
    "source": [],
    "metadata": {
     "collapsed": false
    }
   }
  }
 },
 "nbformat": 4,
 "nbformat_minor": 0
}