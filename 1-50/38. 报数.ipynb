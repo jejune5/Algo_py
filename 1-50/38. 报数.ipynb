{
 "cells": [
  {
   "cell_type": "code",
   "execution_count": 79,
   "metadata": {},
   "outputs": [],
   "source": [
    "def countAndSay(n: int) -> str:\n",
    "    def say(s):\n",
    "        temp = 0 \n",
    "        res =''\n",
    "        for i in range(len(s)-1):\n",
    "            if s[temp] != s[i+1]:\n",
    "                res = res+str(len(s[temp:i+1]))+s[temp]\n",
    "                temp = i+1        \n",
    "        res = res+str(len(s[temp:len(s)]))+s[temp]\n",
    "        return res\n",
    "\n",
    "    num = 1\n",
    "    res = '1'\n",
    "    while(num<n):\n",
    "        res = say(res)\n",
    "        num +=1\n",
    "    return res "
   ]
  },
  {
   "cell_type": "code",
   "execution_count": 77,
   "metadata": {},
   "outputs": [],
   "source": [
    "\n",
    "\n"
   ]
  },
  {
   "cell_type": "code",
   "execution_count": 80,
   "metadata": {},
   "outputs": [
    {
     "name": "stdout",
     "output_type": "stream",
     "text": [
      "1211\n"
     ]
    }
   ],
   "source": [
    "a = countAndSay(4)\n",
    "print(a)\n",
    "        "
   ]
  },
  {
   "cell_type": "code",
   "execution_count": 69,
   "metadata": {},
   "outputs": [
    {
     "name": "stdout",
     "output_type": "stream",
     "text": [
      "1\n"
     ]
    }
   ],
   "source": [
    "print(s)"
   ]
  },
  {
   "cell_type": "code",
   "execution_count": null,
   "metadata": {},
   "outputs": [],
   "source": []
  }
 ],
 "metadata": {
  "kernelspec": {
   "display_name": "Python 3",
   "language": "python",
   "name": "python3"
  },
  "language_info": {
   "codemirror_mode": {
    "name": "ipython",
    "version": 3
   },
   "file_extension": ".py",
   "mimetype": "text/x-python",
   "name": "python",
   "nbconvert_exporter": "python",
   "pygments_lexer": "ipython3",
   "version": "3.7.3"
  }
 },
 "nbformat": 4,
 "nbformat_minor": 2
}
