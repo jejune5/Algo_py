{
 "cells": [
  {
   "cell_type": "markdown",
   "metadata": {
    "collapsed": true,
    "pycharm": {
     "name": "#%% md\n"
    }
   },
   "source": [
    "给定一个包含 n 个整数的数组 nums，判断 nums 中是否存在三个元素 a，b，c ，使得 a + b + c = 0 ？找出所有满足条件且不重复的三元组。\n",
    "注意：答案中不可以包含重复的三元组。\n",
    " \n",
    "示例：\n",
    "\n",
    "给定数组 nums = [-1, 0, 1, 2, -1, -4]，\n",
    "\n",
    "满足要求的三元组集合为：\n",
    "[\n",
    "  [-1, 0, 1],\n",
    "  [-1, -1, 2]\n",
    "]"
   ]
  },
  {
   "cell_type": "code",
   "execution_count": 1,
   "outputs": [
    {
     "name": "stdout",
     "text": [
      "[-2, 0, 0, 2, 2]\n0\nL: 1 R: 4\n1\nL: 2 R: 4\nL: 2 R: 3\n[[-2, 0, 2]]\n"
     ],
     "output_type": "stream"
    }
   ],
   "source": [
    "TimeoutError\n",
    "def threeSum(nums):\n",
    "    import itertools as it\n",
    "    res = []\n",
    "    for i in it.combinations(nums,3):\n",
    "        if sum(i) == 0 and sorted(list(i)) not in res:\n",
    "            res.append(sorted(list(i)))      \n",
    "        \n",
    "    return res\n",
    "\n",
    "\n",
    "def threeSum2(nums):\n",
    "    res = []\n",
    "    nums.sort()\n",
    "    print(nums)\n",
    "    n = len(nums)\n",
    "    \n",
    "    for i in range(n):\n",
    "        if nums[i] > 0:\n",
    "            return res\n",
    "        if i>0 and nums[i] == nums[i-1] :\n",
    "            continue\n",
    "        print(i)\n",
    "        L = i+1\n",
    "        R = n-1\n",
    "        while L<R :\n",
    "            print('L:',L,'R:',R)\n",
    "            if nums[i]+nums[L]+nums[R] == 0 :\n",
    "                res.append([nums[i],nums[L],nums[R]])\n",
    "                while(L<R and nums[L]==nums[L+1]):\n",
    "                    L=L+1\n",
    "                while(L<R and nums[R]==nums[R-1]):\n",
    "                    R=R-1\n",
    "                L=L+1\n",
    "                R=R-1\n",
    "            elif(nums[i]+nums[L]+nums[R] > 0):\n",
    "                R-=1  \n",
    "            else:\n",
    "                L+=1\n",
    "\n",
    "    return res\n",
    "\n",
    "nums = [-1, 0, 1, 2, -1, -4]\n",
    "nums = [-2,0,0,2,2]\n",
    "t = threeSum2(nums)\n",
    "print(t)\n"
   ],
   "metadata": {
    "collapsed": false,
    "pycharm": {
     "name": "#%%\n",
     "is_executing": false
    }
   }
  },
  {
   "cell_type": "code",
   "execution_count": 5,
   "outputs": [
    {
     "name": "stdout",
     "text": [
      "[-4, -1, -1, 0, 1, 2]\n"
     ],
     "output_type": "stream"
    }
   ],
   "source": [
    "nums.sort()\n",
    "print(nums)"
   ],
   "metadata": {
    "collapsed": false,
    "pycharm": {
     "name": "#%%\n",
     "is_executing": false
    }
   }
  },
  {
   "cell_type": "code",
   "execution_count": null,
   "outputs": [],
   "source": [
    "\n"
   ],
   "metadata": {
    "collapsed": false,
    "pycharm": {
     "name": "#%%\n"
    }
   }
  }
 ],
 "metadata": {
  "kernelspec": {
   "display_name": "Python 3",
   "language": "python",
   "name": "python3"
  },
  "language_info": {
   "codemirror_mode": {
    "name": "ipython",
    "version": 2
   },
   "file_extension": ".py",
   "mimetype": "text/x-python",
   "name": "python",
   "nbconvert_exporter": "python",
   "pygments_lexer": "ipython2",
   "version": "2.7.6"
  },
  "pycharm": {
   "stem_cell": {
    "cell_type": "raw",
    "source": [],
    "metadata": {
     "collapsed": false
    }
   }
  }
 },
 "nbformat": 4,
 "nbformat_minor": 0
}