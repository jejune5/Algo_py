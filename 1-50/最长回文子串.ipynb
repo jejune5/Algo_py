{
 "cells": [
  {
   "cell_type": "code",
   "execution_count": 1,
   "metadata": {},
   "outputs": [],
   "source": [
    "s = 'babad'\n",
    "\n",
    "def isPalindrome(str:s)->bool:\n",
    "    lens = len(s)\n",
    "    reverse = ''\n",
    "    for i in range(0,lens):\n",
    "        reverse +=s[lens -1-i]\n",
    "    return (reverse == s)\n"
   ]
  },
  {
   "cell_type": "code",
   "execution_count": 7,
   "metadata": {},
   "outputs": [],
   "source": [
    "def longestPalindrome(s) -> str:\n",
    "    lens = len(s)\n",
    "    if lens > 0 :\n",
    "        \n",
    "        repFlag = False\n",
    "        for index in range(0,lens):\n",
    "            if s[0] != s[index]:\n",
    "                repFlag = True\n",
    "    \n",
    "        res = s[0]\n",
    "        if (repFlag):\n",
    "        \n",
    "\n",
    "            for i in range(0,lens - 1):\n",
    "                for j in range(i+1,lens):\n",
    "                    sub_str = s[i:j+1]\n",
    "\n",
    "                    ##############isPalindrome\n",
    "                    flag = False\n",
    "                    sub_len = len(sub_str)\n",
    "                    reverse = ''\n",
    "                    for k in range(0,sub_len):\n",
    "                        reverse += sub_str[sub_len - 1 - k]\n",
    "                    flag = (reverse == sub_str)\n",
    "                    ##############\n",
    "\n",
    "                    if(flag and (sub_len > len(res))):\n",
    "                        res = s[i:j+1]\n",
    "            \n",
    "    else :\n",
    "        res = ''\n",
    "    return len(res)"
   ]
  },
  {
   "cell_type": "code",
   "execution_count": 9,
   "metadata": {},
   "outputs": [
    {
     "name": "stdout",
     "output_type": "stream",
     "text": [
      "1\n"
     ]
    }
   ],
   "source": [
    "s = 'aaaa'\n",
    "b = longestPalindrome(s)\n",
    "\n",
    "print(b)"
   ]
  },
  {
   "cell_type": "code",
   "execution_count": 5,
   "metadata": {},
   "outputs": [
    {
     "name": "stdout",
     "output_type": "stream",
     "text": [
      "ab\n"
     ]
    }
   ],
   "source": [
    "print(s[0:2])"
   ]
  },
  {
   "cell_type": "code",
   "execution_count": 6,
   "metadata": {},
   "outputs": [
    {
     "name": "stdout",
     "output_type": "stream",
     "text": [
      "abaaba\n",
      "aba\n",
      "True\n"
     ]
    }
   ],
   "source": [
    "s = 'aaaaaa'\n",
    "lens = len(s)\n",
    "for i in range(0,lens):\n",
    "    s"
   ]
  },
  {
   "cell_type": "code",
   "execution_count": null,
   "metadata": {},
   "outputs": [],
   "source": []
  }
 ],
 "metadata": {
  "kernelspec": {
   "display_name": "Python 3",
   "language": "python",
   "name": "python3"
  },
  "language_info": {
   "codemirror_mode": {
    "name": "ipython",
    "version": 3
   },
   "file_extension": ".py",
   "mimetype": "text/x-python",
   "name": "python",
   "nbconvert_exporter": "python",
   "pygments_lexer": "ipython3",
   "version": "3.7.3"
  }
 },
 "nbformat": 4,
 "nbformat_minor": 4
}
