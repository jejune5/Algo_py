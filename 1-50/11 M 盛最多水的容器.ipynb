{
 "cells": [
  {
   "cell_type": "markdown",
   "metadata": {
    "collapsed": true,
    "pycharm": {
     "name": "#%% md\n"
    }
   },
   "source": [
    "给定 n 个非负整数 a1，a2，...，an，每个数代表坐标中的一个点 (i, ai) 。在坐标内画 n 条垂直线，垂直线 i 的两个端点分别为 (i, ai) 和 (i, 0)。找出其中的两条线，使得它们与 x 轴共同构成的容器可以容纳最多的水。\n",
    "\n",
    "说明：你不能倾斜容器，且 n 的值至少为 2。\n",
    "\n",
    "输入: [1,8,6,2,5,4,8,3,7]\n",
    "输出: 49\n",
    "。"
   ]
  },
  {
   "cell_type": "code",
   "execution_count": 34,
   "outputs": [
    {
     "name": "stdout",
     "text": [
      "49\n"
     ],
     "output_type": "stream"
    }
   ],
   "source": [
    "#### Time limited \n",
    "def maxArea(height):\n",
    "    \n",
    "    res = min(height[0:2])\n",
    "    lens = len(height)\n",
    "    print(lens)\n",
    "    \n",
    "    for i in range(0,lens-1):\n",
    "        for j in range(i+1,lens):\n",
    "            # print('i->',i ,'j->',j,'===',min(height[i:j]),(j-i))\n",
    "            if min(height[i],height[j])*(j-i) > res:\n",
    "                res = min(height[i],height[j])*(j-i) \n",
    "            \n",
    "            # res = max(res,min(height[]))\n",
    "    return res\n",
    "\n",
    "\n",
    "def maxArea2(height):\n",
    "    res = min(height[0:2])\n",
    "    l = 0\n",
    "    r=len(height)-1\n",
    "    while l < r :\n",
    "        res = max(res,min(height[l],height[r])*(r-l))\n",
    "        if height[l] < height[r]:\n",
    "            l+=1\n",
    "        else:\n",
    "            r-=1\n",
    "    return res\n",
    "\n",
    "t = [1,8,6,2,5,4,8,3,7]\n",
    "aa = maxArea2(t)\n",
    "print(aa)"
   ],
   "metadata": {
    "collapsed": false,
    "pycharm": {
     "name": "#%%\n",
     "is_executing": false
    }
   }
  },
  {
   "cell_type": "code",
   "execution_count": 55,
   "outputs": [
    {
     "name": "stdout",
     "text": [
      "9\n0 1\n1 8\n2 6\n3 2\n4 5\n5 4\n6 8\n7 3\n"
     ],
     "output_type": "stream"
    }
   ],
   "source": [
    "print(len(t))\n",
    "for i in range(0,len(t)-1):\n",
    "    print(i,t[i])\n"
   ],
   "metadata": {
    "collapsed": false,
    "pycharm": {
     "name": "#%%\n",
     "is_executing": false
    }
   }
  },
  {
   "cell_type": "code",
   "execution_count": null,
   "outputs": [],
   "source": [
    "\n"
   ],
   "metadata": {
    "collapsed": false,
    "pycharm": {
     "name": "#%%\n"
    }
   }
  }
 ],
 "metadata": {
  "kernelspec": {
   "display_name": "Python 3",
   "language": "python",
   "name": "python3"
  },
  "language_info": {
   "codemirror_mode": {
    "name": "ipython",
    "version": 2
   },
   "file_extension": ".py",
   "mimetype": "text/x-python",
   "name": "python",
   "nbconvert_exporter": "python",
   "pygments_lexer": "ipython2",
   "version": "2.7.6"
  },
  "pycharm": {
   "stem_cell": {
    "cell_type": "raw",
    "source": [],
    "metadata": {
     "collapsed": false
    }
   }
  }
 },
 "nbformat": 4,
 "nbformat_minor": 0
}