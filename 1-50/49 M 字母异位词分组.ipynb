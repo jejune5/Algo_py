{
 "cells": [
  {
   "cell_type": "code",
   "execution_count": 1,
   "metadata": {
    "pycharm": {
     "is_executing": false
    }
   },
   "outputs": [],
   "source": [
    "def groupAnagrams(strs):\n",
    "    pass"
   ]
  },
  {
   "cell_type": "code",
   "execution_count": 52,
   "metadata": {
    "pycharm": {
     "is_executing": false
    }
   },
   "outputs": [
    {
     "name": "stdout",
     "text": [
      "[['ate', 'eat', 'tea'], ['nat', 'tan'], ['bat']]\n"
     ],
     "output_type": "stream"
    }
   ],
   "source": [
    "strs = [\"eat\", \"tea\", \"tan\", \"ate\", \"nat\", \"bat\"]\n",
    "\n",
    "res = [['ate', 'eat', 'tea'], ['nat', 'tan'], ['bat']]\n",
    "\n",
    "print(res)"
   ]
  },
  {
   "cell_type": "code",
   "execution_count": 107,
   "metadata": {
    "pycharm": {
     "is_executing": false
    }
   },
   "outputs": [
    {
     "name": "stdout",
     "text": [
      "['a', 'e', 't'] = = = []\n1 eat\n['a', 'e', 't'] = = = [\"['a', 'e', 't']\"]\n2 tea\n['a', 'n', 't'] = = = [\"['a', 'e', 't']\"]\n1 tan\n['a', 'e', 't'] = = = [\"['a', 'e', 't']\", \"['a', 'n', 't']\"]\n2 ate\n['a', 'n', 't'] = = = [\"['a', 'e', 't']\", \"['a', 'n', 't']\"]\n2 nat\n['a', 'b', 't'] = = = [\"['a', 'e', 't']\", \"['a', 'n', 't']\"]\n1 bat\n[['eat', 'tea', 'ate'], ['tan', 'nat'], ['bat']]\n"
     ],
     "output_type": "stream"
    }
   ],
   "source": [
    "res = []\n",
    "dict = {}\n",
    "\n",
    "for s in strs:\n",
    "    print(str(sorted(s)),'= = =',list(dict.keys()))\n",
    "    if str(sorted(s)) not in list(dict.keys()):\n",
    "        print(1,s)\n",
    "        \n",
    "        dict[str(sorted(s))] = [s]\n",
    "    \n",
    "    else:\n",
    "        print(2,s)\n",
    "        \n",
    "        dict[str(sorted(s))].append(s)\n",
    "\n",
    "print(list(dict.values()))\n",
    "# print(list(dict.keys()))\n"
   ]
  },
  {
   "cell_type": "code",
   "execution_count": 85,
   "outputs": [
    {
     "name": "stdout",
     "text": [
      "ab\n"
     ],
     "output_type": "stream"
    }
   ],
   "source": [
    "b = {'a':'ab',\n",
    "     'b':'bb',\n",
    "     }\n",
    "\n",
    "print(b['a'])"
   ],
   "metadata": {
    "collapsed": false,
    "pycharm": {
     "name": "#%%\n",
     "is_executing": false
    }
   }
  },
  {
   "cell_type": "code",
   "execution_count": null,
   "outputs": [],
   "source": [
    "\n"
   ],
   "metadata": {
    "collapsed": false,
    "pycharm": {
     "name": "#%%\n"
    }
   }
  }
 ],
 "metadata": {
  "kernelspec": {
   "display_name": "Python 3",
   "language": "python",
   "name": "python3"
  },
  "language_info": {
   "codemirror_mode": {
    "name": "ipython",
    "version": 3
   },
   "file_extension": ".py",
   "mimetype": "text/x-python",
   "name": "python",
   "nbconvert_exporter": "python",
   "pygments_lexer": "ipython3",
   "version": "3.7.3"
  },
  "pycharm": {
   "stem_cell": {
    "cell_type": "raw",
    "source": [],
    "metadata": {
     "collapsed": false
    }
   }
  }
 },
 "nbformat": 4,
 "nbformat_minor": 2
}