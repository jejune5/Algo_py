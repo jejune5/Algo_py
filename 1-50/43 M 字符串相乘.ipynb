{
 "cells": [
  {
   "cell_type": "code",
   "execution_count": 4,
   "metadata": {
    "collapsed": true,
    "pycharm": {
     "is_executing": false
    }
   },
   "outputs": [
    {
     "name": "stdout",
     "text": [
      "6\n"
     ],
     "output_type": "stream"
    }
   ],
   "source": [
    "'''\n",
    "给定两个以字符串形式表示的非负整数 num1 和 num2，返回 num1 和 num2 的乘积，它们的乘积也表示为字符串形式。\n",
    "\n",
    "示例 1:\n",
    "\n",
    "输入: num1 = \"2\", num2 = \"3\"\n",
    "输出: \"6\"\n",
    "\n",
    "示例 2:\n",
    "\n",
    "输入: num1 = \"123\", num2 = \"456\"\n",
    "输出: \"56088\"\n",
    "\n",
    "'''\n",
    "num1 = '2'\n",
    "num2 = '3'\n",
    "######\n",
    "n1 = int(num1)\n",
    "n2 = int(num2)\n",
    "\n",
    "res = str(n1*n2)\n",
    "\n",
    "print(str(res))"
   ]
  }
 ],
 "metadata": {
  "language_info": {
   "codemirror_mode": {
    "name": "ipython",
    "version": 2
   },
   "file_extension": ".py",
   "mimetype": "text/x-python",
   "name": "python",
   "nbconvert_exporter": "python",
   "pygments_lexer": "ipython2",
   "version": "2.7.6"
  },
  "kernelspec": {
   "name": "python3",
   "language": "python",
   "display_name": "Python 3"
  },
  "pycharm": {
   "stem_cell": {
    "cell_type": "raw",
    "source": [],
    "metadata": {
     "collapsed": false
    }
   }
  }
 },
 "nbformat": 4,
 "nbformat_minor": 0
}