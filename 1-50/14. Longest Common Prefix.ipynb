{
 "cells": [
  {
   "cell_type": "code",
   "execution_count": 369,
   "metadata": {
    "collapsed": true,
    "pycharm": {
     "is_executing": false
    }
   },
   "outputs": [
    {
     "name": "stdout",
     "text": [
      "res = ",
      " ab\n"
     ],
     "output_type": "stream"
    }
   ],
   "source": [
    "def longestCommonPrefix(strs) -> str:\n",
    "\n",
    "    res = ''\n",
    "    flag = True\n",
    "    n = 0\n",
    "    if len(strs) == 0:\n",
    "        return ''\n",
    "    if len(strs) == 1:\n",
    "        return strs[0]\n",
    "    \n",
    "    \n",
    "    for i in range(len(strs[0])):\n",
    "        tmp = strs[0][i]\n",
    "        for j in range(1,len(strs)):\n",
    "            if i == len(strs[j]) or tmp != strs[j][i] :  \n",
    "                return strs[0][0:i]\n",
    "\n",
    "    return strs[0]\n",
    "    '''\n",
    "    if len(strs) == 0:\n",
    "        return ''\n",
    "    for i in range(len(strs[0])):\n",
    "        c = strs[0][i]\n",
    "        for j in range(1,len(strs)):\n",
    "            if i == len(strs[j]) or strs[j][i] != c:\n",
    "                return strs[0][0:i]\n",
    "    return strs[0]\n",
    "    '''\n",
    "        \n",
    "strs = ['ab']\n",
    "s = longestCommonPrefix(strs)\n",
    "print('res = ', s)"
   ]
  },
  {
   "cell_type": "code",
   "execution_count": 6,
   "metadata": {},
   "outputs": [],
   "source": [
    "#########################\n",
    "########################"
   ]
  },
  {
   "cell_type": "code",
   "execution_count": null,
   "metadata": {},
   "outputs": [],
   "source": [
    "# strs = [\"flower\",\"flow\",\"flight\",\"fuck\"]\n",
    "strs = ['','']\n",
    "lens = len(strs)\n",
    "res = ''\n",
    "\n",
    "flag = True\n",
    "j=0\n",
    "\n",
    "if '' in strs:\n",
    "    res = ''\n",
    "\n",
    "if lens == 1:\n",
    "    res = strs[0]\n",
    "\n",
    "if lens >= 2:\n",
    "    while(flag):\n",
    "        for i in range(0,lens-1):\n",
    "\n",
    "            if strs[i][0:j+1] == strs[i+1][0:j+1]:\n",
    "\n",
    "                if i == lens-2:\n",
    "                    flag = True\n",
    "                    j = j + 1\n",
    "                    res = strs[0][0:j]\n",
    "\n",
    "                else:\n",
    "                    flag = False\n",
    "            else:\n",
    "                flag = False\n",
    "    \n",
    "print('res:',res)\n",
    "    \n",
    "print('# # # # # # ')\n",
    "\n"
   ]
  },
  {
   "cell_type": "code",
   "execution_count": 71,
   "metadata": {
    "pycharm": {
     "is_executing": false
    }
   },
   "outputs": [
    {
     "traceback": [
      "\u001b[1;36m  File \u001b[1;32m\"<ipython-input-71-d6c482983c06>\"\u001b[1;36m, line \u001b[1;32m6\u001b[0m\n\u001b[1;33m    if (i*j==25):\u001b[0m\n\u001b[1;37m                 ^\u001b[0m\n\u001b[1;31mTabError\u001b[0m\u001b[1;31m:\u001b[0m inconsistent use of tabs and spaces in indentation\n"
     ],
     "ename": "TabError",
     "evalue": "inconsistent use of tabs and spaces in indentation (<ipython-input-71-d6c482983c06>, line 6)",
     "output_type": "error"
    }
   ],
   "source": [
    "for i in range(8):\n",
    "    print (\"i:\",i)\n",
    "    for j in range(8):\n",
    "    \tprint (\"j:\",j)\n",
    "        if (i*j==25):\n",
    "            \n",
    "            print (j)\n",
    "            break\n",
    "        else:\n",
    "            print (u\"退出第一次FOR\")\n",
    "            continue\n",
    "    break\n",
    "print (u\"退出第二次FOR\")\n"
   ]
  }
 ],
 "metadata": {
  "kernelspec": {
   "display_name": "Python 3",
   "language": "python",
   "name": "python3"
  },
  "language_info": {
   "codemirror_mode": {
    "name": "ipython",
    "version": 3
   },
   "file_extension": ".py",
   "mimetype": "text/x-python",
   "name": "python",
   "nbconvert_exporter": "python",
   "pygments_lexer": "ipython3",
   "version": "3.7.3"
  },
  "pycharm": {
   "stem_cell": {
    "cell_type": "raw",
    "source": [],
    "metadata": {
     "collapsed": false
    }
   }
  }
 },
 "nbformat": 4,
 "nbformat_minor": 2
}