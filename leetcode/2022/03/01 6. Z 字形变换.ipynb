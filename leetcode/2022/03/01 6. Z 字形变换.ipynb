{
 "cells": [
  {
   "cell_type": "markdown",
   "metadata": {},
   "source": [
    "6. Z 字形变换\n",
    "将一个给定字符串 s 根据给定的行数 numRows ，以从上往下、从左到右进行 Z 字形排列。\n",
    "\n",
    "比如输入字符串为 \"PAYPALISHIRING\" 行数为 3 时，排列如下：\n",
    "\n",
    "P   A   H   N\n",
    "A P L S I I G\n",
    "Y   I   R\n",
    "之后，你的输出需要从左往右逐行读取，产生出一个新的字符串，比如：\"PAHNAPLSIIGYIR\"。\n",
    "\n",
    "请你实现这个将字符串进行指定行数变换的函数：\n",
    "\n",
    "string convert(string s, int numRows);\n",
    " \n",
    "\n",
    "示例 1：\n",
    "\n",
    "输入：s = \"PAYPALISHIRING\", numRows = 3\n",
    "输出：\"PAHNAPLSIIGYIR\"\n",
    "示例 2：\n",
    "输入：s = \"PAYPALISHIRING\", numRows = 4\n",
    "输出：\"PINALSIGYAHRPI\"\n",
    "解释：\n",
    "P     I    N\n",
    "A   L S  I G\n",
    "Y A   H R\n",
    "P     I\n",
    "示例 3：\n",
    "\n",
    "输入：s = \"A\", numRows = 1\n",
    "输出：\"A\"\n",
    " \n",
    "\n",
    "提示：\n",
    "\n",
    "1 <= s.length <= 1000\n",
    "s 由英文字母（小写和大写）、',' 和 '.' 组成\n",
    "1 <= numRows <= 1000"
   ]
  },
  {
   "cell_type": "code",
   "execution_count": 2,
   "metadata": {},
   "outputs": [],
   "source": [
    "def convert(self, s: str, numRows: int) -> str:\n",
    "    if numRows == 1:\n",
    "        return s\n",
    "\n",
    "    n = len(s)\n",
    "    arr = [[0] * n for _ in range(numRows)]\n",
    "    r = c = 0\n",
    "    direction = -1\n",
    "    for v in s:\n",
    "        if direction == -1:\n",
    "            arr[r][c] = v\n",
    "            r += 1\n",
    "            if r >= numRows:\n",
    "                r -= 2\n",
    "                c+=1\n",
    "                direction = 1\n",
    "    \n",
    "        elif direction == 1:\n",
    "            arr[r][c] = v\n",
    "            r -= 1\n",
    "            c += 1\n",
    "            if r <= -1:\n",
    "                r += 2\n",
    "                c -= 1\n",
    "                direction = -1\n",
    "\n",
    "    ans = ''\n",
    "    for row in arr:\n",
    "        for val in row:\n",
    "            if isinstance(val, str):\n",
    "                ans += val\n",
    "\n",
    "    return ans"
   ]
  },
  {
   "cell_type": "code",
   "execution_count": null,
   "metadata": {},
   "outputs": [],
   "source": [
    "s = \"PAYPALISHIRING\"\n",
    "numRows = 3\n",
    "\n"
   ]
  }
 ],
 "metadata": {
  "interpreter": {
   "hash": "a8415834e63a09e6b568761fadaaf012b2f6c5d86989cdbeae6807bb85c1f6f7"
  },
  "kernelspec": {
   "display_name": "Python 3.7.9 64-bit",
   "language": "python",
   "name": "python3"
  },
  "language_info": {
   "codemirror_mode": {
    "name": "ipython",
    "version": 3
   },
   "file_extension": ".py",
   "mimetype": "text/x-python",
   "name": "python",
   "nbconvert_exporter": "python",
   "pygments_lexer": "ipython3",
   "version": "3.7.9"
  },
  "orig_nbformat": 4
 },
 "nbformat": 4,
 "nbformat_minor": 2
}
