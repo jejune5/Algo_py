{
 "cells": [
  {
   "cell_type": "markdown",
   "metadata": {},
   "source": [
    "688. 骑士在棋盘上的概率\n",
    "在一个 n x n 的国际象棋棋盘上，一个骑士从单元格 (row, column) 开始，并尝试进行 k 次移动。行和列是 从 0 开始 的，所以左上单元格是 (0,0) ，右下单元格是 (n - 1, n - 1) 。\n",
    "\n",
    "象棋骑士有8种可能的走法，如下图所示。每次移动在基本方向上是两个单元格，然后在正交方向上是一个单元格。\n",
    "\n",
    "\n",
    "\n",
    "每次骑士要移动时，它都会随机从8种可能的移动中选择一种(即使棋子会离开棋盘)，然后移动到那里。\n",
    "\n",
    "骑士继续移动，直到它走了 k 步或离开了棋盘。\n",
    "\n",
    "返回 骑士在棋盘停止移动后仍留在棋盘上的概率 。\n",
    "![avatar](https://assets.leetcode-cn.com/aliyun-lc-upload/uploads/2018/10/12/knight.png)\n",
    " \n",
    "\n",
    "- 示例 1：\n",
    "\n",
    "输入: n = 3, k = 2, row = 0, column = 0\n",
    "输出: 0.0625\n",
    "解释: 有两步(到(1,2)，(2,1))可以让骑士留在棋盘上。\n",
    "在每一个位置上，也有两种移动可以让骑士留在棋盘上。\n",
    "骑士留在棋盘上的总概率是0.0625。\n",
    "\n",
    "- 示例 2：\n",
    "\n",
    "输入: n = 1, k = 0, row = 0, column = 0\n",
    "输出: 1.00000\n",
    " \n",
    "\n",
    "提示:\n",
    "\n",
    "1 <= n <= 25\n",
    "0 <= k <= 100\n",
    "0 <= row, column <= n"
   ]
  },
  {
   "cell_type": "code",
   "execution_count": null,
   "metadata": {},
   "outputs": [],
   "source": [
    "def knightProbability(n: int, k: int, row: int, column: int) -> float:"
   ]
  },
  {
   "cell_type": "code",
   "execution_count": 1,
   "metadata": {},
   "outputs": [],
   "source": [
    "n = 3\n",
    "k = 2\n",
    "row = 0\n",
    "column = 0"
   ]
  },
  {
   "cell_type": "code",
   "execution_count": null,
   "metadata": {},
   "outputs": [],
   "source": []
  }
 ],
 "metadata": {
  "interpreter": {
   "hash": "916d4c8f27f8e23dc8aa43de9f24fa759ac88bf0b6eb47d47ac0e09471a05f19"
  },
  "kernelspec": {
   "display_name": "Python 3.7.9",
   "language": "python",
   "name": "python3"
  },
  "language_info": {
   "codemirror_mode": {
    "name": "ipython",
    "version": 3
   },
   "file_extension": ".py",
   "mimetype": "text/x-python",
   "name": "python",
   "nbconvert_exporter": "python",
   "pygments_lexer": "ipython3",
   "version": "3.7.9"
  },
  "orig_nbformat": 4
 },
 "nbformat": 4,
 "nbformat_minor": 2
}
