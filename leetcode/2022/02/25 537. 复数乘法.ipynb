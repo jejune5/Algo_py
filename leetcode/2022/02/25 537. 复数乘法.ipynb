{
 "cells": [
  {
   "cell_type": "markdown",
   "metadata": {},
   "source": [
    "537. 复数乘法\n",
    "复数 可以用字符串表示，遵循 \"实部+虚部i\" 的形式，并满足下述条件：\n",
    "\n",
    "实部 是一个整数，取值范围是 [-100, 100]\n",
    "虚部 也是一个整数，取值范围是 [-100, 100]\n",
    "i2 == -1\n",
    "给你两个字符串表示的复数 num1 和 num2 ，请你遵循复数表示形式，返回表示它们乘积的字符串。\n",
    "\n",
    " \n",
    "\n",
    "示例 1：\n",
    "\n",
    "输入：num1 = \"1+1i\", num2 = \"1+1i\"\n",
    "输出：\"0+2i\"\n",
    "解释：(1 + i) * (1 + i) = 1 + i2 + 2 * i = 2i ，你需要将它转换为 0+2i 的形式。\n",
    "示例 2：\n",
    "\n",
    "输入：num1 = \"1+-1i\", num2 = \"1+-1i\"\n",
    "输出：\"0+-2i\"\n",
    "解释：(1 - i) * (1 - i) = 1 + i2 - 2 * i = -2i ，你需要将它转换为 0+-2i 的形式。 \n",
    " \n",
    "\n",
    "提示：\n",
    "\n",
    "num1 和 num2 都是有效的复数表示。"
   ]
  },
  {
   "cell_type": "code",
   "execution_count": 2,
   "metadata": {},
   "outputs": [
    {
     "data": {
      "text/plain": [
       "'0+-2i'"
      ]
     },
     "execution_count": 2,
     "metadata": {},
     "output_type": "execute_result"
    }
   ],
   "source": [
    "def complexNumberMultiply(num1: str, num2: str) -> str:\n",
    "    num1_re, num1_im = int(num1.split('+')[0]), int(num1.split('+')[1][:-1])\n",
    "    num2_re, num2_im = int(num2.split('+')[0]), int(num2.split('+')[1][:-1])\n",
    "\n",
    "    re = num1_re*num2_re - num1_im*num2_im\n",
    "    im = num1_re*num2_im + num2_re*num1_im\n",
    "\n",
    "    return str(re)+'+'+str(im)+'i'\n",
    "\n",
    "num1 = \"1+-1i\"\n",
    "num2 = \"1+-1i\"\n",
    "ans = complexNumberMultiply(num1, num2)\n",
    "ans"
   ]
  },
  {
   "cell_type": "code",
   "execution_count": null,
   "metadata": {},
   "outputs": [],
   "source": []
  }
 ],
 "metadata": {
  "interpreter": {
   "hash": "a8415834e63a09e6b568761fadaaf012b2f6c5d86989cdbeae6807bb85c1f6f7"
  },
  "kernelspec": {
   "display_name": "Python 3.7.9 64-bit",
   "language": "python",
   "name": "python3"
  },
  "language_info": {
   "codemirror_mode": {
    "name": "ipython",
    "version": 3
   },
   "file_extension": ".py",
   "mimetype": "text/x-python",
   "name": "python",
   "nbconvert_exporter": "python",
   "pygments_lexer": "ipython3",
   "version": "3.7.9"
  },
  "orig_nbformat": 4
 },
 "nbformat": 4,
 "nbformat_minor": 2
}
