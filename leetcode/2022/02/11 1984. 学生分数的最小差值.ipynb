{
 "cells": [
  {
   "cell_type": "markdown",
   "metadata": {
    "collapsed": true,
    "pycharm": {
     "name": "#%% md\n"
    }
   },
   "source": [
    "1984. 学生分数的最小差值\n",
    "给你一个 下标从 0 开始 的整数数组 nums ，其中 nums[i] 表示第 i 名学生的分数。另给你一个整数 k 。\n",
    "\n",
    "从数组中选出任意 k 名学生的分数，使这 k 个分数间 最高分 和 最低分 的 差值 达到 最小化 。\n",
    "\n",
    "返回可能的 最小差值 。\n",
    "\n",
    "\n",
    "\n",
    "示例 1：\n",
    "\n",
    "输入：nums = [90], k = 1\n",
    "输出：0\n",
    "解释：选出 1 名学生的分数，仅有 1 种方法：\n",
    "- [90] 最高分和最低分之间的差值是 90 - 90 = 0\n",
    "可能的最小差值是 0\n",
    "示例 2：\n",
    "\n",
    "输入：nums = [9,4,1,7], k = 2\n",
    "输出：2\n",
    "解释：选出 2 名学生的分数，有 6 种方法：\n",
    "- [9,4,1,7] 最高分和最低分之间的差值是 9 - 4 = 5\n",
    "- [9,4,1,7] 最高分和最低分之间的差值是 9 - 1 = 8\n",
    "- [9,4,1,7] 最高分和最低分之间的差值是 9 - 7 = 2\n",
    "- [9,4,1,7] 最高分和最低分之间的差值是 4 - 1 = 3\n",
    "- [9,4,1,7] 最高分和最低分之间的差值是 7 - 4 = 3\n",
    "- [9,4,1,7] 最高分和最低分之间的差值是 7 - 1 = 6\n",
    "可能的最小差值是 2\n",
    "\n",
    "\n",
    "提示：\n",
    "\n",
    "1 <= k <= nums.length <= 1000\n",
    "0 <= nums[i] <= 105"
   ]
  },
  {
   "cell_type": "code",
   "execution_count": 16,
   "outputs": [
    {
     "name": "stdout",
     "output_type": "stream",
     "text": [
      "[9918, 21297, 44530, 61094, 87063, 93551]\n",
      "83633\n",
      "[21297, 44530, 61094, 87063, 93551, 95857]\n",
      "74560\n",
      "74560\n"
     ]
    }
   ],
   "source": [
    "\n",
    "\n",
    "\n",
    "\n",
    "\n",
    "\n",
    "\n",
    "def minimumDifference(nums, k: int) -> int:\n",
    "    n = len(nums)\n",
    "    if n==1 or k == 1:\n",
    "        return 0\n",
    "\n",
    "    else:\n",
    "        nums.sort()\n",
    "        ans = max(nums) - min(nums)\n",
    "        for i in range(len(nums) - k + 1):\n",
    "            print(nums[i:i + k])\n",
    "            delta = nums[i:i + k][-1] - nums[i:i + k][0]\n",
    "            print(delta)\n",
    "            if ans > delta:\n",
    "                ans = delta\n",
    "        return ans\n",
    "\n",
    "nums = [87063,61094,44530,21297,95857,93551,9918]\n",
    "k = 6\n",
    "# 74560\n",
    "# nums = [9, 4, 1, 7]\n",
    "# k = 1\n",
    "ans = minimumDifference(nums, k)\n",
    "print(ans)\n",
    "\n",
    "\n",
    "\n",
    "\n",
    "\n",
    "\n",
    "\n",
    "\n",
    "\n",
    "\n",
    "\n",
    "\n"
   ],
   "metadata": {
    "collapsed": false,
    "pycharm": {
     "name": "#%%\n"
    }
   }
  }
 ],
 "metadata": {
  "kernelspec": {
   "display_name": "Python 3",
   "language": "python",
   "name": "python3"
  },
  "language_info": {
   "codemirror_mode": {
    "name": "ipython",
    "version": 2
   },
   "file_extension": ".py",
   "mimetype": "text/x-python",
   "name": "python",
   "nbconvert_exporter": "python",
   "pygments_lexer": "ipython2",
   "version": "2.7.6"
  }
 },
 "nbformat": 4,
 "nbformat_minor": 0
}