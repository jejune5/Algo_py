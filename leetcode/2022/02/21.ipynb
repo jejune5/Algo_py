{
 "cells": [
  {
   "cell_type": "markdown",
   "metadata": {},
   "source": [
    "838. 推多米诺\n",
    "n 张多米诺骨牌排成一行，将每张多米诺骨牌垂直竖立。在开始时，同时把一些多米诺骨牌向左或向右推。\n",
    "\n",
    "每过一秒，倒向左边的多米诺骨牌会推动其左侧相邻的多米诺骨牌。同样地，倒向右边的多米诺骨牌也会推动竖立在其右侧的相邻多米诺骨牌。\n",
    "\n",
    "如果一张垂直竖立的多米诺骨牌的两侧同时有多米诺骨牌倒下时，由于受力平衡， 该骨牌仍然保持不变。\n",
    "\n",
    "就这个问题而言，我们会认为一张正在倒下的多米诺骨牌不会对其它正在倒下或已经倒下的多米诺骨牌施加额外的力。\n",
    "\n",
    "给你一个字符串 dominoes 表示这一行多米诺骨牌的初始状态，其中：\n",
    "\n",
    "dominoes[i] = 'L'，表示第 i 张多米诺骨牌被推向左侧，\n",
    "dominoes[i] = 'R'，表示第 i 张多米诺骨牌被推向右侧，\n",
    "dominoes[i] = '.'，表示没有推动第 i 张多米诺骨牌。\n",
    "返回表示最终状态的字符串。\n",
    "\n",
    " \n",
    "示例 1：\n",
    "\n",
    "输入：dominoes = \"RR.L\"\n",
    "输出：\"RR.L\"\n",
    "解释：第一张多米诺骨牌没有给第二张施加额外的力。\n",
    "示例 2：\n",
    "\n",
    "![avatar](https://s3-lc-upload.s3.amazonaws.com/uploads/2018/05/18/domino.png)\n",
    "输入：dominoes = \".L.R...LR..L..\"\n",
    "输出：\"LL.RR.LLRRLL..\"\n",
    " \n",
    "\n",
    "提示：\n",
    "\n",
    "n == dominoes.length\n",
    "1 <= n <= 105\n",
    "dominoes[i] 为 'L'、'R' 或 '.'"
   ]
  },
  {
   "cell_type": "code",
   "execution_count": null,
   "metadata": {},
   "outputs": [],
   "source": [
    "def pushDominoes(dominoes: str) -> str:\n",
    "    i = 0\n",
    "    n = len(dominoes)\n",
    "    print(n)\n",
    "    while i < n:\n",
    "        if dominoes[i] == '.':\n",
    "            dot_l = i - 1\n",
    "            dot_r = i + 1\n",
    "            print(dot_l,dot_r)\n",
    "            while dot_l > 0 and dominoes[dot_l] != '.' :\n",
    "                dot_l-=1\n",
    "            while dot_r < n and dominoes[dot_r] != '.' :\n",
    "                dot_r+=1\n",
    "\n",
    "            print(dot_l,i,dot_r)\n",
    "\n",
    "\n",
    "\n",
    "        i+=1\n",
    "    return 'a'\n",
    "\n",
    "\n",
    "# dominoes = \".L.R...LR..L..\"\n",
    "dominoes = \"RR.L\"\n",
    "# \"LL.RR.LLRRLL..\"\n",
    "ans = pushDominoes(dominoes)\n",
    "print(ans)\n",
    "\n",
    "#%%\n",
    "a = '.L.R...LR..L..'.replace('.', '0')\n",
    "print(a)\n"
   ]
  }
 ],
 "metadata": {
  "interpreter": {
   "hash": "a8415834e63a09e6b568761fadaaf012b2f6c5d86989cdbeae6807bb85c1f6f7"
  },
  "kernelspec": {
   "display_name": "Python 3.7.9 64-bit",
   "language": "python",
   "name": "python3"
  },
  "language_info": {
   "name": "python",
   "version": "3.7.9"
  },
  "orig_nbformat": 4
 },
 "nbformat": 4,
 "nbformat_minor": 2
}
