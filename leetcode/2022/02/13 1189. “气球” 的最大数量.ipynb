{
 "cells": [
  {
   "cell_type": "markdown",
   "metadata": {
    "collapsed": true,
    "pycharm": {
     "name": "#%% md\n"
    }
   },
   "source": [
    "1189. “气球” 的最大数量\n",
    "给你一个字符串 text，你需要使用 text 中的字母来拼凑尽可能多的单词 \"balloon\"（气球）。\n",
    "\n",
    "字符串 text 中的每个字母最多只能被使用一次。请你返回最多可以拼凑出多少个单词 \"balloon\"。\n",
    "\n",
    "\n",
    "\n",
    "示例 1：\n",
    "\n",
    "\n",
    "\n",
    "输入：text = \"nlaebolko\"\n",
    "输出：1\n",
    "示例 2：\n",
    "\n",
    "\n",
    "\n",
    "输入：text = \"loonbalxballpoon\"\n",
    "输出：2\n",
    "示例 3：\n",
    "\n",
    "输入：text = \"leetcode\"\n",
    "输出：0"
   ]
  },
  {
   "cell_type": "code",
   "execution_count": 9,
   "outputs": [
    {
     "name": "stdout",
     "output_type": "stream",
     "text": [
      "1\n"
     ]
    }
   ],
   "source": [
    "def maxNumberOfBalloons(text: str) -> int:\n",
    "    count = {\n",
    "        'b':0,\n",
    "        'a':0,\n",
    "        'l':0,\n",
    "        'o':0,\n",
    "        'n':0\n",
    "    }\n",
    "    for s in text:\n",
    "        if s in count:\n",
    "            count.update({s:count[s]+1})\n",
    "    count.update({'l':count['l']//2,\n",
    "                  'o':count['o']//2})\n",
    "    return min(count.values())\n",
    "\n",
    "text = \"nlaebolko\"\n",
    "ans = maxNumberOfBalloons(text)\n",
    "print(ans)"
   ],
   "metadata": {
    "collapsed": false,
    "pycharm": {
     "name": "#%%\n"
    }
   }
  }
 ],
 "metadata": {
  "kernelspec": {
   "display_name": "Python 3",
   "language": "python",
   "name": "python3"
  },
  "language_info": {
   "codemirror_mode": {
    "name": "ipython",
    "version": 2
   },
   "file_extension": ".py",
   "mimetype": "text/x-python",
   "name": "python",
   "nbconvert_exporter": "python",
   "pygments_lexer": "ipython2",
   "version": "2.7.6"
  }
 },
 "nbformat": 4,
 "nbformat_minor": 0
}