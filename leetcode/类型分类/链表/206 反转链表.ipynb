{
 "cells": [
  {
   "cell_type": "markdown",
   "metadata": {
    "collapsed": true,
    "pycharm": {
     "name": "#%% md\n"
    }
   },
   "source": [
    "206. 反转链表\n",
    "给你单链表的头节点 head ，请你反转链表，并返回反转后的链表。\n",
    "\n",
    "\n",
    "示例 1：\n",
    "![image](https://assets.leetcode.com/uploads/2021/02/19/rev1ex1.jpg)\n",
    "\n",
    "输入：head = [1,2,3,4,5]\n",
    "输出：[5,4,3,2,1]\n",
    "示例 2：\n",
    "\n",
    "![image](https://assets.leetcode.com/uploads/2021/02/19/rev1ex2.jpg)\n",
    "输入：head = [1,2]\n",
    "输出：[2,1]\n",
    "示例 3：\n",
    "\n",
    "输入：head = []\n",
    "输出：[]\n",
    "\n",
    "\n",
    "提示：\n",
    "\n",
    "链表中节点的数目范围是 [0, 5000]\n",
    "-5000 <= Node.val <= 5000"
   ]
  },
  {
   "cell_type": "code",
   "execution_count": 2,
   "outputs": [],
   "source": [
    "from DataStructure.ListNode import ListNode, list2ListNode, listNode2List"
   ],
   "metadata": {
    "collapsed": false,
    "pycharm": {
     "name": "#%%\n"
    }
   }
  },
  {
   "cell_type": "code",
   "execution_count": 3,
   "outputs": [],
   "source": [
    "# 方法一：循环法\n",
    "def reverseList(head: ListNode) -> ListNode:\n",
    "    pre = None\n",
    "    cur = head\n",
    "\n",
    "    while cur:\n",
    "        next_tmp = cur.next\n",
    "        cur.next = pre\n",
    "        pre = cur\n",
    "        cur = next_tmp\n",
    "    return pre"
   ],
   "metadata": {
    "collapsed": false,
    "pycharm": {
     "name": "#%%\n"
    }
   }
  },
  {
   "cell_type": "code",
   "execution_count": 4,
   "outputs": [
    {
     "name": "stdout",
     "output_type": "stream",
     "text": [
      "[5, 4, 3, 2, 1]\n"
     ]
    }
   ],
   "source": [
    "# 方法二：递归法\n",
    "\n",
    "def reverseList(head: ListNode) -> ListNode:\n",
    "    if head is None or head.next is None:\n",
    "        return head\n",
    "\n",
    "    new_head = reverseList(head.next)\n",
    "    head.next.next = head\n",
    "    head.next = None\n",
    "    return new_head\n",
    "\n",
    "\n",
    "\n",
    "\n",
    "\n",
    "head = [1,2,3,4,5]\n",
    "head = list2ListNode(head)\n",
    "ans = reverseList(head)\n",
    "ans = listNode2List(ans)\n",
    "print(ans)"
   ],
   "metadata": {
    "collapsed": false,
    "pycharm": {
     "name": "#%%\n"
    }
   }
  },
  {
   "cell_type": "code",
   "execution_count": 4,
   "outputs": [],
   "source": [],
   "metadata": {
    "collapsed": false,
    "pycharm": {
     "name": "#%%\n"
    }
   }
  }
 ],
 "metadata": {
  "kernelspec": {
   "display_name": "Python 3",
   "language": "python",
   "name": "python3"
  },
  "language_info": {
   "codemirror_mode": {
    "name": "ipython",
    "version": 2
   },
   "file_extension": ".py",
   "mimetype": "text/x-python",
   "name": "python",
   "nbconvert_exporter": "python",
   "pygments_lexer": "ipython2",
   "version": "2.7.6"
  }
 },
 "nbformat": 4,
 "nbformat_minor": 0
}