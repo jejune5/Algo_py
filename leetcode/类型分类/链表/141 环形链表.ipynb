{
 "cells": [
  {
   "cell_type": "markdown",
   "metadata": {
    "collapsed": true,
    "pycharm": {
     "name": "#%% md\n"
    }
   },
   "source": [
    "141. 环形链表\n",
    "给你一个链表的头节点 head ，判断链表中是否有环。\n",
    "\n",
    "如果链表中有某个节点，可以通过连续跟踪 next 指针再次到达，则链表中存在环。 为了表示给定链表中的环，评测系统内部使用整数 pos 来表示链表尾连接到链表中的位置（索引从 0 开始）。注意：pos 不作为参数进行传递 。仅仅是为了标识链表的实际情况。\n",
    "\n",
    "如果链表中存在环 ，则返回 true 。 否则，返回 false 。\n",
    "\n",
    "\n",
    "\n",
    "示例 1：\n",
    "![image](https://assets.leetcode-cn.com/aliyun-lc-upload/uploads/2018/12/07/circularlinkedlist.png)\n",
    "\n",
    "\n",
    "输入：head = [3,2,0,-4], pos = 1\n",
    "输出：true\n",
    "解释：链表中有一个环，其尾部连接到第二个节点。\n",
    "示例 2：\n",
    "\n",
    "![image](https://assets.leetcode-cn.com/aliyun-lc-upload/uploads/2018/12/07/circularlinkedlist_test2.png)\n",
    "\n",
    "输入：head = [1,2], pos = 0\n",
    "输出：true\n",
    "解释：链表中有一个环，其尾部连接到第一个节点。\n",
    "示例 3：\n",
    "\n",
    "![image](https://assets.leetcode-cn.com/aliyun-lc-upload/uploads/2018/12/07/circularlinkedlist_test3.png)\n",
    "\n",
    "输入：head = [1], pos = -1\n",
    "输出：false\n",
    "解释：链表中没有环。\n",
    "\n",
    "\n",
    "提示：\n",
    "\n",
    "链表中节点的数目范围是 [0, 104]\n",
    "-105 <= Node.val <= 105\n",
    "pos 为 -1 或者链表中的一个 有效索引 。"
   ]
  },
  {
   "cell_type": "code",
   "execution_count": null,
   "outputs": [],
   "source": [
    "from DataStructure.ListNode import ListNode, listNode2List, list2ListNode\n",
    "\n",
    "\n",
    "# 快慢指针法\n",
    "def hasCycle(head: ListNode) -> bool:\n",
    "    if head is None:\n",
    "        return False\n",
    "    fast = head.next\n",
    "    while head and fast.next:\n",
    "        if head == fast.next:\n",
    "            return True\n",
    "        head = head.next\n",
    "        fast = fast.next.next\n",
    "    return False\n",
    "\n",
    "\n",
    "ans = hasCycle()\n"
   ],
   "metadata": {
    "collapsed": false,
    "pycharm": {
     "name": "#%%\n"
    }
   }
  }
 ],
 "metadata": {
  "kernelspec": {
   "display_name": "Python 3",
   "language": "python",
   "name": "python3"
  },
  "language_info": {
   "codemirror_mode": {
    "name": "ipython",
    "version": 2
   },
   "file_extension": ".py",
   "mimetype": "text/x-python",
   "name": "python",
   "nbconvert_exporter": "python",
   "pygments_lexer": "ipython2",
   "version": "2.7.6"
  }
 },
 "nbformat": 4,
 "nbformat_minor": 0
}