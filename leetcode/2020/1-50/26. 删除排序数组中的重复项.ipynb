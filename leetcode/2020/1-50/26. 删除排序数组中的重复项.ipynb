{
 "cells": [
  {
   "cell_type": "code",
   "execution_count": 24,
   "metadata": {},
   "outputs": [],
   "source": [
    "def removeDuplicates(nums) -> int:\n",
    "    #不存在重复数字的数组长度\n",
    "    i = 0\n",
    "    \n",
    "    for j in range(1,len(nums)):\n",
    "        \n",
    "        if nums[j] not in nums[0:i+1]:\n",
    "            print(j,'= = = =',nums[j])\n",
    "            print(nums,' + + + + +',nums[0:i])\n",
    "            i = i+1\n",
    "            nums[i] = nums[j]\n",
    "            \n",
    "    return i+1\n"
   ]
  },
  {
   "cell_type": "code",
   "execution_count": 26,
   "metadata": {},
   "outputs": [
    {
     "name": "stdout",
     "output_type": "stream",
     "text": [
      "2 = = = = 1\n",
      "[0, 0, 1, 1, 1, 2, 2, 3, 3, 4]  + + + + + []\n",
      "5 = = = = 2\n",
      "[0, 1, 1, 1, 1, 2, 2, 3, 3, 4]  + + + + + [0]\n",
      "7 = = = = 3\n",
      "[0, 1, 2, 1, 1, 2, 2, 3, 3, 4]  + + + + + [0, 1]\n",
      "9 = = = = 4\n",
      "[0, 1, 2, 3, 1, 2, 2, 3, 3, 4]  + + + + + [0, 1, 2]\n",
      "5\n"
     ]
    }
   ],
   "source": [
    "a = [0,0,1,1,1,2,2,3,3,4]\n",
    "b = removeDuplicates(a)\n",
    "print(b)"
   ]
  },
  {
   "cell_type": "code",
   "execution_count": null,
   "metadata": {},
   "outputs": [],
   "source": []
  }
 ],
 "metadata": {
  "kernelspec": {
   "display_name": "Python 3",
   "language": "python",
   "name": "python3"
  },
  "language_info": {
   "codemirror_mode": {
    "name": "ipython",
    "version": 3
   },
   "file_extension": ".py",
   "mimetype": "text/x-python",
   "name": "python",
   "nbconvert_exporter": "python",
   "pygments_lexer": "ipython3",
   "version": "3.7.3"
  }
 },
 "nbformat": 4,
 "nbformat_minor": 4
}
