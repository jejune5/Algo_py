{
 "cells": [
  {
   "cell_type": "code",
   "execution_count": 36,
   "metadata": {},
   "outputs": [],
   "source": [
    "haystack = \"mississippi\"\n",
    "needle =\"pi\""
   ]
  },
  {
   "cell_type": "code",
   "execution_count": 41,
   "metadata": {},
   "outputs": [],
   "source": [
    "def strStr(haystack: str, needle: str) -> int:\n",
    "    \n",
    "    len_needle = len(needle)\n",
    "    len_haystack = len(haystack)\n",
    "    res = -1\n",
    "    \n",
    "    if len_haystack == len_needle:\n",
    "        if haystack == needle:\n",
    "            res = 0\n",
    "    \n",
    "    elif len_haystack > len_needle:\n",
    "        for i in range(0,len_haystack-len_needle+1):\n",
    "            if haystack[i:i+len_needle] == needle:\n",
    "                res = i\n",
    "                break\n",
    "    \n",
    "    return res"
   ]
  },
  {
   "cell_type": "code",
   "execution_count": 42,
   "metadata": {},
   "outputs": [
    {
     "name": "stdout",
     "output_type": "stream",
     "text": [
      "9\n"
     ]
    }
   ],
   "source": [
    "a = strStr(haystack,needle)\n",
    "print(a)"
   ]
  },
  {
   "cell_type": "code",
   "execution_count": null,
   "metadata": {},
   "outputs": [],
   "source": []
  }
 ],
 "metadata": {
  "kernelspec": {
   "display_name": "Python 3",
   "language": "python",
   "name": "python3"
  },
  "language_info": {
   "codemirror_mode": {
    "name": "ipython",
    "version": 3
   },
   "file_extension": ".py",
   "mimetype": "text/x-python",
   "name": "python",
   "nbconvert_exporter": "python",
   "pygments_lexer": "ipython3",
   "version": "3.7.3"
  }
 },
 "nbformat": 4,
 "nbformat_minor": 2
}
