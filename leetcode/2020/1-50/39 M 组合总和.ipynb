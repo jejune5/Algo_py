{
 "cells": [
  {
   "cell_type": "code",
   "execution_count": 14,
   "metadata": {
    "collapsed": true,
    "pycharm": {
     "is_executing": false,
     "name": "#%%\n"
    }
   },
   "outputs": [
    {
     "name": "stdout",
     "text": [
      "[[7]]\n"
     ],
     "output_type": "stream"
    }
   ],
   "source": [
    "'''\n",
    "给定一个无重复元素的数组 candidates 和一个目标数 target ，找出 candidates 中所有可以使数字和为 target 的组合。\n",
    "\n",
    "candidates 中的数字可以无限制重复被选取。\n",
    "\n",
    "'''\n",
    "\n",
    "###################################\n",
    "def combinationSum(candidates, target):\n",
    "    \n",
    "    import itertools as it\n",
    "    res =[]\n",
    "    n = 0\n",
    "    while(n<=len(candidates)):\n",
    "        for i in it.combinations(candidates,n):\n",
    "            if sorted(list(i)) not in res and sum(list(i)) == target:\n",
    "                res.append(sorted(list(i)))\n",
    "        n+=1\n",
    "    return res   \n",
    "\n",
    "candidates = [2,3,6,7]\n",
    "target = 7\n",
    "t = combinationSum(candidates,target)\n",
    "print(t)\n",
    "\n",
    "\n"
   ]
  }
 ],
 "metadata": {
  "kernelspec": {
   "display_name": "Python 3",
   "language": "python",
   "name": "python3"
  },
  "language_info": {
   "codemirror_mode": {
    "name": "ipython",
    "version": 2
   },
   "file_extension": ".py",
   "mimetype": "text/x-python",
   "name": "python",
   "nbconvert_exporter": "python",
   "pygments_lexer": "ipython2",
   "version": "2.7.6"
  },
  "pycharm": {
   "stem_cell": {
    "cell_type": "raw",
    "source": [],
    "metadata": {
     "collapsed": false
    }
   }
  }
 },
 "nbformat": 4,
 "nbformat_minor": 0
}