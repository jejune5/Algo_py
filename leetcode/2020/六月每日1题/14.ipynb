{
 "cells": [
  {
   "cell_type": "code",
   "execution_count": 1,
   "metadata": {
    "collapsed": true,
    "pycharm": {
     "is_executing": false
    }
   },
   "outputs": [
    {
     "name": "stdout",
     "text": [
      "flight\nf\n"
     ],
     "output_type": "stream"
    }
   ],
   "source": [
    "\n",
    "def longestCommonPrefix(strs) -> str:\n",
    "    \n",
    "    return strs[::][0]\n",
    "\n",
    "\n",
    "\n",
    "strs = [\"flower\",\"flow\",\"flight\"]\n",
    "\n",
    "print(min(strs))\n",
    "# t = longestCommonPrefix(strs)\n",
    "print(strs[0][0])\n",
    "res = ''\n",
    "\n",
    "lens = len(strs)\n",
    "# \n",
    "i = 0\n",
    "while i<len(strs[0]):\n",
    "\n",
    "    l,r = 1, lens\n",
    "    \n",
    "    while l<r:\n",
    "        if strs[l][i] != strs[r][i] or :\n",
    "\n",
    "        l+=1\n",
    "        r-=1\n",
    "    \n",
    "    \n",
    "# for i in range(1,len(strs)):\n",
    "#     \n",
    "#     print(i)"
   ]
  }
 ],
 "metadata": {
  "language_info": {
   "codemirror_mode": {
    "name": "ipython",
    "version": 2
   },
   "file_extension": ".py",
   "mimetype": "text/x-python",
   "name": "python",
   "nbconvert_exporter": "python",
   "pygments_lexer": "ipython2",
   "version": "2.7.6"
  },
  "kernelspec": {
   "name": "python3",
   "language": "python",
   "display_name": "Python 3"
  },
  "pycharm": {
   "stem_cell": {
    "cell_type": "raw",
    "source": [],
    "metadata": {
     "collapsed": false
    }
   }
  }
 },
 "nbformat": 4,
 "nbformat_minor": 0
}