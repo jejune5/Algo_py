{
 "cells": [
  {
   "cell_type": "markdown",
   "metadata": {
    "collapsed": true,
    "pycharm": {
     "name": "#%% md\n"
    }
   },
   "source": [
    "给定一个非负整数数组，你最初位于数组的第一个位置。\n",
    "数组中的每个元素代表你在该位置可以跳跃的最大长度。\n",
    "判断你是否能够到达最后一个位置。\n",
    "\n",
    "示例 1:\n",
    "输入: [2,3,1,1,4]\n",
    "输出: true\n",
    "解释: 我们可以先跳 1 步，从位置 0 到达 位置 1, 然后再从位置 1 跳 3 步到达最后一个位置。"
   ]
  },
  {
   "cell_type": "code",
   "execution_count": 61,
   "outputs": [
    {
     "name": "stdout",
     "text": [
      "True\n"
     ],
     "output_type": "stream"
    }
   ],
   "source": [
    "def canJump(nums):\n",
    "    \n",
    "    n,rightmost = len(nums),0\n",
    "    for i in range(n):\n",
    "        if i <= rightmost:\n",
    "            rightmost = max(rightmost, i+nums[i])\n",
    "            if rightmost >= n-1:\n",
    "                return True\n",
    "    return False\n",
    "\n",
    "nums = [2,3,1,1,4]\n",
    "t = canJump(nums)\n",
    "print(t)"
   ],
   "metadata": {
    "collapsed": false,
    "pycharm": {
     "name": "#%%\n",
     "is_executing": false
    }
   }
  },
  {
   "cell_type": "code",
   "execution_count": 40,
   "outputs": [
    {
     "name": "stdout",
     "text": [
      "0\n1\n2\n3\n4\n"
     ],
     "output_type": "stream"
    }
   ],
   "source": [
    "nums = [2,3,1,1,4]\n",
    "idx = 0\n",
    "\n",
    "n,rightmost = len(nums),0\n",
    "for i in range(n):\n",
    "    if i <= rightmost:\n",
    "        rightmost = max(rightmost, i+nums[i])\n",
    "        if rightmost > n-1:\n",
    "            print(True)\n",
    "\n",
    "    \n",
    "    \n",
    "    print(i)"
   ],
   "metadata": {
    "collapsed": false,
    "pycharm": {
     "name": "#%%\n",
     "is_executing": false
    }
   }
  }
 ],
 "metadata": {
  "kernelspec": {
   "display_name": "Python 3",
   "language": "python",
   "name": "python3"
  },
  "language_info": {
   "codemirror_mode": {
    "name": "ipython",
    "version": 2
   },
   "file_extension": ".py",
   "mimetype": "text/x-python",
   "name": "python",
   "nbconvert_exporter": "python",
   "pygments_lexer": "ipython2",
   "version": "2.7.6"
  },
  "pycharm": {
   "stem_cell": {
    "cell_type": "raw",
    "source": [],
    "metadata": {
     "collapsed": false
    }
   }
  }
 },
 "nbformat": 4,
 "nbformat_minor": 0
}