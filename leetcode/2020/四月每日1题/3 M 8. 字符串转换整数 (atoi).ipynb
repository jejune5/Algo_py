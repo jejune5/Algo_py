{
 "cells": [
  {
   "cell_type": "markdown",
   "source": [
    "8. 字符串转换整数 (atoi)\n",
    "\n",
    "\n",
    "请你来实现一个 atoi 函数，使其能将字符串转换成整数。\n",
    "\n",
    "首先，该函数会根据需要丢弃无用的开头空格字符，直到寻找到第一个非空格的字符为止。接下来的转化规则如下：\n",
    "\n",
    "如果第一个非空字符为正或者负号时，则将该符号与之后面尽可能多的连续数字字符组合起来，形成一个有符号整数。\n",
    "假如第一个非空字符是数字，则直接将其与之后连续的数字字符组合起来，形成一个整数。\n",
    "该字符串在有效的整数部分之后也可能会存在多余的字符，那么这些字符可以被忽略，它们对函数不应该造成影响。\n",
    "注意：假如该字符串中的第一个非空格字符不是一个有效整数字符、字符串为空或字符串仅包含空白字符时，则你的函数不需要进行转换，即无法进行有效转换。\n",
    "\n",
    "在任何情况下，若函数不能进行有效的转换时，请返回 0 。\n",
    "\n",
    "提示：\n",
    "\n",
    "本题中的空白字符只包括空格字符 ' ' 。\n",
    "假设我们的环境只能存储 32 位大小的有符号整数，那么其数值范围为 [−231,  231 − 1]。如果数值超过这个范围，请返回  INT_MAX (231 − 1) 或 INT_MIN (−231) 。\n",
    " "
   ],
   "metadata": {
    "collapsed": false
   }
  },
  {
   "cell_type": "code",
   "execution_count": 403,
   "outputs": [
    {
     "name": "stdout",
     "text": [
      "-1\n"
     ],
     "output_type": "stream"
    }
   ],
   "source": [
    "def myAtoi(str: str) :\n",
    "    \n",
    "    def str2Num(s):\n",
    "        if len(s) == 0 or (len(s) == 1 and not s.isdigit()):\n",
    "            return 0\n",
    "        # if len(s) == 1 and !s.isdigit():\n",
    "                \n",
    "        if len(s)>0 and  s.isdigit() or (s[0] == '-' or s[0] == '+') and  (s[1:].isdigit()):\n",
    "            return int(s)\n",
    "        if len(s)>0 and  (len(s.split('.')) == 2 and s.split('.')[0].isdigit() and s.split('.')[1].isdigit()) or ((s[0] == '-' or s[0] == '+') and(len(s[1:].split('.')) == 2 and s[1:].split('.')[0].isdigit() and s[1:].split('.')[1].isdigit())):\n",
    "            return int(s.split('.')[0])\n",
    "        return 0\n",
    "    \n",
    "    import re\n",
    "    str = re.split(r'\\s+','a '+str)[1]\n",
    "\n",
    "\n",
    "    return str2Num(str) if -2**31 < str2Num(str) < 2**31-1 else -2**31 if str2Num(str) < -2**31 else 2**31-1\n",
    "\n",
    "str = \"-1\"\n",
    "#str = \"   -42\"\n",
    "t = myAtoi(str)\n",
    "print(t)"
   ],
   "metadata": {
    "collapsed": false,
    "pycharm": {
     "name": "#%%\n",
     "is_executing": false
    }
   }
  },
  {
   "cell_type": "code",
   "execution_count": 17,
   "outputs": [
    {
     "name": "stdout",
     "text": [
      "0 49\n1 50\n2 32\n3 32\n4 32\n5 45\n6 52\n7 50\n12-4\n"
     ],
     "output_type": "stream"
    }
   ],
   "source": [
    "str = \"12   -42\"\n",
    "for i, s in enumerate(str):\n",
    "    # if :\n",
    "    print(i,ord(s))\n",
    "ans = ''\n",
    "x = 0\n",
    "y = 0\n",
    "\n",
    "while(x < len(str)-1 and ord(str[x]) < 58):\n",
    "    if ord(str[x]) == 43 or ord(str[x]) == 45 or 47 < ord(str[y]) < 58:\n",
    "        ans += str[x]\n",
    "        y = x +1\n",
    "        while y < len(str)-1 and 47 < ord(str[y]) < 58:\n",
    "            ans += str[y]\n",
    "            y+=1\n",
    "            break\n",
    "        x = y\n",
    "    x+=1\n",
    "print(ans)"
   ],
   "metadata": {
    "collapsed": false,
    "pycharm": {
     "name": "#%%\n",
     "is_executing": false
    }
   }
  },
  {
   "cell_type": "code",
   "execution_count": 133,
   "outputs": [
    {
     "name": "stdout",
     "text": [
      "['a', '-42']\n1111\n-42\n"
     ],
     "output_type": "stream"
    }
   ],
   "source": [
    "str = 'a '+\"   -42\"\n",
    "import re\n",
    "ss = re.split(r'\\s+',str)\n",
    "print(ss)\n",
    "str = ss[1]\n",
    "if str.isdigit() or ((str[0] == '+' or str[0] == '-') and str[1:].isdigit()):\n",
    "    print(1111)\n",
    "\n",
    "print(int(str))\n",
    "# print(str.isdigit())"
   ],
   "metadata": {
    "collapsed": false,
    "pycharm": {
     "name": "#%%\n",
     "is_executing": false
    }
   }
  },
  {
   "cell_type": "code",
   "execution_count": 323,
   "outputs": [
    {
     "name": "stdout",
     "text": [
      "-2\n"
     ],
     "output_type": "stream"
    }
   ],
   "source": [
    "def isNum(str_num):\n",
    "\n",
    "    if (str_num.split(\".\")[0]).isdigit() or str_num.isdigit() or  (str_num.split('-')[-1]).split(\".\")[-1].isdigit():\n",
    "        return True\n",
    "    \n",
    "    \n",
    "    else:\n",
    "        return False\n",
    "s = '-2.123'\n",
    "#t = s.split('.')\n",
    "def str2Num2(s):\n",
    "#整数\n",
    "    if s.isdigit() or (len(s.split('.')) == 2 and s.split('.')[0].isdigit() and s.split('.')[1].isdigit()):\n",
    "        return True\n",
    "#小数\n",
    "    if (s[0] == '-' or s[0] == '+') and  (s[1:].isdigit() or (len(s[1:].split('.')) == 2 and s[1:].split('.')[0].isdigit() and s[1:].split('.')[1].isdigit())):\n",
    "        return True\n",
    "    return 0\n",
    "\n",
    "def str2Num(s):\n",
    "    if s.isdigit() or (s[0] == '-' or s[0] == '+') and  (s[1:].isdigit()):\n",
    "        return int(s)\n",
    "    if (len(s.split('.')) == 2 and s.split('.')[0].isdigit() and s.split('.')[1].isdigit()) or ((s[0] == '-' or s[0] == '+') and(len(s[1:].split('.')) == 2 and s[1:].split('.')[0].isdigit() and s[1:].split('.')[1].isdigit())):\n",
    "        return int(s.split('.')[0])\n",
    "    return 0\n",
    "\n",
    "t = str2Num(s)\n",
    "print(t)"
   ],
   "metadata": {
    "collapsed": false,
    "pycharm": {
     "name": "#%%\n",
     "is_executing": false
    }
   }
  },
  {
   "cell_type": "code",
   "execution_count": 309,
   "outputs": [
    {
     "name": "stdout",
     "text": [
      "3\n"
     ],
     "output_type": "stream"
    }
   ],
   "source": [
    "print(int('+3'))"
   ],
   "metadata": {
    "collapsed": false,
    "pycharm": {
     "name": "#%%\n",
     "is_executing": false
    }
   }
  }
 ],
 "metadata": {
  "kernelspec": {
   "display_name": "Python 3",
   "language": "python",
   "name": "python3"
  },
  "language_info": {
   "codemirror_mode": {
    "name": "ipython",
    "version": 2
   },
   "file_extension": ".py",
   "mimetype": "text/x-python",
   "name": "python",
   "nbconvert_exporter": "python",
   "pygments_lexer": "ipython2",
   "version": "2.7.6"
  },
  "pycharm": {
   "stem_cell": {
    "cell_type": "raw",
    "source": [],
    "metadata": {
     "collapsed": false
    }
   }
  }
 },
 "nbformat": 4,
 "nbformat_minor": 0
}