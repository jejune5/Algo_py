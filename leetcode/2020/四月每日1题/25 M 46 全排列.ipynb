{
 "cells": [
  {
   "cell_type": "markdown",
   "metadata": {
    "collapsed": true,
    "pycharm": {
     "name": "#%% md\n"
    }
   },
   "source": [
    "给定一个 没有重复 数字的序列，返回其所有可能的全排列。"
   ]
  },
  {
   "cell_type": "code",
   "execution_count": 5,
   "outputs": [
    {
     "name": "stdout",
     "text": [
      "[[1, 2, 3], [1, 3, 2], [2, 1, 3], [2, 3, 1], [3, 1, 2], [3, 2, 1]]\n"
     ],
     "output_type": "stream"
    }
   ],
   "source": [
    "def permute(nums):\n",
    "    lens = len(nums)\n",
    "    if lens <=1:\n",
    "        return [nums]\n",
    "    \n",
    "    res = []\n",
    "    for i in range(0,lens):\n",
    "        tmp = nums[:i] + nums[i+1:]\n",
    "        for n in permute(tmp):\n",
    "            res.append([nums[i]] + n)\n",
    "    return res\n",
    "    \n",
    "nums = [1,2,3]\n",
    "t = permute(nums)\n",
    "print(t)"
   ],
   "metadata": {
    "collapsed": false,
    "pycharm": {
     "name": "#%%\n",
     "is_executing": false
    }
   }
  }
 ],
 "metadata": {
  "kernelspec": {
   "display_name": "Python 3",
   "language": "python",
   "name": "python3"
  },
  "language_info": {
   "codemirror_mode": {
    "name": "ipython",
    "version": 2
   },
   "file_extension": ".py",
   "mimetype": "text/x-python",
   "name": "python",
   "nbconvert_exporter": "python",
   "pygments_lexer": "ipython2",
   "version": "2.7.6"
  },
  "pycharm": {
   "stem_cell": {
    "cell_type": "raw",
    "source": [],
    "metadata": {
     "collapsed": false
    }
   }
  }
 },
 "nbformat": 4,
 "nbformat_minor": 0
}