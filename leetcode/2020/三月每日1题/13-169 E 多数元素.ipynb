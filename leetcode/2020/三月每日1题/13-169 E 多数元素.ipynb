{
 "cells": [
  {
   "cell_type": "markdown",
   "metadata": {
    "collapsed": true,
    "pycharm": {
     "name": "#%% md\n"
    }
   },
   "source": [
    "给定一个大小为 n 的数组，找到其中的多数元素。多数元素是指在数组中出现次数大于 ⌊ n/2 ⌋ 的元素。\n",
    "\n",
    "你可以假设数组是非空的，并且给定的数组总是存在多数元素。\n",
    "\n",
    "示例 1:\n",
    "\n",
    "输入: [3,2,3]\n",
    "输出: 3\n",
    "示例 2:\n",
    "\n",
    "输入: [2,2,1,1,1,2,2]\n",
    "输出: 2"
   ]
  },
  {
   "cell_type": "code",
   "execution_count": 112,
   "outputs": [
    {
     "name": "stdout",
     "text": [
      "3\n"
     ],
     "output_type": "stream"
    }
   ],
   "source": [
    "def majorityElement(nums):\n",
    "    \n",
    "    lens = len(nums)\n",
    "    tmp = [[],[]]\n",
    "    for i in range(lens):\n",
    "        if nums[i] not in tmp[0]:\n",
    "            tmp[0].append(nums[i])\n",
    "            tmp[1].append(1)\n",
    "        else:\n",
    "            tmp[1][tmp[0].index(nums[i])] += 1\n",
    "    return tmp[0][tmp[1].index(max(tmp[1]))]\n",
    "\n",
    "nums = [3,2,3]\n",
    "t = majorityElement(nums)\n",
    "print(t)"
   ],
   "metadata": {
    "collapsed": false,
    "pycharm": {
     "name": "#%%\n",
     "is_executing": false
    }
   }
  },
  {
   "cell_type": "code",
   "execution_count": 65,
   "outputs": [
    {
     "name": "stdout",
     "text": [
      "3\n"
     ],
     "output_type": "stream"
    }
   ],
   "source": [
    "nums = [3,2,3]\n",
    "lens = len(nums)\n",
    "# tmp = [[0 for i in range((lens + 1) // 2)],[1 for i in range((lens + 1) // 2)]]\n",
    "tmp = [[],[]]\n",
    "for i in range(lens):\n",
    "    if nums[i] not in tmp[0]:\n",
    "        tmp[0].append(nums[i])\n",
    "        tmp[1].append(1)\n",
    "    else:\n",
    "        tmp[1][tmp[0].index(nums[i])] += 1\n",
    "print(tmp[0][tmp[1].index(max(tmp[1]))])"
   ],
   "metadata": {
    "collapsed": false,
    "pycharm": {
     "name": "#%%\n",
     "is_executing": false
    }
   }
  }
 ],
 "metadata": {
  "kernelspec": {
   "display_name": "Python 3",
   "language": "python",
   "name": "python3"
  },
  "language_info": {
   "codemirror_mode": {
    "name": "ipython",
    "version": 2
   },
   "file_extension": ".py",
   "mimetype": "text/x-python",
   "name": "python",
   "nbconvert_exporter": "python",
   "pygments_lexer": "ipython2",
   "version": "2.7.6"
  },
  "pycharm": {
   "stem_cell": {
    "cell_type": "raw",
    "source": [],
    "metadata": {
     "collapsed": false
    }
   }
  }
 },
 "nbformat": 4,
 "nbformat_minor": 0
}