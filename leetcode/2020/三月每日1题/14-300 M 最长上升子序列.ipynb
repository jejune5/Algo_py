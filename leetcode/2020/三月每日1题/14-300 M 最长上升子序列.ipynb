{
 "cells": [
  {
   "cell_type": "markdown",
   "metadata": {
    "collapsed": true,
    "pycharm": {
     "name": "#%% md\n"
    }
   },
   "source": [
    "给定一个无序的整数数组，找到其中最长上升子序列的长度。\n",
    "\n",
    "示例:\n",
    "\n",
    "输入: [10,9,2,5,3,7,101,18]\n",
    "输出: 4 \n",
    "解释: 最长的上升子序列是 [2,3,7,101]，它的长度是 4。"
   ]
  },
  {
   "cell_type": "code",
   "execution_count": 138,
   "outputs": [
    {
     "name": "stdout",
     "text": [
      "2\n"
     ],
     "output_type": "stream"
    }
   ],
   "source": [
    "def lengthOfLIS(nums):\n",
    "    \n",
    "    lens = len(nums)\n",
    "    max = 0\n",
    "    i = 0\n",
    "    while(max <= lens - i - 1):\n",
    "        tmp = nums[i:i+1]\n",
    "        for j in range(i+1,lens):\n",
    "            if tmp[-1] < nums[j]: \n",
    "                tmp.append(nums[j])\n",
    "                \n",
    "        max = len(tmp) if max < len(tmp) else max\n",
    "        i+=1\n",
    "    return max\n",
    "\n",
    "# nums = [10,9,2,5,  3,7,101,18]\n",
    "nums = [10,9,2,5,3,4]\n",
    "t = lengthOfLIS(nums)\n",
    "print(t)"
   ],
   "metadata": {
    "collapsed": false,
    "pycharm": {
     "name": "#%%\n",
     "is_executing": false
    }
   }
  },
  {
   "cell_type": "code",
   "execution_count": 196,
   "outputs": [
    {
     "name": "stdout",
     "text": [
      "i ->  0\ni ->  1\n1 0 [1, 1]\ni ->  2\n2 0 [1, 1, 1]\n2 1 [1, 1, 1]\ni ->  3\n3 0 [1, 1, 1, 1]\n3 1 [1, 1, 1, 1]\n3 2 [1, 1, 1, 1]\n1\ni ->  4\n4 0 [1, 1, 1, 2, 1]\n4 1 [1, 1, 1, 2, 1]\n4 2 [1, 1, 1, 2, 1]\n1\n4 3 [1, 1, 1, 2, 2]\ni ->  5\n5 0 [1, 1, 1, 2, 2, 1]\n5 1 [1, 1, 1, 2, 2, 1]\n5 2 [1, 1, 1, 2, 2, 1]\n1\n5 3 [1, 1, 1, 2, 2, 2]\n5 4 [1, 1, 1, 2, 2, 2]\n2\n"
     ],
     "output_type": "stream"
    }
   ],
   "source": [
    "# lens = len(nums)\n",
    "nums = [10,9,2,5,3,4]\n",
    "max = 0\n",
    "# for i in range(0,lens - 1):\n",
    "dp = []\n",
    "for i in range(len(nums)):\n",
    "    print('i -> ',i)\n",
    "    dp.append(1)\n",
    "    for j in range(i):\n",
    "        print(i,j,dp)\n",
    "        if nums[i] > nums[j]:\n",
    "            print(dp[j])\n",
    "            dp[i] = dp[j]+1 if dp[j]+1 > dp[i] else dp[i]"
   ],
   "metadata": {
    "collapsed": false,
    "pycharm": {
     "name": "#%%\n",
     "is_executing": false
    }
   }
  }
 ],
 "metadata": {
  "kernelspec": {
   "display_name": "Python 3",
   "language": "python",
   "name": "python3"
  },
  "language_info": {
   "codemirror_mode": {
    "name": "ipython",
    "version": 2
   },
   "file_extension": ".py",
   "mimetype": "text/x-python",
   "name": "python",
   "nbconvert_exporter": "python",
   "pygments_lexer": "ipython2",
   "version": "2.7.6"
  },
  "pycharm": {
   "stem_cell": {
    "cell_type": "raw",
    "source": [],
    "metadata": {
     "collapsed": false
    }
   }
  }
 },
 "nbformat": 4,
 "nbformat_minor": 0
}