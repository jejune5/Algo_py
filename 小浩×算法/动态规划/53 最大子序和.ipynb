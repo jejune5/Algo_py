{
 "cells": [
  {
   "cell_type": "code",
   "execution_count": 64,
   "metadata": {
    "collapsed": true,
    "pycharm": {
     "is_executing": false
    }
   },
   "outputs": [
    {
     "name": "stdout",
     "text": [
      "1\n"
     ],
     "output_type": "stream"
    }
   ],
   "source": [
    "def maxSubArray(nums) -> int:\n",
    "    \n",
    "    dp = [nums[0]]\n",
    "\n",
    "    for i in range(1, len(nums)):\n",
    "        tmp = max(dp[i-1]+nums[i], nums[i])\n",
    "        dp.append(tmp)\n",
    "        \n",
    "    return max(dp)\n",
    "\n",
    "# nums = [-2,1,-3,4,-1,2,1,-5,4]\n",
    "nums = [-2, 1]\n",
    "print(maxSubArray(nums))"
   ]
  },
  {
   "cell_type": "code",
   "execution_count": 65,
   "outputs": [
    {
     "name": "stdout",
     "text": [
      "1\n"
     ],
     "output_type": "stream"
    }
   ],
   "source": [
    "dp = [nums[0]]\n",
    "\n",
    "for i in range(1, len(nums)):\n",
    "    tmp = max(dp[i-1]+nums[i], nums[i])\n",
    "    dp.append(tmp)\n",
    "\n",
    "    # print(i)\n",
    "print(max(dp))"
   ],
   "metadata": {
    "collapsed": false,
    "pycharm": {
     "name": "#%%\n",
     "is_executing": false
    }
   }
  }
 ],
 "metadata": {
  "language_info": {
   "codemirror_mode": {
    "name": "ipython",
    "version": 2
   },
   "file_extension": ".py",
   "mimetype": "text/x-python",
   "name": "python",
   "nbconvert_exporter": "python",
   "pygments_lexer": "ipython2",
   "version": "2.7.6"
  },
  "kernelspec": {
   "name": "python3",
   "language": "python",
   "display_name": "Python 3"
  },
  "pycharm": {
   "stem_cell": {
    "cell_type": "raw",
    "source": [],
    "metadata": {
     "collapsed": false
    }
   }
  }
 },
 "nbformat": 4,
 "nbformat_minor": 0
}