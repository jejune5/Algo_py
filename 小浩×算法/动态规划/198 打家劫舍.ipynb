{
 "cells": [
  {
   "cell_type": "code",
   "execution_count": 6,
   "metadata": {
    "collapsed": true,
    "pycharm": {
     "is_executing": false
    }
   },
   "outputs": [
    {
     "name": "stdout",
     "text": [
      "[2, 7, 11, 10, 12]\n12\n"
     ],
     "output_type": "stream"
    }
   ],
   "source": [
    "def rob(nums):\n",
    "    pass\n",
    "\n",
    "nums = [2,7,9,3,1]\n",
    "if len(nums) == 0:\n",
    "    return 0\n",
    "dp = []\n",
    "for i in range(len(nums)):\n",
    "    if i < 2:\n",
    "        dp.append(nums[i])\n",
    "    else:\n",
    "        dp.append(max(dp[:i-1]) + nums[i])\n",
    "        \n",
    "print(dp)\n",
    "print(max(dp))"
   ]
  }
 ],
 "metadata": {
  "language_info": {
   "codemirror_mode": {
    "name": "ipython",
    "version": 2
   },
   "file_extension": ".py",
   "mimetype": "text/x-python",
   "name": "python",
   "nbconvert_exporter": "python",
   "pygments_lexer": "ipython2",
   "version": "2.7.6"
  },
  "kernelspec": {
   "name": "python3",
   "language": "python",
   "display_name": "Python 3"
  },
  "pycharm": {
   "stem_cell": {
    "cell_type": "raw",
    "source": [],
    "metadata": {
     "collapsed": false
    }
   }
  }
 },
 "nbformat": 4,
 "nbformat_minor": 0
}