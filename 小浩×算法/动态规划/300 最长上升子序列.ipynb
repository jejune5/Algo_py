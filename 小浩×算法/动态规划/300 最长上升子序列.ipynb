{
 "cells": [
  {
   "cell_type": "code",
   "execution_count": 9,
   "metadata": {
    "collapsed": true,
    "pycharm": {
     "is_executing": false
    }
   },
   "outputs": [
    {
     "name": "stdout",
     "text": [
      "[1, 9, 5, 9, 3]\n1 0\n2 0\n2 1\n3 0\n3 1\n3 2\n4 0\n4 1\n4 2\n4 3\n"
     ],
     "output_type": "stream"
    }
   ],
   "source": [
    "def lengthOfLIS(nums):\n",
    "    return nums\n",
    "\n",
    "\n",
    "nums = [1, 9, 5, 9, 3]\n",
    "print(nums)\n",
    "\n",
    "dp = []\n",
    "res = 1\n",
    "\n",
    "for i, e in enumerate(nums):\n",
    "    dp.append(1)\n",
    "    for j, f in enumerate(nums[:i]):\n",
    "        if \n",
    "        print(i,j)\n",
    "        # print(i)"
   ]
  }
 ],
 "metadata": {
  "language_info": {
   "codemirror_mode": {
    "name": "ipython",
    "version": 2
   },
   "file_extension": ".py",
   "mimetype": "text/x-python",
   "name": "python",
   "nbconvert_exporter": "python",
   "pygments_lexer": "ipython2",
   "version": "2.7.6"
  },
  "kernelspec": {
   "name": "python3",
   "language": "python",
   "display_name": "Python 3"
  },
  "pycharm": {
   "stem_cell": {
    "cell_type": "raw",
    "source": [],
    "metadata": {
     "collapsed": false
    }
   }
  }
 },
 "nbformat": 4,
 "nbformat_minor": 0
}