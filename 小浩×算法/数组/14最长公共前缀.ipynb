{
 "cells": [
  {
   "cell_type": "code",
   "execution_count": 172,
   "metadata": {
    "collapsed": true,
    "pycharm": {
     "is_executing": false
    }
   },
   "outputs": [],
   "source": [
    "a = [\"flower\",\"flow\",\"flight\"]\n",
    "b = [\"dog\",\"racecar\",\"car\"]\n"
   ]
  },
  {
   "cell_type": "code",
   "execution_count": 173,
   "outputs": [
    {
     "name": "stdout",
     "text": [
      "\n"
     ],
     "output_type": "stream"
    }
   ],
   "source": [
    "def suffix(mylist):\n",
    "    \n",
    "    def isSame(List):\n",
    "        for i in List[1:]:\n",
    "            if List[0] != i:\n",
    "                return False\n",
    "        return True\n",
    "    \n",
    "    s = ''\n",
    "    for i in range(len(mylist[0])):\n",
    "        c = [j[:i] for j in mylist]\n",
    "        if not isSame(c):\n",
    "            break\n",
    "        else:\n",
    "            s = c[0]\n",
    "    \n",
    "    return s\n",
    "\n",
    "\n",
    "          \n",
    "\n",
    "\n",
    "t = suffix(b)\n",
    "print(t)"
   ],
   "metadata": {
    "collapsed": false,
    "pycharm": {
     "name": "#%%\n",
     "is_executing": false
    }
   }
  }
 ],
 "metadata": {
  "language_info": {
   "codemirror_mode": {
    "name": "ipython",
    "version": 2
   },
   "file_extension": ".py",
   "mimetype": "text/x-python",
   "name": "python",
   "nbconvert_exporter": "python",
   "pygments_lexer": "ipython2",
   "version": "2.7.6"
  },
  "kernelspec": {
   "name": "python3",
   "language": "python",
   "display_name": "Python 3"
  },
  "pycharm": {
   "stem_cell": {
    "cell_type": "raw",
    "source": [],
    "metadata": {
     "collapsed": false
    }
   }
  }
 },
 "nbformat": 4,
 "nbformat_minor": 0
}