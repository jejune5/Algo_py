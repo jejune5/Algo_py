{
 "cells": [
  {
   "cell_type": "code",
   "execution_count": 7,
   "metadata": {
    "collapsed": true,
    "pycharm": {
     "is_executing": false
    }
   },
   "outputs": [
    {
     "name": "stdout",
     "text": [
      "[6, 6, 0]\n"
     ],
     "output_type": "stream"
    }
   ],
   "source": [
    "# def plus():\n",
    "    \n",
    "nums = [6,5,9]\n",
    "res = []\n",
    "carry = 0\n",
    "\n",
    "for i,e in enumerate(nums[::-1]):\n",
    "    \n",
    "    if i == 0:\n",
    "        if e == 9:\n",
    "            res.insert(0,0)\n",
    "            carry = 1\n",
    "            if 1 == len(nums):\n",
    "                res.insert(0,1)\n",
    "        else:\n",
    "            res.insert(0, e+1)\n",
    "            \n",
    "    else:\n",
    "        if carry + e >= 10:\n",
    "            res.insert(0, (carry + e)%10 )\n",
    "            carry = 1\n",
    "            if i == len(nums)-1:\n",
    "                res.insert(0,1)\n",
    "        else: \n",
    "            res.insert(0, carry+e)\n",
    "            carry = 0 \n",
    "\n",
    "    \n",
    "print(res)\n"
   ]
  },
  {
   "cell_type": "code",
   "execution_count": 8,
   "outputs": [
    {
     "name": "stdout",
     "text": [
      "[-1, 6, 5, 9]\n"
     ],
     "output_type": "stream"
    }
   ],
   "source": [
    "nums.insert(0,-1)\n",
    "print(nums)\n"
   ],
   "metadata": {
    "collapsed": false,
    "pycharm": {
     "name": "#%%\n",
     "is_executing": false
    }
   }
  }
 ],
 "metadata": {
  "language_info": {
   "codemirror_mode": {
    "name": "ipython",
    "version": 2
   },
   "file_extension": ".py",
   "mimetype": "text/x-python",
   "name": "python",
   "nbconvert_exporter": "python",
   "pygments_lexer": "ipython2",
   "version": "2.7.6"
  },
  "kernelspec": {
   "name": "python3",
   "language": "python",
   "display_name": "Python 3"
  },
  "pycharm": {
   "stem_cell": {
    "cell_type": "raw",
    "source": [],
    "metadata": {
     "collapsed": false
    }
   }
  }
 },
 "nbformat": 4,
 "nbformat_minor": 0
}