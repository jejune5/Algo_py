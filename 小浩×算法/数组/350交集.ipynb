{
 "cells": [
  {
   "cell_type": "code",
   "execution_count": 55,
   "metadata": {
    "collapsed": true,
    "pycharm": {
     "is_executing": false
    }
   },
   "outputs": [],
   "source": [
    "nums1 = [4,9,5]\n",
    "\n",
    "nums2 = [9,4,9,8,4]"
   ]
  },
  {
   "cell_type": "code",
   "execution_count": 56,
   "outputs": [
    {
     "name": "stdout",
     "text": [
      "[9, 4]\n"
     ],
     "output_type": "stream"
    }
   ],
   "source": [
    "d = {}\n",
    "k = 0 \n",
    "for n1 in nums1:\n",
    "    if n1 not in d:\n",
    "        d[n1] = 1\n",
    "    else:\n",
    "        d[n1]+=1\n",
    "        \n",
    "for n2 in nums2:\n",
    "    if n2 in d and d[n2]>0:\n",
    "        d[n2]-=1\n",
    "        nums2[k] = n2\n",
    "        k+=1        \n",
    "        \n",
    "print(nums2[:k])"
   ],
   "metadata": {
    "collapsed": false,
    "pycharm": {
     "name": "#%%\n",
     "is_executing": false
    }
   }
  },
  {
   "cell_type": "code",
   "execution_count": 76,
   "outputs": [
    {
     "name": "stdout",
     "text": [
      "[1, 2, 3]\n"
     ],
     "output_type": "stream"
    }
   ],
   "source": [
    "arr1 = [1,2,3,4,4,13]\n",
    "arr2 = [1,2,3,9,10]\n",
    "\n",
    "len1,len2 = len(arr1), len(arr2)\n",
    "\n",
    "i,j, k=0,0,0\n",
    "while i < len1 and j<len2:\n",
    "    a,b = arr1[i],arr2[j]\n",
    "    \n",
    "    if a < b:\n",
    "        i+=1\n",
    "    elif a > b:\n",
    "        j+=1\n",
    "    else:\n",
    "        nums1[k] = a\n",
    "        i+=1\n",
    "        j+=1\n",
    "        k+=1\n",
    "        \n",
    "print(nums1[:k])"
   ],
   "metadata": {
    "collapsed": false,
    "pycharm": {
     "name": "#%%\n",
     "is_executing": false
    }
   }
  }
 ],
 "metadata": {
  "language_info": {
   "codemirror_mode": {
    "name": "ipython",
    "version": 2
   },
   "file_extension": ".py",
   "mimetype": "text/x-python",
   "name": "python",
   "nbconvert_exporter": "python",
   "pygments_lexer": "ipython2",
   "version": "2.7.6"
  },
  "kernelspec": {
   "name": "python3",
   "language": "python",
   "display_name": "Python 3"
  },
  "pycharm": {
   "stem_cell": {
    "cell_type": "raw",
    "source": [],
    "metadata": {
     "collapsed": false
    }
   }
  }
 },
 "nbformat": 4,
 "nbformat_minor": 0
}