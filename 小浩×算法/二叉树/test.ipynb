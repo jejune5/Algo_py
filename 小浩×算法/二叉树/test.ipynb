{
 "cells": [
  {
   "cell_type": "code",
   "execution_count": 8,
   "metadata": {
    "collapsed": true,
    "pycharm": {
     "is_executing": false
    }
   },
   "outputs": [
    {
     "name": "stdout",
     "text": [
      "1\n2\n4\n8\n9\n5\n3\n6\n7\n"
     ],
     "output_type": "stream"
    }
   ],
   "source": [
    "arr = [1, 2, 3, 4, 5, 6, 7, 8, 9]\n",
    "\n",
    "class Node:\n",
    "    def __init__(self, data, left, right):\n",
    "        self.data = data\n",
    "        self.left = left\n",
    "        self.right = right\n",
    "\n",
    "def print_all(node):\n",
    "    if node is not None:\n",
    "        print(node.data)\n",
    "        print_all(node.left)\n",
    "        print_all(node.right)\n",
    "\n",
    "node_list = []\n",
    "for i in range(len(arr)):\n",
    "    node = Node(arr[i], None, None)\n",
    "    node_list.append(node)\n",
    "# print(node_list[1].data)\n",
    "\n",
    "if len(node_list) > 0:\n",
    "    for i in range(int(len(arr)/2)-1):\n",
    "        if node_list[2*i + 1].left is None:\n",
    "            node_list[i].left = node_list[2*i+1] \n",
    "        if node_list[2*i + 2].right is None:\n",
    "            node_list[i].right = node_list[2*i +2]\n",
    "    last_idx = int(len(arr)/2) - 1\n",
    "    node_list[last_idx].left = node_list[last_idx * 2 +1]\n",
    "    if len(arr) % 2 == 1:\n",
    "        node_list[last_idx].right = node_list[last_idx * 2 + 2]\n",
    "\n",
    "if __name__ == '__main__':\n",
    "    if node_list is not None:\n",
    "        print_all(node_list[0])\n",
    "\n"
   ]
  }
 ],
 "metadata": {
  "language_info": {
   "codemirror_mode": {
    "name": "ipython",
    "version": 2
   },
   "file_extension": ".py",
   "mimetype": "text/x-python",
   "name": "python",
   "nbconvert_exporter": "python",
   "pygments_lexer": "ipython2",
   "version": "2.7.6"
  },
  "kernelspec": {
   "name": "python3",
   "language": "python",
   "display_name": "Python 3"
  },
  "pycharm": {
   "stem_cell": {
    "cell_type": "raw",
    "source": [],
    "metadata": {
     "collapsed": false
    }
   }
  }
 },
 "nbformat": 4,
 "nbformat_minor": 0
}