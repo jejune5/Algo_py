{
 "cells": [
  {
   "cell_type": "markdown",
   "metadata": {
    "collapsed": true,
    "pycharm": {
     "name": "#%% md\n"
    }
   },
   "source": [
    "输入：A = [4,5,0,-2,-3,1], K = 5\n",
    "输出：7\n",
    "解释：\n",
    "有 7 个子数组满足其元素之和可被 K = 5 整除：\n",
    "[4, 5, 0, -2, -3, 1], [5], [5, 0], [5, 0, -2, -3], [0], [0, -2, -3], [-2, -3]\n",
    "\n"
   ]
  },
  {
   "cell_type": "code",
   "execution_count": 6,
   "outputs": [],
   "source": [
    "def subarraysDivByK(A, K):\n",
    "    return A\n",
    "\n",
    "\n",
    "A = [4,5,0,-2,-3,1]\n",
    "K = 5"
   ],
   "metadata": {
    "collapsed": false,
    "pycharm": {
     "name": "#%%\n",
     "is_executing": false
    }
   }
  },
  {
   "cell_type": "code",
   "execution_count": 13,
   "outputs": [
    {
     "name": "stdout",
     "text": [
      "0 1 [4]\n0 2 [4, 5]\n0 3 [4, 5, 0]\n0 4 [4, 5, 0, -2]\n0 5 [4, 5, 0, -2, -3]\n0 6 [4, 5, 0, -2, -3, 1]\n= = = = = =  [4, 5, 0, -2, -3, 1]\n1 2 [5]\n= = = = = =  [5]\n1 3 [5, 0]\n= = = = = =  [5, 0]\n1 4 [5, 0, -2]\n1 5 [5, 0, -2, -3]\n= = = = = =  [5, 0, -2, -3]\n1 6 [5, 0, -2, -3, 1]\n2 3 [0]\n= = = = = =  [0]\n2 4 [0, -2]\n2 5 [0, -2, -3]\n= = = = = =  [0, -2, -3]\n2 6 [0, -2, -3, 1]\n3 4 [-2]\n3 5 [-2, -3]\n= = = = = =  [-2, -3]\n3 6 [-2, -3, 1]\n4 5 [-3]\n4 6 [-3, 1]\n5 6 [1]\n7\n"
     ],
     "output_type": "stream"
    }
   ],
   "source": [
    "count = 0\n",
    "for i in range(len(A)):\n",
    "    for j in range(i+1, len(A)+1 ):\n",
    "        print(i,j,A[i:j])\n",
    "        if sum(A[i:j]) % K == 0:\n",
    "            print('= = = = = = ',A[i:j])\n",
    "            count +=1\n",
    "            \n",
    "print(count)"
   ],
   "metadata": {
    "collapsed": false,
    "pycharm": {
     "name": "#%%\n",
     "is_executing": false
    }
   }
  },
  {
   "cell_type": "code",
   "execution_count": null,
   "outputs": [],
   "source": [
    "\n"
   ],
   "metadata": {
    "collapsed": false,
    "pycharm": {
     "name": "#%%\n"
    }
   }
  }
 ],
 "metadata": {
  "language_info": {
   "codemirror_mode": {
    "name": "ipython",
    "version": 2
   },
   "file_extension": ".py",
   "mimetype": "text/x-python",
   "name": "python",
   "nbconvert_exporter": "python",
   "pygments_lexer": "ipython2",
   "version": "2.7.6"
  },
  "kernelspec": {
   "name": "python3",
   "language": "python",
   "display_name": "Python 3"
  },
  "pycharm": {
   "stem_cell": {
    "cell_type": "raw",
    "source": [],
    "metadata": {
     "collapsed": false
    }
   }
  }
 },
 "nbformat": 4,
 "nbformat_minor": 0
}