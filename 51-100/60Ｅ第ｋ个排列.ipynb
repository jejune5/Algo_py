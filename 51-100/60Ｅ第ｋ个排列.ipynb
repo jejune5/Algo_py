{
 "cells": [
  {
   "cell_type": "markdown",
   "metadata": {
    "collapsed": true,
    "pycharm": {
     "name": "#%%　md\n"
    }
   },
   "source": [
    "给出集合 [1,2,3,…,n]，其所有元素共有 n! 种排列。\n",
    "\n",
    "按大小顺序列出所有排列情况，并一一标记，当 n = 3 时, 所有排列如下：\n",
    "\n",
    "\"123\"\n",
    "\"132\"\n",
    "\"213\"\n",
    "\"231\"\n",
    "\"312\"\n",
    "\"321\"\n",
    "给定 n 和 k，返回第 k 个排列。\n",
    "\n",
    "说明：\n",
    "\n",
    "给定 n 的范围是 [1, 9]。\n",
    "给定 k 的范围是[1,  n!]。\n",
    "示例 1:\n",
    "\n",
    "输入: n = 3, k = 3\n",
    "输出: \"213\"\n",
    "示例 2:\n",
    "\n",
    "输入: n = 4, k = 9\n",
    "输出: \"2314\""
   ]
  },
  {
   "cell_type": "code",
   "execution_count": 153,
   "outputs": [
    {
     "name": "stdout",
     "text": [
      "2314\n"
     ],
     "output_type": "stream"
    }
   ],
   "source": [
    "def getPermutation(n: int, k: int) -> str:\n",
    "    \n",
    "    res = ''\n",
    "    origin = [i for i in range(1,n+1)]\n",
    "    \n",
    "    import itertools as it\n",
    "    index = 1\n",
    "    for j in it.permutations(origin, n):\n",
    "        index+=1\n",
    "        if index == k+1:    \n",
    "            res = ''.join(map(str,j))\n",
    "            break\n",
    "            \n",
    "    return res\n",
    "\n",
    "\n",
    "t = getPermutation(4,9)\n",
    "print(t)"
   ],
   "metadata": {
    "collapsed": false,
    "pycharm": {
     "name": "#%%\n",
     "is_executing": false
    }
   }
  },
  {
   "cell_type": "code",
   "execution_count": 85,
   "outputs": [
    {
     "name": "stdout",
     "text": [
      "213\n"
     ],
     "output_type": "stream"
    }
   ],
   "source": [
    "n = [i for i in range(1,4)]\n",
    "# print(n)\n",
    "\n",
    "import itertools as it\n",
    "index = 1\n",
    "for j in it.permutations(n,3):\n",
    "    index+=1\n",
    "    if index == 3+1:    \n",
    "        print(''.join(map(str,j)))\n",
    "        break"
   ],
   "metadata": {
    "collapsed": false,
    "pycharm": {
     "name": "#%%\n",
     "is_executing": false
    }
   }
  }
 ],
 "metadata": {
  "kernelspec": {
   "display_name": "Python 3",
   "language": "python",
   "name": "python3"
  },
  "language_info": {
   "codemirror_mode": {
    "name": "ipython",
    "version": 2
   },
   "file_extension": ".py",
   "mimetype": "text/x-python",
   "name": "python",
   "nbconvert_exporter": "python",
   "pygments_lexer": "ipython2",
   "version": "2.7.6"
  },
  "pycharm": {
   "stem_cell": {
    "cell_type": "raw",
    "source": [],
    "metadata": {
     "collapsed": false
    }
   }
  }
 },
 "nbformat": 4,
 "nbformat_minor": 0
}