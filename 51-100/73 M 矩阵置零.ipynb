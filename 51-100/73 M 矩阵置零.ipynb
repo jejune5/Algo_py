{
 "cells": [
  {
   "cell_type": "markdown",
   "metadata": {
    "collapsed": true,
    "pycharm": {
     "name": "#%% md\n"
    }
   },
   "source": [
    "给定一个 m x n 的矩阵，如果一个元素为 0，则将其所在行和列的所有元素都设为 0。请使用原地算法。\n",
    "\n",
    "示例 1:\n",
    "\n",
    "输入: \n",
    "[\n",
    "  [1,1,1],\n",
    "  [1,0,1],\n",
    "  [1,1,1]\n",
    "]\n",
    "输出: \n",
    "[\n",
    "  [1,0,1],\n",
    "  [0,0,0],\n",
    "  [1,0,1]\n",
    "]"
   ]
  },
  {
   "cell_type": "code",
   "execution_count": 126,
   "outputs": [
    {
     "name": "stdout",
     "text": [
      "[[1, 1, 1], [1, 0, 1], [1, 1, 0]]\n"
     ],
     "output_type": "stream"
    }
   ],
   "source": [
    "def setZeroes(matrix) -> None:\n",
    "    \"\"\"\n",
    "    Do not return anything, modify matrix in-place instead.\n",
    "    \"\"\"\n",
    "    import numpy as np\n",
    "    mat = np.array(matrix)\n",
    "    index = np.argwhere(mat == 0)\n",
    "    for i in range(len(index)):\n",
    "        mat[index[i][0],:] = 0 \n",
    "        mat[:,index[i][1]] = 0\n",
    "        \n",
    "    matrix = mat.tolist()\n",
    "\n",
    "\n",
    "a = [[1,1,1],[1,0,1],[1,1,0]]\n",
    "\n",
    "\n",
    "t = setZeroes(a)\n",
    "a[:][1] = 0\n",
    "print(a)"
   ],
   "metadata": {
    "collapsed": false,
    "pycharm": {
     "name": "#%%\n",
     "is_executing": false
    }
   }
  },
  {
   "cell_type": "code",
   "execution_count": 112,
   "outputs": [
    {
     "name": "stdout",
     "text": [
      "[[1 1]\n [2 2]]\n - - - \n[[1 0 0]\n [0 0 0]\n [0 0 0]]\n"
     ],
     "output_type": "stream"
    }
   ],
   "source": [
    "import numpy as np\n",
    "mat = np.array(a)\n",
    "index = np.argwhere(mat == 0)\n",
    "print(index)\n",
    "\n",
    "for i in range(len(index)):\n",
    "    mat[index[i][0],:] = 0 \n",
    "    mat[:,index[i][1]] = 0\n",
    "    \n",
    "# mat = mat.tolist()\n",
    "print(' - - - ')\n",
    "print(mat)\n",
    "\n"
   ],
   "metadata": {
    "collapsed": false,
    "pycharm": {
     "name": "#%%\n",
     "is_executing": false
    }
   }
  },
  {
   "cell_type": "code",
   "execution_count": null,
   "outputs": [],
   "source": [
    "\n"
   ],
   "metadata": {
    "collapsed": false,
    "pycharm": {
     "name": "#%%\n"
    }
   }
  }
 ],
 "metadata": {
  "kernelspec": {
   "display_name": "Python 3",
   "language": "python",
   "name": "python3"
  },
  "language_info": {
   "codemirror_mode": {
    "name": "ipython",
    "version": 2
   },
   "file_extension": ".py",
   "mimetype": "text/x-python",
   "name": "python",
   "nbconvert_exporter": "python",
   "pygments_lexer": "ipython2",
   "version": "2.7.6"
  },
  "pycharm": {
   "stem_cell": {
    "cell_type": "raw",
    "source": [],
    "metadata": {
     "collapsed": false
    }
   }
  }
 },
 "nbformat": 4,
 "nbformat_minor": 0
}