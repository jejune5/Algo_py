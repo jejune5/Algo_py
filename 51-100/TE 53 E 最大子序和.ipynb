{
 "cells": [
  {
   "cell_type": "code",
   "execution_count": 1,
   "metadata": {
    "collapsed": true,
    "pycharm": {
     "is_executing": false
    }
   },
   "outputs": [
    {
     "data": {
      "text/plain": "'\\n给定一个整数数组 nums ，找到一个具有最大和的连续子数组（子数组最少包含一个元素），返回其最大和。\\n\\n示例:\\n\\n输入: [-2,1,-3,4,-1,2,1,-5,4],\\n输出: 6\\n解释: 连续子数组 [4,-1,2,1] 的和最大，为 6。\\n\\n'"
     },
     "metadata": {},
     "output_type": "execute_result",
     "execution_count": 1
    }
   ],
   "source": [
    "'''\n",
    "给定一个整数数组 nums ，找到一个具有最大和的连续子数组（子数组最少包含一个元素），返回其最大和。\n",
    "\n",
    "示例:\n",
    "\n",
    "输入: [-2,1,-3,4,-1,2,1,-5,4],\n",
    "输出: 6\n",
    "解释: 连续子数组 [4,-1,2,1] 的和最大，为 6。\n",
    "\n",
    "'''"
   ]
  },
  {
   "cell_type": "code",
   "execution_count": 2,
   "outputs": [
    {
     "name": "stdout",
     "text": [
      "6\n"
     ],
     "output_type": "stream"
    }
   ],
   "source": [
    "nums = [-2,1,-3,4,-1,2,1,-5,4]\n",
    "# nums = [-2,1]\n",
    "\n",
    "def maxSubArray(nums) -> int:\n",
    "    res = nums[0]\n",
    "    for i in range(len(nums)):\n",
    "        for j in range(i+1,len(nums)):\n",
    "            if res < sum(nums[i:j]):\n",
    "                res = sum(nums[i:j])\n",
    "    return res\n",
    "\n",
    "a = maxSubArray(nums)\n",
    "print(a)"
   ],
   "metadata": {
    "collapsed": false,
    "pycharm": {
     "name": "#%%\n",
     "is_executing": false
    }
   }
  },
  {
   "cell_type": "code",
   "execution_count": 3,
   "outputs": [
    {
     "name": "stdout",
     "text": [
      "12\n"
     ],
     "output_type": "stream"
    }
   ],
   "source": [
    "import itertools as it\n",
    "res = 0\n",
    "for lens in range(1,len(nums)):\n",
    "    tmp = it.permutations(nums,lens)\n",
    "    for i in tmp:\n",
    "        if res < sum(i) :\n",
    "           res = sum(i) \n",
    "        \n",
    "print(res)"
   ],
   "metadata": {
    "collapsed": false,
    "pycharm": {
     "name": "#%%\n",
     "is_executing": false
    }
   }
  },
  {
   "cell_type": "code",
   "execution_count": 4,
   "outputs": [
    {
     "name": "stdout",
     "text": [
      "i = 0 --- j = 1 [-2]\ni = 0 --- j = 2 [-2, 1]\ni = 0 --- j = 3 [-2, 1, -3]\ni = 0 --- j = 4 [-2, 1, -3, 4]\ni = 0 --- j = 5 [-2, 1, -3, 4, -1]\ni = 0 --- j = 6 [-2, 1, -3, 4, -1, 2]\ni = 0 --- j = 7 [-2, 1, -3, 4, -1, 2, 1]\ni = 0 --- j = 8 [-2, 1, -3, 4, -1, 2, 1, -5]\ni = 0 --- j = 9 [-2, 1, -3, 4, -1, 2, 1, -5, 4]\ni = 1 --- j = 2 [1]\ni = 1 --- j = 3 [1, -3]\ni = 1 --- j = 4 [1, -3, 4]\ni = 1 --- j = 5 [1, -3, 4, -1]\ni = 1 --- j = 6 [1, -3, 4, -1, 2]\ni = 1 --- j = 7 [1, -3, 4, -1, 2, 1]\ni = 1 --- j = 8 [1, -3, 4, -1, 2, 1, -5]\ni = 1 --- j = 9 [1, -3, 4, -1, 2, 1, -5, 4]\ni = 2 --- j = 3 [-3]\ni = 2 --- j = 4 [-3, 4]\ni = 2 --- j = 5 [-3, 4, -1]\ni = 2 --- j = 6 [-3, 4, -1, 2]\ni = 2 --- j = 7 [-3, 4, -1, 2, 1]\ni = 2 --- j = 8 [-3, 4, -1, 2, 1, -5]\ni = 2 --- j = 9 [-3, 4, -1, 2, 1, -5, 4]\ni = 3 --- j = 4 [4]\ni = 3 --- j = 5 [4, -1]\ni = 3 --- j = 6 [4, -1, 2]\ni = 3 --- j = 7 [4, -1, 2, 1]\ni = 3 --- j = 8 [4, -1, 2, 1, -5]\ni = 3 --- j = 9 [4, -1, 2, 1, -5, 4]\ni = 4 --- j = 5 [-1]\ni = 4 --- j = 6 [-1, 2]\ni = 4 --- j = 7 [-1, 2, 1]\ni = 4 --- j = 8 [-1, 2, 1, -5]\ni = 4 --- j = 9 [-1, 2, 1, -5, 4]\ni = 5 --- j = 6 [2]\ni = 5 --- j = 7 [2, 1]\ni = 5 --- j = 8 [2, 1, -5]\ni = 5 --- j = 9 [2, 1, -5, 4]\ni = 6 --- j = 7 [1]\ni = 6 --- j = 8 [1, -5]\ni = 6 --- j = 9 [1, -5, 4]\ni = 7 --- j = 8 [-5]\ni = 7 --- j = 9 [-5, 4]\ni = 8 --- j = 9 [4]\n6\n"
     ],
     "output_type": "stream"
    }
   ],
   "source": [
    "res = nums[0]\n",
    "for i in range(len(nums)):\n",
    "    for j in range(i+1,len(nums)+1):\n",
    "        print(\"i =\",i,\"--- j =\",j,nums[i:j])\n",
    "        if res < sum(nums[i:j]):\n",
    "            res = sum(nums[i:j])\n",
    "\n",
    "print(res)"
   ],
   "metadata": {
    "collapsed": false,
    "pycharm": {
     "name": "#%%\n",
     "is_executing": false
    }
   }
  },
  {
   "cell_type": "code",
   "execution_count": 5,
   "outputs": [
    {
     "name": "stdout",
     "text": [
      "2\n[1]\n"
     ],
     "output_type": "stream"
    }
   ],
   "source": [
    "a = [1,2]\n",
    "print(len(a))\n",
    "print(a[0:1])\n"
   ],
   "metadata": {
    "collapsed": false,
    "pycharm": {
     "name": "#%%\n",
     "is_executing": false
    }
   }
  },
  {
   "cell_type": "code",
   "execution_count": 5,
   "outputs": [],
   "source": [
    "\n"
   ],
   "metadata": {
    "collapsed": false,
    "pycharm": {
     "name": "#%%\n",
     "is_executing": false
    }
   }
  }
 ],
 "metadata": {
  "language_info": {
   "codemirror_mode": {
    "name": "ipython",
    "version": 2
   },
   "file_extension": ".py",
   "mimetype": "text/x-python",
   "name": "python",
   "nbconvert_exporter": "python",
   "pygments_lexer": "ipython2",
   "version": "2.7.6"
  },
  "kernelspec": {
   "name": "python3",
   "language": "python",
   "display_name": "Python 3"
  },
  "pycharm": {
   "stem_cell": {
    "cell_type": "raw",
    "source": [],
    "metadata": {
     "collapsed": false
    }
   }
  }
 },
 "nbformat": 4,
 "nbformat_minor": 0
}