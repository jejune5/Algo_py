{
 "cells": [
  {
   "cell_type": "code",
   "execution_count": 160,
   "metadata": {
    "collapsed": true,
    "pycharm": {
     "is_executing": false
    }
   },
   "outputs": [
    {
     "name": "stdout",
     "text": [
      "['b   a    ']\n0\n0\n"
     ],
     "output_type": "stream"
    }
   ],
   "source": [
    "# def lengthOfLastWord(s: str):\n",
    "s = \"b   a    \"\n",
    "print(s.split(r'\\s+'))\n",
    "\n",
    "if ' ' not in s:\n",
    "    res = len(s)\n",
    "\n",
    "elif s.split(' ')[-1] == '':\n",
    "    res = len(s.split(' ')[-2])\n",
    "    \n",
    "else:\n",
    "    res = len(s.split(' ')[-1])\n",
    "\n",
    "print(res)\n",
    "\n",
    "        \n",
    "    # return res\n",
    "\n",
    "\n",
    "\n",
    "\n",
    "s = \"H\"\n",
    "# res = lengthOfLastWord(s)\n",
    "print(res)"
   ]
  },
  {
   "cell_type": "code",
   "execution_count": 162,
   "outputs": [
    {
     "name": "stdout",
     "text": [
      "4\n"
     ],
     "output_type": "stream"
    }
   ],
   "source": [
    "import re\n",
    "s = 'hello    r  dsad      '\n",
    "res = re.split(r'\\s+',s+' a')\n",
    "print(len(res[-2]))\n"
   ],
   "metadata": {
    "collapsed": false,
    "pycharm": {
     "name": "#%%\n",
     "is_executing": false
    }
   }
  },
  {
   "cell_type": "code",
   "execution_count": null,
   "outputs": [],
   "source": [
    "\n"
   ],
   "metadata": {
    "collapsed": false,
    "pycharm": {
     "name": "#%%\n"
    }
   }
  }
 ],
 "metadata": {
  "language_info": {
   "codemirror_mode": {
    "name": "ipython",
    "version": 2
   },
   "file_extension": ".py",
   "mimetype": "text/x-python",
   "name": "python",
   "nbconvert_exporter": "python",
   "pygments_lexer": "ipython2",
   "version": "2.7.6"
  },
  "kernelspec": {
   "name": "python3",
   "language": "python",
   "display_name": "Python 3"
  },
  "pycharm": {
   "stem_cell": {
    "cell_type": "raw",
    "source": [],
    "metadata": {
     "collapsed": false
    }
   }
  }
 },
 "nbformat": 4,
 "nbformat_minor": 0
}