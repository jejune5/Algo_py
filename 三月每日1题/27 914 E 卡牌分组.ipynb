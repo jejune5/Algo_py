{
 "cells": [
  {
   "cell_type": "markdown",
   "metadata": {
    "collapsed": true,
    "pycharm": {
     "name": "#%% md\n"
    }
   },
   "source": [
    "914. 卡牌分组\n",
    "给定一副牌，每张牌上都写着一个整数。\n",
    "\n",
    "此时，你需要选定一个数字 X，使我们可以将整副牌按下述规则分成 1 组或更多组：\n",
    "\n",
    "每组都有 X 张牌。\n",
    "组内所有的牌上都写着相同的整数。\n",
    "仅当你可选的 X >= 2 时返回 true。"
   ]
  },
  {
   "cell_type": "code",
   "execution_count": 178,
   "outputs": [
    {
     "name": "stdout",
     "text": [
      "True\n"
     ],
     "output_type": "stream"
    }
   ],
   "source": [
    "def hasGroupsSizeX(deck):\n",
    "    \n",
    "    def isSameList(list):\n",
    "        for i in range(1, len(list)):\n",
    "            if list[0] != list[i]:\n",
    "                return False\n",
    "        return True\n",
    "    \n",
    "    deck.sort()\n",
    "    lens = len(deck)\n",
    "    X = 2\n",
    "    while 2 <= X <= lens:\n",
    "        if lens % X == 0:\n",
    "            n = lens//X\n",
    "            count = 0\n",
    "            for i in range(n):\n",
    "                if isSameList(deck[i*X : (i+1)*X]):\n",
    "                    count+=1\n",
    "                    if count == n:\n",
    "                        return True\n",
    "        X+=1\n",
    "    return False\n",
    "        \n",
    "\n",
    "\n",
    "deck = [1,3,1,3,1,3]\n",
    "t = hasGroupsSizeX(deck)\n",
    "print(t)"
   ],
   "metadata": {
    "collapsed": false,
    "pycharm": {
     "name": "#%%\n",
     "is_executing": false
    }
   }
  },
  {
   "cell_type": "code",
   "execution_count": 69,
   "outputs": [
    {
     "name": "stdout",
     "text": [
      "[1, 1, 2, 2, 3, 3, 4, 4]\nTrue\nTrue\n"
     ],
     "output_type": "stream"
    }
   ],
   "source": [
    "deck = [1,2,3,4,4,3,2,1]\n",
    "deck.sort()\n",
    "print(deck)\n",
    "lens = len(deck)\n",
    "X = 2\n",
    "while 2 <= X < lens:\n",
    "    if lens % X == 0:\n",
    "        n = lens//X\n",
    "        count = 0\n",
    "        for i in range(n):\n",
    "            if isSameList(deck[i*X : (i+1)*X]):\n",
    "                count+=1\n",
    "                if count == n:\n",
    "                    print(True)\n",
    "    X+=1\n",
    "    \n",
    "def isSameList(list):\n",
    "    for i in range(1, len(list)):\n",
    "        if list[0] != list[i]:\n",
    "            return False\n",
    "    return True\n",
    "\n",
    "l = [1,1,1,1]\n",
    "a = isSameList(l)\n",
    "print(a)"
   ],
   "metadata": {
    "collapsed": false,
    "pycharm": {
     "name": "#%%\n",
     "is_executing": false
    }
   }
  }
 ],
 "metadata": {
  "kernelspec": {
   "display_name": "Python 3",
   "language": "python",
   "name": "python3"
  },
  "language_info": {
   "codemirror_mode": {
    "name": "ipython",
    "version": 2
   },
   "file_extension": ".py",
   "mimetype": "text/x-python",
   "name": "python",
   "nbconvert_exporter": "python",
   "pygments_lexer": "ipython2",
   "version": "2.7.6"
  },
  "pycharm": {
   "stem_cell": {
    "cell_type": "raw",
    "source": [],
    "metadata": {
     "collapsed": false
    }
   }
  }
 },
 "nbformat": 4,
 "nbformat_minor": 0
}