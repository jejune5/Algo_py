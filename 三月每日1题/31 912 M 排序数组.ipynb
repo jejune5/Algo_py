{
 "cells": [
  {
   "cell_type": "markdown",
   "metadata": {
    "collapsed": true,
    "pycharm": {
     "name": "#%% md\n"
    }
   },
   "source": [
    "给你一个整数数组 nums，请你将该数组升序排列。\n",
    "\n",
    " \n",
    "\n",
    "示例 1：\n",
    "\n",
    "输入：nums = [5,2,3,1]\n",
    "输出：[1,2,3,5]"
   ]
  },
  {
   "cell_type": "code",
   "execution_count": 3,
   "outputs": [
    {
     "name": "stdout",
     "text": [
      "[1, 2, 3, 5]\n"
     ],
     "output_type": "stream"
    }
   ],
   "source": [
    "def merge(left,right):\n",
    "    res = []\n",
    "    i = j = 0\n",
    "    while i < len(left) and j <len(right):\n",
    "        if left[i] < right[j]:\n",
    "            res.append(left[i])\n",
    "            i+=1\n",
    "        else:\n",
    "            res.append(right[j])\n",
    "            j+=1\n",
    "    \n",
    "    if i == len(left):\n",
    "        for x in right[j:]:\n",
    "            res.append(x)\n",
    "    else:\n",
    "        for x in left[i:]:\n",
    "            res.append(x)\n",
    "    return res\n",
    "\n",
    "def sortArray(nums):\n",
    "    \n",
    "    if len(nums) <=1 :\n",
    "        return nums\n",
    "    mid = len(nums) // 2\n",
    "    L = sortArray(nums[:mid])\n",
    "    R = sortArray(nums[mid:])\n",
    "    \n",
    "    return merge(L,R)\n",
    "\n",
    "nums = [5,2,3,1]\n",
    "t = sortArray(nums)\n",
    "print(t)"
   ],
   "metadata": {
    "collapsed": false,
    "pycharm": {
     "name": "#%%\n",
     "is_executing": false
    }
   }
  },
  {
   "cell_type": "code",
   "execution_count": 17,
   "outputs": [
    {
     "name": "stdout",
     "text": [
      "[3, 1]\n4\n"
     ],
     "output_type": "stream"
    }
   ],
   "source": [
    "\n",
    "def sortArray(nums):\n",
    "    \n",
    "    def merge(nums,L,R):\n",
    "        if L == R:\n",
    "            return \n",
    "        mid = (L+R) // 2\n",
    "        \n"
   ],
   "metadata": {
    "collapsed": false,
    "pycharm": {
     "name": "#%%\n",
     "is_executing": false
    }
   }
  },
  {
   "cell_type": "code",
   "execution_count": 47,
   "outputs": [
    {
     "name": "stdout",
     "text": [
      "5\n"
     ],
     "output_type": "stream"
    }
   ],
   "source": [
    "nums = [5,2,3,1]\n",
    "print(nums.pop(0))"
   ],
   "metadata": {
    "collapsed": false,
    "pycharm": {
     "name": "#%%\n",
     "is_executing": false
    }
   }
  }
 ],
 "metadata": {
  "kernelspec": {
   "display_name": "Python 3",
   "language": "python",
   "name": "python3"
  },
  "language_info": {
   "codemirror_mode": {
    "name": "ipython",
    "version": 2
   },
   "file_extension": ".py",
   "mimetype": "text/x-python",
   "name": "python",
   "nbconvert_exporter": "python",
   "pygments_lexer": "ipython2",
   "version": "2.7.6"
  },
  "pycharm": {
   "stem_cell": {
    "cell_type": "raw",
    "source": [],
    "metadata": {
     "collapsed": false
    }
   }
  }
 },
 "nbformat": 4,
 "nbformat_minor": 0
}