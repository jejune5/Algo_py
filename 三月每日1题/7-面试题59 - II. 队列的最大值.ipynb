{
 "cells": [
  {
   "cell_type": "markdown",
   "metadata": {
    "collapsed": true,
    "pycharm": {
     "name": "#%% md\n"
    }
   },
   "source": [
    "请定义一个队列并实现函数 max_value 得到队列里的最大值，要求函数max_value、push_back 和 pop_front 的均摊时间复杂度都是O(1)。\n",
    "\n",
    "若队列为空，pop_front 和 max_value 需要返回 -1\n",
    "\n",
    "示例 1：\n",
    "\n",
    "输入: \n",
    "[\"MaxQueue\",\"push_back\",\"push_back\",\"max_value\",\"pop_front\",\"max_value\"]\n",
    "[[],[1],[2],[],[],[]]\n",
    "输出: [null,null,null,2,1,2]"
   ]
  },
  {
   "cell_type": "code",
   "execution_count": 10,
   "outputs": [],
   "source": [
    "import queue\n",
    "class MaxQueue:\n",
    "\n",
    "    def __init__(self):\n",
    "        self.deque = queue.deque()\n",
    "\n",
    "    def max_value(self) -> int:\n",
    "        return max(self.queue) if self.deque else -1\n",
    "\n",
    "    def push_back(self, value: int) -> None:\n",
    "        self.deque.append(value)\n",
    "\n",
    "    def pop_front(self) -> int:\n",
    "        return self.deque.popleft() if self.deque else -1\n",
    "        \n",
    "\n",
    "# Your MaxQueue object will be instantiated and called as such:\n",
    "obj = MaxQueue()\n",
    "param_1 = obj.max_value()\n",
    "# obj.pu\n",
    "# \n",
    "# \n",
    "# \n",
    "# \n",
    "# \n",
    "# sh_back(value)\n",
    "param_3 = obj.pop_front()\n"
   ],
   "metadata": {
    "collapsed": false,
    "pycharm": {
     "name": "#%%\n",
     "is_executing": false
    }
   }
  }
 ],
 "metadata": {
  "kernelspec": {
   "display_name": "Python 3",
   "language": "python",
   "name": "python3"
  },
  "language_info": {
   "codemirror_mode": {
    "name": "ipython",
    "version": 2
   },
   "file_extension": ".py",
   "mimetype": "text/x-python",
   "name": "python",
   "nbconvert_exporter": "python",
   "pygments_lexer": "ipython2",
   "version": "2.7.6"
  },
  "pycharm": {
   "stem_cell": {
    "cell_type": "raw",
    "source": [],
    "metadata": {
     "collapsed": false
    }
   }
  }
 },
 "nbformat": 4,
 "nbformat_minor": 0
}