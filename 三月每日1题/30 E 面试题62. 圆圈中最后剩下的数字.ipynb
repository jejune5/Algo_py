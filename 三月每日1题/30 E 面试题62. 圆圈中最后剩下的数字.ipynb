{
 "cells": [
  {
   "cell_type": "markdown",
   "metadata": {
    "collapsed": true,
    "pycharm": {
     "name": "#%% md\n"
    }
   },
   "source": [
    "0,1,,n-1这n个数字排成一个圆圈，从数字0开始，每次从这个圆圈里删除第m个数字。求出这个圆圈里剩下的最后一个数字。\n",
    "\n",
    "例如，0、1、2、3、4这5个数字组成一个圆圈，从数字0开始每次删除第3个数字，则删除的前4个数字依次是2、0、4、1，因此最后剩下的数字是3。\n",
    "\n",
    "示例 1：\n",
    "输入: n = 5, m = 3\n",
    "输出: 3\n",
    "\n",
    "示例 2：\n",
    "输入: n = 10, m = 17\n",
    "输出: 2"
   ]
  },
  {
   "cell_type": "code",
   "execution_count": 257,
   "outputs": [
    {
     "name": "stdout",
     "text": [
      "2\n"
     ],
     "output_type": "stream"
    }
   ],
   "source": [
    "def lastRemaining(n: int, m: int) -> int:\n",
    "    \n",
    "    N = list(range(n))\n",
    "    tmp = list(range(n))\n",
    "    index = -1\n",
    "    \n",
    "    while len(N) > 1:\n",
    "        index += m\n",
    "        if index >= len(tmp):\n",
    "            i = (index-len(tmp)) // len(N) + 1\n",
    "            tmp += N * i\n",
    "        N.pop(N.index(tmp[index]))\n",
    "    return N[0]\n",
    "    \n",
    "n = 10\n",
    "m = 17\n",
    "t = lastRemaining(n,m)\n",
    "print(t)"
   ],
   "metadata": {
    "collapsed": false,
    "pycharm": {
     "name": "#%%\n",
     "is_executing": false
    }
   }
  },
  {
   "cell_type": "code",
   "execution_count": 2,
   "outputs": [
    {
     "name": "stdout",
     "text": [
      "[0, 1, 2, 3, 4] 2\n[0, 1, 3, 4] 4\n2 -> 0\n[1, 3, 4] 2\n[1, 3] 4\n1 -> 1\n[1]\n"
     ],
     "output_type": "stream"
    }
   ],
   "source": [
    "n = 5\n",
    "m = 3\n",
    "\n",
    "\n",
    "N = list(range(5))\n",
    "index = 0\n",
    "while len(N) != 1:\n",
    "    index += m-1\n",
    "    print(N,index)\n",
    "    while index >= len(N):\n",
    "        if index > len(N):\n",
    "            index = index - len(N) - 1\n",
    "            print('1 ->',index)\n",
    "        else:\n",
    "            index = index - len(N)\n",
    "            print('2 ->',index)\n",
    "    N.pop(index)\n",
    "print(N)"
   ],
   "metadata": {
    "collapsed": false,
    "pycharm": {
     "name": "#%%\n",
     "is_executing": false
    }
   }
  },
  {
   "cell_type": "code",
   "execution_count": 233,
   "outputs": [
    {
     "name": "stdout",
     "text": [
      "[0, 1, 2, 3, 4, 5, 6, 7, 8, 9] [0, 1, 2, 3, 4, 5, 6, 7, 8, 9]\nN: [0, 1, 2, 3, 4, 5, 6, 7, 8, 9] tmp [0, 1, 2, 3, 4, 5, 6, 7, 8, 9, 0, 1, 2, 3, 4, 5, 6, 7, 8, 9] idx 16\n[0, 1, 2, 3, 4, 5, 7, 8, 9]\nN: [0, 1, 2, 3, 4, 5, 7, 8, 9] tmp [0, 1, 2, 3, 4, 5, 6, 7, 8, 9, 0, 1, 2, 3, 4, 5, 6, 7, 8, 9, 0, 1, 2, 3, 4, 5, 7, 8, 9, 0, 1, 2, 3, 4, 5, 7, 8, 9] idx 33\n[0, 1, 2, 3, 5, 7, 8, 9]\nN: [0, 1, 2, 3, 5, 7, 8, 9] tmp [0, 1, 2, 3, 4, 5, 6, 7, 8, 9, 0, 1, 2, 3, 4, 5, 6, 7, 8, 9, 0, 1, 2, 3, 4, 5, 7, 8, 9, 0, 1, 2, 3, 4, 5, 7, 8, 9, 0, 1, 2, 3, 5, 7, 8, 9, 0, 1, 2, 3, 5, 7, 8, 9] idx 50\n[0, 1, 2, 3, 7, 8, 9]\nN: [0, 1, 2, 3, 7, 8, 9] tmp [0, 1, 2, 3, 4, 5, 6, 7, 8, 9, 0, 1, 2, 3, 4, 5, 6, 7, 8, 9, 0, 1, 2, 3, 4, 5, 7, 8, 9, 0, 1, 2, 3, 4, 5, 7, 8, 9, 0, 1, 2, 3, 5, 7, 8, 9, 0, 1, 2, 3, 5, 7, 8, 9, 0, 1, 2, 3, 7, 8, 9, 0, 1, 2, 3, 7, 8, 9] idx 67\n[0, 1, 2, 3, 7, 8]\nN: [0, 1, 2, 3, 7, 8] tmp [0, 1, 2, 3, 4, 5, 6, 7, 8, 9, 0, 1, 2, 3, 4, 5, 6, 7, 8, 9, 0, 1, 2, 3, 4, 5, 7, 8, 9, 0, 1, 2, 3, 4, 5, 7, 8, 9, 0, 1, 2, 3, 5, 7, 8, 9, 0, 1, 2, 3, 5, 7, 8, 9, 0, 1, 2, 3, 7, 8, 9, 0, 1, 2, 3, 7, 8, 9, 0, 1, 2, 3, 7, 8, 0, 1, 2, 3, 7, 8, 0, 1, 2, 3, 7, 8] idx 84\n[0, 1, 2, 3, 8]\nN: [0, 1, 2, 3, 8] tmp [0, 1, 2, 3, 4, 5, 6, 7, 8, 9, 0, 1, 2, 3, 4, 5, 6, 7, 8, 9, 0, 1, 2, 3, 4, 5, 7, 8, 9, 0, 1, 2, 3, 4, 5, 7, 8, 9, 0, 1, 2, 3, 5, 7, 8, 9, 0, 1, 2, 3, 5, 7, 8, 9, 0, 1, 2, 3, 7, 8, 9, 0, 1, 2, 3, 7, 8, 9, 0, 1, 2, 3, 7, 8, 0, 1, 2, 3, 7, 8, 0, 1, 2, 3, 7, 8, 0, 1, 2, 3, 8, 0, 1, 2, 3, 8, 0, 1, 2, 3, 8, 0, 1, 2, 3, 8] idx 101\n[1, 2, 3, 8]\nN: [1, 2, 3, 8] tmp [0, 1, 2, 3, 4, 5, 6, 7, 8, 9, 0, 1, 2, 3, 4, 5, 6, 7, 8, 9, 0, 1, 2, 3, 4, 5, 7, 8, 9, 0, 1, 2, 3, 4, 5, 7, 8, 9, 0, 1, 2, 3, 5, 7, 8, 9, 0, 1, 2, 3, 5, 7, 8, 9, 0, 1, 2, 3, 7, 8, 9, 0, 1, 2, 3, 7, 8, 9, 0, 1, 2, 3, 7, 8, 0, 1, 2, 3, 7, 8, 0, 1, 2, 3, 7, 8, 0, 1, 2, 3, 8, 0, 1, 2, 3, 8, 0, 1, 2, 3, 8, 0, 1, 2, 3, 8, 1, 2, 3, 8, 1, 2, 3, 8, 1, 2, 3, 8, 1, 2, 3, 8] idx 118\n[2, 3, 8]\nN: [2, 3, 8] tmp [0, 1, 2, 3, 4, 5, 6, 7, 8, 9, 0, 1, 2, 3, 4, 5, 6, 7, 8, 9, 0, 1, 2, 3, 4, 5, 7, 8, 9, 0, 1, 2, 3, 4, 5, 7, 8, 9, 0, 1, 2, 3, 5, 7, 8, 9, 0, 1, 2, 3, 5, 7, 8, 9, 0, 1, 2, 3, 7, 8, 9, 0, 1, 2, 3, 7, 8, 9, 0, 1, 2, 3, 7, 8, 0, 1, 2, 3, 7, 8, 0, 1, 2, 3, 7, 8, 0, 1, 2, 3, 8, 0, 1, 2, 3, 8, 0, 1, 2, 3, 8, 0, 1, 2, 3, 8, 1, 2, 3, 8, 1, 2, 3, 8, 1, 2, 3, 8, 1, 2, 3, 8, 2, 3, 8, 2, 3, 8, 2, 3, 8, 2, 3, 8, 2, 3, 8] idx 135\n[2, 8]\nN: [2, 8] tmp [0, 1, 2, 3, 4, 5, 6, 7, 8, 9, 0, 1, 2, 3, 4, 5, 6, 7, 8, 9, 0, 1, 2, 3, 4, 5, 7, 8, 9, 0, 1, 2, 3, 4, 5, 7, 8, 9, 0, 1, 2, 3, 5, 7, 8, 9, 0, 1, 2, 3, 5, 7, 8, 9, 0, 1, 2, 3, 7, 8, 9, 0, 1, 2, 3, 7, 8, 9, 0, 1, 2, 3, 7, 8, 0, 1, 2, 3, 7, 8, 0, 1, 2, 3, 7, 8, 0, 1, 2, 3, 8, 0, 1, 2, 3, 8, 0, 1, 2, 3, 8, 0, 1, 2, 3, 8, 1, 2, 3, 8, 1, 2, 3, 8, 1, 2, 3, 8, 1, 2, 3, 8, 2, 3, 8, 2, 3, 8, 2, 3, 8, 2, 3, 8, 2, 3, 8, 2, 8, 2, 8, 2, 8, 2, 8, 2, 8, 2, 8, 2, 8, 2, 8] idx 152\n[2]\n"
     ],
     "output_type": "stream"
    }
   ],
   "source": [
    "n = 10\n",
    "m = 17\n",
    "\n",
    "N = list(range(n))\n",
    "tmp = list(range(n))\n",
    "index = -1\n",
    "print(N,tmp)\n",
    "\n",
    "while len(N) > 1:\n",
    "    index += m\n",
    "    if index >= len(tmp):\n",
    "        # i = 1\n",
    "        # while len(tmp) + i*len(N) < index < len(tmp) + (i+1)*len(N):\n",
    "        #     i+=1\n",
    "        i = (index-len(tmp)) // len(N) + 1\n",
    "        tmp += N * i\n",
    "    print('N:',N,'tmp',tmp,'idx',index)\n",
    "        # tmp = tmp + N\n",
    "    N.pop(N.index(tmp[index]))\n",
    "    # N.pop(0)\n",
    "    print(N)"
   ],
   "metadata": {
    "collapsed": false,
    "pycharm": {
     "name": "#%%\n",
     "is_executing": false
    }
   }
  },
  {
   "cell_type": "code",
   "execution_count": 4,
   "outputs": [
    {
     "name": "stdout",
     "text": [
      "[7, 5, 4, 0, 9, 3, 1]\n[1, 2, 3, 7, 5, 4, 0, 9, 3, 1]\n[1]\n"
     ],
     "output_type": "stream"
    }
   ],
   "source": [
    "N = [7,5,4,0,9,3,1]\n",
    "print(N)\n",
    "Q = [1,2,3]\n",
    "print(Q+N)\n",
    "index = 0 \n",
    "while len(N) > 1:\n",
    "    tmp = N\n",
    "    # print('tmp',tmp*2)\n",
    "    N.pop(0)\n",
    "    \n",
    "print(N)"
   ],
   "metadata": {
    "collapsed": false,
    "pycharm": {
     "name": "#%%\n",
     "is_executing": false
    }
   }
  }
 ],
 "metadata": {
  "kernelspec": {
   "display_name": "Python 3",
   "language": "python",
   "name": "python3"
  },
  "language_info": {
   "codemirror_mode": {
    "name": "ipython",
    "version": 2
   },
   "file_extension": ".py",
   "mimetype": "text/x-python",
   "name": "python",
   "nbconvert_exporter": "python",
   "pygments_lexer": "ipython2",
   "version": "2.7.6"
  },
  "pycharm": {
   "stem_cell": {
    "cell_type": "raw",
    "source": [],
    "metadata": {
     "collapsed": false
    }
   }
  }
 },
 "nbformat": 4,
 "nbformat_minor": 0
}