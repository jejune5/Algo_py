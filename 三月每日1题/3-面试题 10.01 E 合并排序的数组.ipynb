{
 "cells": [
  {
   "cell_type": "markdown",
   "metadata": {
    "collapsed": true,
    "pycharm": {
     "name": "#%% md\n"
    }
   },
   "source": [
    "面试题 10.01. 合并排序的数组\n",
    "给定两个排序后的数组 A 和 B，其中 A 的末端有足够的缓冲空间容纳 B。 编写一个方法，将 B 合并入 A 并排序。\n",
    "\n",
    "初始化 A 和 B 的元素数量分别为 m 和 n。\n",
    "\n",
    "示例:\n",
    "\n",
    "输入:\n",
    "A = [1,2,3,0,0,0], m = 3\n",
    "B = [2,5,6],       n = 3\n",
    "\n",
    "输出: [1,2,2,3,5,6]"
   ]
  },
  {
   "cell_type": "code",
   "execution_count": 20,
   "outputs": [
    {
     "name": "stdout",
     "text": [
      "[1, 2, 2, 3, 5, 6]",
      "\n"
     ],
     "output_type": "stream"
    }
   ],
   "source": [
    "def merge(A, m: int, B, n: int) -> None:\n",
    "    A[m:m+n] = B\n",
    "    A.sort()\n",
    "    return A\n",
    "A = [1,2,3,0,0,0]\n",
    "m = 3\n",
    "B = [2,5,6]\n",
    "n = 3\n",
    "    \n",
    "t = merge(A, m, B, n)\n",
    "print(t)"
   ],
   "metadata": {
    "collapsed": false,
    "pycharm": {
     "name": "#%%\n",
     "is_executing": false
    }
   }
  }
 ],
 "metadata": {
  "kernelspec": {
   "display_name": "Python 3",
   "language": "python",
   "name": "python3"
  },
  "language_info": {
   "codemirror_mode": {
    "name": "ipython",
    "version": 2
   },
   "file_extension": ".py",
   "mimetype": "text/x-python",
   "name": "python",
   "nbconvert_exporter": "python",
   "pygments_lexer": "ipython2",
   "version": "2.7.6"
  },
  "pycharm": {
   "stem_cell": {
    "cell_type": "raw",
    "source": [],
    "metadata": {
     "collapsed": false
    }
   }
  }
 },
 "nbformat": 4,
 "nbformat_minor": 0
}