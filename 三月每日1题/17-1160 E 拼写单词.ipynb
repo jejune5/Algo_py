{
 "cells": [
  {
   "cell_type": "markdown",
   "metadata": {
    "collapsed": true,
    "pycharm": {
     "name": "#%% md\n"
    }
   },
   "source": [
    "给你一份『词汇表』（字符串数组） words 和一张『字母表』（字符串） chars。\n",
    "\n",
    "假如你可以用 chars 中的『字母』（字符）拼写出 words 中的某个『单词』（字符串），那么我们就认为你掌握了这个单词。\n",
    "\n",
    "注意：每次拼写时，chars 中的每个字母都只能用一次。\n",
    "\n",
    "返回词汇表 words 中你掌握的所有单词的 长度之和。\n",
    "\n",
    "示例 1：\n",
    "\n",
    "输入：words = [\"cat\",\"bt\",\"hat\",\"tree\"], chars = \"atach\"\n",
    "输出：6\n",
    "解释： \n",
    "可以形成字符串 \"cat\" 和 \"hat\"，所以答案是 3 + 3 = 6。"
   ]
  },
  {
   "cell_type": "code",
   "execution_count": 471,
   "outputs": [
    {
     "name": "stdout",
     "text": [
      "10 Time: 0.0\n"
     ],
     "output_type": "stream"
    }
   ],
   "source": [
    "def countCharacters(words, chars):\n",
    "    ans = 0\n",
    "    lens = len(chars)\n",
    "    for i in words:\n",
    "        j = 0\n",
    "        tmp = chars\n",
    "        index = chars.find(i[0])\n",
    "        while j != len(i) and index != -1 and lens > 0:\n",
    "            #print(i, tmp, index, j)\n",
    "            tmp = tmp.replace(tmp[index],'',1)\n",
    "            j+=1\n",
    "            if j < len(i):\n",
    "                index = tmp.find(i[j])\n",
    "                \n",
    "        #print(j,len(i),ans)\n",
    "        if j == len(i):\n",
    "            ans+=j\n",
    "        # else:\n",
    "            #chars = tmp\n",
    "    return ans\n",
    "\n",
    "#words = [\"dyiclysmffuhibgfvapygkorkqllqlvokosagyelotobicwcmebnpznjbirzrzsrtzjxhsfpiwyfhzyonmuabtlwin\",\"ndqeyhhcquplmznwslewjzuyfgklssvkqxmqjpwhrshycmvrb\",\"ulrrbpspyudncdlbkxkrqpivfftrggemkpyjl\",\"boygirdlggnh\",\"xmqohbyqwagkjzpyawsydmdaattthmuvjbzwpyopyafphx\",\"nulvimegcsiwvhwuiyednoxpugfeimnnyeoczuzxgxbqjvegcxeqnjbwnbvowastqhojepisusvsidhqmszbrnynkyop\",\"hiefuovybkpgzygprmndrkyspoiyapdwkxebgsmodhzpx\",\"juldqdzeskpffaoqcyyxiqqowsalqumddcufhouhrskozhlmobiwzxnhdkidr\",\"lnnvsdcrvzfmrvurucrzlfyigcycffpiuoo\",\"oxgaskztzroxuntiwlfyufddl\",\"tfspedteabxatkaypitjfkhkkigdwdkctqbczcugripkgcyfezpuklfqfcsccboarbfbjfrkxp\",\"qnagrpfzlyrouolqquytwnwnsqnmuzphne\",\"eeilfdaookieawrrbvtnqfzcricvhpiv\",\"sisvsjzyrbdsjcwwygdnxcjhzhsxhpceqz\",\"yhouqhjevqxtecomahbwoptzlkyvjexhzcbccusbjjdgcfzlkoqwiwue\",\"hwxxighzvceaplsycajkhynkhzkwkouszwaiuzqcleyflqrxgjsvlegvupzqijbornbfwpefhxekgpuvgiyeudhncv\",\"cpwcjwgbcquirnsazumgjjcltitmeyfaudbnbqhflvecjsupjmgwfbjo\",\"teyygdmmyadppuopvqdodaczob\",\"qaeowuwqsqffvibrtxnjnzvzuuonrkwpysyxvkijemmpdmtnqxwekbpfzs\",\"qqxpxpmemkldghbmbyxpkwgkaykaerhmwwjonrhcsubchs\"]\n",
    "#chars = \"usdruypficfbpfbivlrhutcgvyjenlxzeovdyjtgvvfdjzcmikjraspdfp\"\n",
    "words = [\"cat\",\"bt\",\"hat\",\"tree\"];chars = \"atach\"\n",
    "words = [\"hello\",\"world\",\"leetcode\"]; chars = \"welldonehoneyr\"\n",
    "\n",
    "import time\n",
    "time_start=time.time()\n",
    "t = countCharacters(words, chars)\n",
    "time_end=time.time()\n",
    "print(t,'Time:',(time_end-time_start)*100000.0)"
   ],
   "metadata": {
    "collapsed": false,
    "pycharm": {
     "name": "#%%\n",
     "is_executing": false
    }
   }
  },
  {
   "cell_type": "code",
   "execution_count": 113,
   "outputs": [
    {
     "name": "stdout",
     "text": [
      "bcdefg\n"
     ],
     "output_type": "stream"
    }
   ],
   "source": [
    "s = 'abcdefga'\n",
    "s = s.replace('a','')\n",
    "print(s)\n",
    "# s = list(s)\n",
    "idx = [1, 2, 3]\n",
    "# s.pop(1,2)\n",
    "# s.remove(['a','b'])\n",
    "# print(s)"
   ],
   "metadata": {
    "collapsed": false,
    "pycharm": {
     "name": "#%%\n",
     "is_executing": false
    }
   }
  }
 ],
 "metadata": {
  "kernelspec": {
   "display_name": "Python 3",
   "language": "python",
   "name": "python3"
  },
  "language_info": {
   "codemirror_mode": {
    "name": "ipython",
    "version": 2
   },
   "file_extension": ".py",
   "mimetype": "text/x-python",
   "name": "python",
   "nbconvert_exporter": "python",
   "pygments_lexer": "ipython2",
   "version": "2.7.6"
  },
  "pycharm": {
   "stem_cell": {
    "cell_type": "raw",
    "source": [],
    "metadata": {
     "collapsed": false
    }
   }
  }
 },
 "nbformat": 4,
 "nbformat_minor": 0
}