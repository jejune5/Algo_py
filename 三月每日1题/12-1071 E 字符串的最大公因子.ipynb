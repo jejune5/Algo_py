{
 "cells": [
  {
   "cell_type": "markdown",
   "metadata": {
    "collapsed": true,
    "pycharm": {
     "name": "#%% md\n"
    }
   },
   "source": [
    "对于字符串 S 和 T，只有在 S = T + ... + T（T 与自身连接 1 次或多次）时，我们才认定 “T 能除尽 S”。\n",
    "\n",
    "返回最长字符串 X，要求满足 X 能除尽 str1 且 X 能除尽 str2。\n",
    "\n",
    " \n",
    "\n",
    "示例 1：\n",
    "\n",
    "输入：str1 = \"ABCABC\", str2 = \"ABC\"\n",
    "输出：\"ABC\""
   ]
  },
  {
   "cell_type": "code",
   "execution_count": 339,
   "outputs": [
    {
     "name": "stdout",
     "text": [
      "\n"
     ],
     "output_type": "stream"
    }
   ],
   "source": [
    "def gcdOfStrings(str1: str, str2: str) -> str:\n",
    "    \n",
    "    lens1 = len(str1)\n",
    "    lens2 = len(str2)\n",
    "    tmp = ''\n",
    "    ans = ''\n",
    "    for i,e in enumerate(str2):\n",
    "        tmp += e\n",
    "        if lens1%(i+1) == 0 and tmp * (lens1//(i+1)) == str1 and \\\n",
    "                lens2%(i+1) == 0 and tmp * (lens2//(i+1)) == str2 :\n",
    "            ans = tmp\n",
    "    return ans\n",
    "\n",
    "\n",
    "str1 = \"AAAAAA\"\n",
    "str2 = \"BBB\"\n",
    "t = gcdOfStrings(str1, str2)\n",
    "print(t)"
   ],
   "metadata": {
    "collapsed": false,
    "pycharm": {
     "name": "#%%\n",
     "is_executing": false
    }
   }
  },
  {
   "cell_type": "code",
   "execution_count": 223,
   "outputs": [
    {
     "name": "stdout",
     "text": [
      "A\n"
     ],
     "output_type": "stream"
    }
   ],
   "source": [
    "def longestSubstring(s: str) -> str:\n",
    "    \n",
    "    lens = len(s)\n",
    "    ans = ''\n",
    "    for i,e in enumerate(s):\n",
    "        ans += e\n",
    "        if lens%(i+1) == 0 and ans * (lens//(i+1)) == s:\n",
    "            return ans\n",
    "    return s\n",
    "        \n",
    "str1 = \"AAA\"\n",
    "str2 = \"ABAB\"\n",
    "t = longestSubstring(str1)\n",
    "print(t)"
   ],
   "metadata": {
    "collapsed": false,
    "pycharm": {
     "name": "#%%\n",
     "is_executing": false
    }
   }
  }
 ],
 "metadata": {
  "kernelspec": {
   "display_name": "Python 3",
   "language": "python",
   "name": "python3"
  },
  "language_info": {
   "codemirror_mode": {
    "name": "ipython",
    "version": 2
   },
   "file_extension": ".py",
   "mimetype": "text/x-python",
   "name": "python",
   "nbconvert_exporter": "python",
   "pygments_lexer": "ipython2",
   "version": "2.7.6"
  },
  "pycharm": {
   "stem_cell": {
    "cell_type": "raw",
    "source": [],
    "metadata": {
     "collapsed": false
    }
   }
  }
 },
 "nbformat": 4,
 "nbformat_minor": 0
}