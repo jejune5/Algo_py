{
 "cells": [
  {
   "cell_type": "code",
   "execution_count": 24,
   "metadata": {
    "collapsed": true,
    "pycharm": {
     "is_executing": false
    }
   },
   "outputs": [
    {
     "name": "stdout",
     "text": [
      "leetcode\nl \ne l\ne le\n111\nt lee\nc leet\no leetc\nd leetco\ne leetcod\n111\n0\n"
     ],
     "output_type": "stream"
    }
   ],
   "source": [
    "def firstUniqChar(self, s: str) -> int:\n",
    "    pass\n",
    "\n",
    "s = \"leetcode\"\n",
    "ss = ''+s\n",
    "\n",
    "print(s)\n",
    "for i in range(len(s)):\n",
    "    print(s[i], s[:i])\n",
    "    if s[i] in s[:i]:\n",
    "        print(111)\n",
    "        ss = ss.replace(s[i], '')\n",
    "\n",
    "print(s.index(ss[0]))\n"
   ]
  }
 ],
 "metadata": {
  "language_info": {
   "codemirror_mode": {
    "name": "ipython",
    "version": 2
   },
   "file_extension": ".py",
   "mimetype": "text/x-python",
   "name": "python",
   "nbconvert_exporter": "python",
   "pygments_lexer": "ipython2",
   "version": "2.7.6"
  },
  "kernelspec": {
   "name": "python3",
   "language": "python",
   "display_name": "Python 3"
  },
  "pycharm": {
   "stem_cell": {
    "cell_type": "raw",
    "source": [],
    "metadata": {
     "collapsed": false
    }
   }
  }
 },
 "nbformat": 4,
 "nbformat_minor": 0
}