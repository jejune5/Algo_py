{
 "cells": [
  {
   "cell_type": "code",
   "execution_count": 1,
   "metadata": {
    "collapsed": true,
    "pycharm": {
     "is_executing": false
    }
   },
   "outputs": [
    {
     "name": "stdout",
     "text": [
      "['o', 'l', 'l', 'e', 'h']\n"
     ],
     "output_type": "stream"
    }
   ],
   "source": [
    "def reverseString(s):\n",
    "    pass\n",
    "\n",
    "s = [\"h\",\"e\",\"l\",\"l\",\"o\"]\n",
    "\n",
    "# for i in range(len(s)//2):\n",
    "#     tmp = s[i]\n",
    "#     s[i] = s[len(s) - 1 - i]\n",
    "#     s[len(s) - 1 - i] = tmp\n",
    "    \n",
    "# print(s)\n",
    "\n",
    "s = [\"h\",\"e\",\"l\",\"l\",\"o\"]\n",
    "for i in range(len(s)//2):\n",
    "    s[i], s[len(s) - i - 1] = s[len(s) - i - 1], s[i]\n",
    "    \n",
    "print(s)"
   ]
  }
 ],
 "metadata": {
  "language_info": {
   "codemirror_mode": {
    "name": "ipython",
    "version": 2
   },
   "file_extension": ".py",
   "mimetype": "text/x-python",
   "name": "python",
   "nbconvert_exporter": "python",
   "pygments_lexer": "ipython2",
   "version": "2.7.6"
  },
  "kernelspec": {
   "name": "python3",
   "language": "python",
   "display_name": "Python 3"
  },
  "pycharm": {
   "stem_cell": {
    "cell_type": "raw",
    "source": [],
    "metadata": {
     "collapsed": false
    }
   }
  }
 },
 "nbformat": 4,
 "nbformat_minor": 0
}