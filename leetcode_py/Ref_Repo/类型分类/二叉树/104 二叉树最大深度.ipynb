{
 "cells": [
  {
   "cell_type": "code",
   "execution_count": 59,
   "metadata": {
    "collapsed": true,
    "pycharm": {
     "is_executing": false
    }
   },
   "outputs": [
    {
     "name": "stdout",
     "text": [
      "None\nNone\n"
     ],
     "output_type": "stream"
    }
   ],
   "source": [
    "# Definition for a binary tree node.\n",
    "class TreeNode:\n",
    "    def __init__(self, x):\n",
    "        self.val = x\n",
    "        self.left = None\n",
    "        self.right = None\n",
    "\n",
    "\n",
    "def List2TreeNode(List):\n",
    "    \n",
    "  #判断List是否为空\n",
    "  if len(List)==0:\n",
    "    return TreeNode(None)\n",
    "  \n",
    "  root = TreeNode(List[0])\n",
    "  \n",
    "  if len(List) > 0:\n",
    "      for\n",
    "  \n",
    "  # mid=len(List)//2 # 有序数组的中间元素的下标\n",
    "  # #print(mid)\n",
    "  # #start=0 # 数组第一个元素的下标\n",
    "  # #end=-1 # 数组最后一个元素的下标\n",
    "  # if len(List) > 0:\n",
    "  #   #将中间元素作为二叉树的根\n",
    "  #   root=TreeNode(List[mid])\n",
    "  #   \n",
    "  #   #如果左边的元素个数不为零，则递归调用函数，生成左子树\n",
    "  #   if len(List[:mid])>0:\n",
    "  #     root.left = List2TreeNode(List[:mid])\n",
    "  #   \n",
    "  #   #如果右边的元素个数不为零，则递归调用函数，生成左子树\n",
    "  #   if len(List[mid+1:])>0:\n",
    "  #     root.right_child = List2TreeNode(List[mid+1:])\n",
    "  #         \n",
    "  # print(root.val)\n",
    "  # return root\n",
    "\n",
    "Tree = [3,9,20,None,None,15,7]\n",
    "\n",
    "def TreeNode2List(TreeNode):\n",
    "    if TreeNode is None:\n",
    "        print(TreeNode)\n",
    "        return \n",
    "    \n",
    "    if TreeNode.left is not None:\n",
    "        TreeNode2List(TreeNode.left)\n",
    "        \n",
    "            \n",
    "    if TreeNode.right is not None:\n",
    "        TreeNode2List(TreeNode.right)\n",
    "        \n",
    "    # pass\n",
    "\n",
    "\n",
    "tree = List2TreeNode(Tree)\n",
    "print(tree)\n",
    "\n",
    "\n",
    "TreeNode2List(tree)\n",
    "\n",
    "\n",
    "    "
   ]
  },
  {
   "cell_type": "code",
   "execution_count": 53,
   "outputs": [
    {
     "name": "stdout",
     "text": [
      "0\n"
     ],
     "output_type": "stream"
    },
    {
     "traceback": [
      "\u001b[1;31m---------------------------------------------------------------------------\u001b[0m",
      "\u001b[1;31mIndexError\u001b[0m                                Traceback (most recent call last)",
      "\u001b[1;32m<ipython-input-53-177d4d6769cd>\u001b[0m in \u001b[0;36m<module>\u001b[1;34m\u001b[0m\n\u001b[0;32m      1\u001b[0m \u001b[0ma\u001b[0m \u001b[1;33m=\u001b[0m \u001b[1;33m[\u001b[0m\u001b[1;33m]\u001b[0m\u001b[1;33m\u001b[0m\u001b[1;33m\u001b[0m\u001b[0m\n\u001b[0;32m      2\u001b[0m \u001b[0mprint\u001b[0m\u001b[1;33m(\u001b[0m\u001b[0mlen\u001b[0m\u001b[1;33m(\u001b[0m\u001b[0ma\u001b[0m\u001b[1;33m)\u001b[0m\u001b[1;33m)\u001b[0m\u001b[1;33m\u001b[0m\u001b[1;33m\u001b[0m\u001b[0m\n\u001b[1;32m----> 3\u001b[1;33m \u001b[0mprint\u001b[0m\u001b[1;33m(\u001b[0m\u001b[0ma\u001b[0m\u001b[1;33m[\u001b[0m\u001b[1;36m0\u001b[0m\u001b[1;33m]\u001b[0m\u001b[1;33m)\u001b[0m\u001b[1;33m\u001b[0m\u001b[1;33m\u001b[0m\u001b[0m\n\u001b[0m",
      "\u001b[1;31mIndexError\u001b[0m: list index out of range"
     ],
     "ename": "IndexError",
     "evalue": "list index out of range",
     "output_type": "error"
    }
   ],
   "source": [
    "a = []\n",
    "print(len(a))\n",
    "print(a[0])"
   ],
   "metadata": {
    "collapsed": false,
    "pycharm": {
     "name": "#%%\n",
     "is_executing": false
    }
   }
  }
 ],
 "metadata": {
  "language_info": {
   "codemirror_mode": {
    "name": "ipython",
    "version": 2
   },
   "file_extension": ".py",
   "mimetype": "text/x-python",
   "name": "python",
   "nbconvert_exporter": "python",
   "pygments_lexer": "ipython2",
   "version": "2.7.6"
  },
  "kernelspec": {
   "name": "python3",
   "language": "python",
   "display_name": "Python 3"
  },
  "pycharm": {
   "stem_cell": {
    "cell_type": "raw",
    "source": [],
    "metadata": {
     "collapsed": false
    }
   }
  }
 },
 "nbformat": 4,
 "nbformat_minor": 0
}