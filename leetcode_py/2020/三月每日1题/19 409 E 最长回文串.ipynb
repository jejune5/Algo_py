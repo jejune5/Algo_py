{
 "cells": [
  {
   "cell_type": "markdown",
   "metadata": {
    "collapsed": true,
    "pycharm": {
     "name": "#%% md\n"
    }
   },
   "source": [
    "给定一个包含大写字母和小写字母的字符串，找到通过这些字母构造成的最长的回文串。\n",
    "\n",
    "在构造过程中，请注意区分大小写。比如 \"Aa\" 不能当做一个回文字符串。\n",
    "\n",
    "注意:\n",
    "假设字符串的长度不会超过 1010。\n",
    "\n",
    "示例 1:\n",
    "\n",
    "输入:\n",
    "\"abccccdd\"\n",
    "\n",
    "输出:\n",
    "7\n",
    "\n",
    "解释:\n",
    "我们可以构造的最长的回文串是\"dccaccd\", 它的长度是 7。"
   ]
  },
  {
   "cell_type": "code",
   "execution_count": 8,
   "outputs": [
    {
     "name": "stdout",
     "text": [
      "7\n"
     ],
     "output_type": "stream"
    }
   ],
   "source": [
    "def longestPalindrome(s: str):\n",
    "    \n",
    "    import collections\n",
    "    \n",
    "    count = collections.Counter(s)\n",
    "    ans = 0\n",
    "    for v in count.values():\n",
    "        ans += v//2*2\n",
    "        if ans%2 == 0 and v%2 == 1:\n",
    "            ans+=1\n",
    "    return ans\n",
    "\n",
    "s = \"abccccdd\"\n",
    "ss = longestPalindrome(s)\n",
    "print(ss)"
   ],
   "metadata": {
    "collapsed": false,
    "pycharm": {
     "name": "#%%\n",
     "is_executing": false
    }
   }
  }
 ],
 "metadata": {
  "kernelspec": {
   "display_name": "Python 3",
   "language": "python",
   "name": "python3"
  },
  "language_info": {
   "codemirror_mode": {
    "name": "ipython",
    "version": 2
   },
   "file_extension": ".py",
   "mimetype": "text/x-python",
   "name": "python",
   "nbconvert_exporter": "python",
   "pygments_lexer": "ipython2",
   "version": "2.7.6"
  },
  "pycharm": {
   "stem_cell": {
    "cell_type": "raw",
    "source": [],
    "metadata": {
     "collapsed": false
    }
   }
  }
 },
 "nbformat": 4,
 "nbformat_minor": 0
}