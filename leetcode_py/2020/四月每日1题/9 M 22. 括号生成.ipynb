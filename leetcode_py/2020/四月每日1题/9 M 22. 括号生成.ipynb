{
 "cells": [
  {
   "cell_type": "markdown",
   "metadata": {
    "collapsed": true,
    "pycharm": {
     "name": "#%% md\n"
    }
   },
   "source": [
    "数字 n 代表生成括号的对数，请你设计一个函数，用于能够生成所有可能的并且 有效的 括号组合。"
   ]
  },
  {
   "cell_type": "code",
   "execution_count": 81,
   "outputs": [
    {
     "name": "stdout",
     "text": [
      "0 [''] ['']\n  []\n0 [''] ['()']\n0 [''] ['']\n  []\n () []\n0 [''] ['']\n  []\n1 ['()'] ['']\n0 [''] ['']\n  []\n()  ['()()']\n0 [''] ['()()', '(())']\n0 [''] ['']\n  []\n0 [''] ['()']\n0 [''] ['']\n  []\n () []\n0 [''] ['']\n  []\n1 ['()'] ['']\n0 [''] ['']\n  []\n()  ['()()']\n ()() []\n (()) ['()()()']\n0 [''] ['']\n  []\n0 [''] ['']\n  []\n1 ['()'] ['()']\n0 [''] ['']\n  []\n0 [''] ['']\n  []\n() () ['()()()', '()(())']\n0 [''] ['']\n  []\n0 [''] ['()']\n0 [''] ['']\n  []\n () []\n0 [''] ['']\n  []\n1 ['()'] ['']\n0 [''] ['']\n  []\n()  ['()()']\n2 ['()()', '(())'] ['']\n0 [''] ['']\n  []\n0 [''] ['()']\n0 [''] ['']\n  []\n () []\n0 [''] ['']\n  []\n1 ['()'] ['']\n0 [''] ['']\n  []\n()  ['()()']\n()()  ['()()()', '()(())', '(())()']\n(())  ['()()()', '()(())', '(())()', '(()())']\n= = =  ['()()()', '()(())', '(())()', '(()())', '((()))']\n"
     ],
     "output_type": "stream"
    }
   ],
   "source": [
    "def generateParenthesis(n):\n",
    "    if n == 0:\n",
    "        return ['']\n",
    "    ans = []\n",
    "    for c in range(n):\n",
    "        print(c,generateParenthesis(c),generateParenthesis(n-1-c))\n",
    "        for left in generateParenthesis(c):\n",
    "            for right in generateParenthesis(n-1-c):\n",
    "                print(left,right,ans)\n",
    "                ans.append('({}){}'.format(left, right))\n",
    "    return ans\n",
    "\n",
    "n = 3\n",
    "t = generateParenthesis(n)\n",
    "print('= = = ',t)"
   ],
   "metadata": {
    "collapsed": false,
    "pycharm": {
     "name": "#%%\n",
     "is_executing": false
    }
   }
  },
  {
   "cell_type": "code",
   "execution_count": 80,
   "outputs": [
    {
     "name": "stdout",
     "text": [
      "()()\n"
     ],
     "output_type": "stream"
    }
   ],
   "source": [
    "s = '({0}){1}'.format('',())\n",
    "print(s)"
   ],
   "metadata": {
    "collapsed": false,
    "pycharm": {
     "name": "#%%\n",
     "is_executing": false
    }
   }
  }
 ],
 "metadata": {
  "kernelspec": {
   "display_name": "Python 3",
   "language": "python",
   "name": "python3"
  },
  "language_info": {
   "codemirror_mode": {
    "name": "ipython",
    "version": 2
   },
   "file_extension": ".py",
   "mimetype": "text/x-python",
   "name": "python",
   "nbconvert_exporter": "python",
   "pygments_lexer": "ipython2",
   "version": "2.7.6"
  },
  "pycharm": {
   "stem_cell": {
    "cell_type": "raw",
    "source": [],
    "metadata": {
     "collapsed": false
    }
   }
  }
 },
 "nbformat": 4,
 "nbformat_minor": 0
}