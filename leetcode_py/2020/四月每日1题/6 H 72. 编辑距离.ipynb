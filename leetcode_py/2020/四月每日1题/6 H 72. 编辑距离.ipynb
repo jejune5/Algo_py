{
 "cells": [
  {
   "cell_type": "markdown",
   "metadata": {
    "collapsed": true,
    "pycharm": {
     "name": "#%% md\n"
    }
   },
   "source": [
    "给你两个单词 word1 和 word2，请你计算出将 word1 转换成 word2 所使用的最少操作数 。\n",
    "你可以对一个单词进行如下三种操作：\n",
    "\n",
    "插入一个字符\n",
    "删除一个字符\n",
    "替换一个字符\n",
    "\n",
    "示例 1：\n",
    "输入：word1 = \"horse\", word2 = \"ros\"\n",
    "输出：3\n",
    "解释：\n",
    "horse -> rorse (将 'h' 替换为 'r')\n",
    "rorse -> rose (删除 'r')\n",
    "rose -> ros (删除 'e')"
   ]
  },
  {
   "cell_type": "code",
   "execution_count": 24,
   "outputs": [
    {
     "name": "stdout",
     "text": [
      "[[0, 1, 2, 3], [1, 0, 0, 0], [2, 0, 0, 0], [3, 0, 0, 0], [4, 0, 0, 0], [5, 0, 0, 0]]\n3\n"
     ],
     "output_type": "stream"
    }
   ],
   "source": [
    "def minDistance(word1: str, word2: str):\n",
    "        n = len(word1)\n",
    "        m = len(word2)\n",
    "        \n",
    "        # 有一个字符串为空串\n",
    "        if n * m == 0:\n",
    "            return n + m\n",
    "        \n",
    "        # DP 数组\n",
    "        D = [ [0] * (m + 1) for _ in range(n + 1)]\n",
    "        # 边界状态初始化\n",
    "        for i in range(n + 1):\n",
    "            D[i][0] = i\n",
    "        for j in range(m + 1):\n",
    "            D[0][j] = j\n",
    "        print(D)\n",
    "        \n",
    "        # 计算所有 DP 值\n",
    "        for i in range(1, n + 1):\n",
    "            for j in range(1, m + 1):\n",
    "                left = D[i - 1][j] + 1\n",
    "                down = D[i][j - 1] + 1\n",
    "                left_down = D[i - 1][j - 1] \n",
    "                if word1[i - 1] != word2[j - 1]:\n",
    "                    left_down += 1\n",
    "                D[i][j] = min(left, down, left_down)\n",
    "        \n",
    "        return D[n][m]\n",
    "\n",
    "word1 = \"horse\"\n",
    "word2 = \"ros\"\n",
    "t = minDistance(word1,word2)\n",
    "print(t)"
   ],
   "metadata": {
    "collapsed": false,
    "pycharm": {
     "name": "#%%\n",
     "is_executing": false
    }
   }
  },
  {
   "cell_type": "code",
   "execution_count": 4,
   "outputs": [
    {
     "name": "stdout",
     "text": [
      "ros  horse\n"
     ],
     "output_type": "stream"
    }
   ],
   "source": [
    "step = 0\n",
    "print(word2+'  '+word1)"
   ],
   "metadata": {
    "collapsed": false,
    "pycharm": {
     "name": "#%%\n",
     "is_executing": false
    }
   }
  }
 ],
 "metadata": {
  "kernelspec": {
   "display_name": "Python 3",
   "language": "python",
   "name": "python3"
  },
  "language_info": {
   "codemirror_mode": {
    "name": "ipython",
    "version": 2
   },
   "file_extension": ".py",
   "mimetype": "text/x-python",
   "name": "python",
   "nbconvert_exporter": "python",
   "pygments_lexer": "ipython2",
   "version": "2.7.6"
  },
  "pycharm": {
   "stem_cell": {
    "cell_type": "raw",
    "source": [],
    "metadata": {
     "collapsed": false
    }
   }
  }
 },
 "nbformat": 4,
 "nbformat_minor": 0
}