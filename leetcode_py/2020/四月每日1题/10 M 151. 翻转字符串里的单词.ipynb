{
 "cells": [
  {
   "cell_type": "markdown",
   "metadata": {
    "collapsed": true,
    "pycharm": {
     "name": "#%% md\n"
    }
   },
   "source": [
    "给定一个字符串，逐个翻转字符串中的每个单词。\n",
    "\n",
    " \n",
    "\n",
    "示例 1：\n",
    "\n",
    "输入: \"the sky is blue\"\n",
    "输出: \"blue is sky the\""
   ]
  },
  {
   "cell_type": "code",
   "execution_count": 63,
   "outputs": [
    {
     "name": "stdout",
     "text": [
      "blue is sky the\n"
     ],
     "output_type": "stream"
    }
   ],
   "source": [
    "def reverseWords(s: str):\n",
    "    ans = ''\n",
    "    import re\n",
    "    tmp = re.split(r'\\s+','a '+s+' b')[1:-1]\n",
    "    for i,e in enumerate(tmp[::-1]):\n",
    "        ans+=e\n",
    "        if i != len(tmp)-1:\n",
    "            ans+=' '\n",
    "    return ans\n",
    "\n",
    "s = \"the sky is blue\"\n",
    "t = reverseWords(s)\n",
    "print(t)"
   ],
   "metadata": {
    "collapsed": false,
    "pycharm": {
     "name": "#%%\n",
     "is_executing": false
    }
   }
  },
  {
   "cell_type": "code",
   "execution_count": 93,
   "outputs": [
    {
     "name": "stdout",
     "text": [
      "['the', 'sky', 'is', 'blue', 'a']\n"
     ],
     "output_type": "stream"
    }
   ],
   "source": [
    "s = \"  the sky is blue  a   \"\n",
    "# s = ''\n",
    "t = s.split()\n",
    "print(t)"
   ],
   "metadata": {
    "collapsed": false,
    "pycharm": {
     "name": "#%%\n",
     "is_executing": false
    }
   }
  }
 ],
 "metadata": {
  "kernelspec": {
   "display_name": "Python 3",
   "language": "python",
   "name": "python3"
  },
  "language_info": {
   "codemirror_mode": {
    "name": "ipython",
    "version": 2
   },
   "file_extension": ".py",
   "mimetype": "text/x-python",
   "name": "python",
   "nbconvert_exporter": "python",
   "pygments_lexer": "ipython2",
   "version": "2.7.6"
  },
  "pycharm": {
   "stem_cell": {
    "cell_type": "raw",
    "source": [],
    "metadata": {
     "collapsed": false
    }
   }
  }
 },
 "nbformat": 4,
 "nbformat_minor": 0
}