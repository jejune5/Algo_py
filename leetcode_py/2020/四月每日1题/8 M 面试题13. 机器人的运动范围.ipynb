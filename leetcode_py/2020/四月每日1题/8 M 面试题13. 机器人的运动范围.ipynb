{
 "cells": [
  {
   "cell_type": "markdown",
   "metadata": {
    "collapsed": true,
    "pycharm": {
     "name": "#%% md\n"
    }
   },
   "source": [
    "地上有一个m行n列的方格，从坐标 [0,0] 到坐标 [m-1,n-1] 。一个机器人从坐标 [0, 0] 的格子开始移动，它每次可以向左、右、上、下移动一格（不能移动到方格外），也不能进入行坐标和列坐标的数位之和大于k的格子。例如，当k为18时，机器人能够进入方格 [35, 37] ，因为3+5+3+7=18。但它不能进入方格 [35, 38]，因为3+5+3+8=19。请问该机器人能够到达多少个格子？\n",
    "\n",
    "示例 1：\n",
    "输入：m = 2, n = 3, k = 1\n",
    "输出：3"
   ]
  },
  {
   "cell_type": "code",
   "execution_count": 2,
   "outputs": [
    {
     "name": "stdout",
     "text": [
      "2\n"
     ],
     "output_type": "stream"
    }
   ],
   "source": [
    "def movingCount(m, n, k):\n",
    "    \n",
    "    return m\n",
    "\n",
    "m, n, k = 2, 3, 1\n",
    "t = movingCount(m,n,k)\n",
    "print(t)"
   ],
   "metadata": {
    "collapsed": false,
    "pycharm": {
     "name": "#%%\n",
     "is_executing": false
    }
   }
  },
  {
   "cell_type": "code",
   "execution_count": 158,
   "outputs": [
    {
     "name": "stdout",
     "text": [
      "0 0 0\n0 1 1\n0 2 2\n0 3 3\n0 4 4\n1 0 1\n1 1 2\n1 2 3\n1 3 4\n2 0 2\n2 1 3\n2 2 4\n3 0 3\n3 1 4\n4 0 4\n10 0 1\n10 1 2\n10 2 3\n10 3 4\n11 0 2\n11 1 3\n11 2 4\n12 0 3\n12 1 4\n13 0 4\n25\n"
     ],
     "output_type": "stream"
    }
   ],
   "source": [
    "m, n, k = 16, 8, 4\n",
    "def sumMN(m, n):\n",
    "    s = 0\n",
    "    for i in str(m):\n",
    "        s+=int(i)\n",
    "    for j in str(n):\n",
    "        s+=int(j) \n",
    "    return s\n",
    "\n",
    "count = 0\n",
    "for i in range(m):\n",
    "    for j in range(n):\n",
    "        if sumMN(i,j)<=k:\n",
    "            print(i,j,sumMN(i,j))\n",
    "            count+=1\n",
    "\n",
    "print(count)"
   ],
   "metadata": {
    "collapsed": false,
    "pycharm": {
     "name": "#%%\n",
     "is_executing": false
    }
   }
  },
  {
   "cell_type": "code",
   "execution_count": 178,
   "outputs": [
    {
     "name": "stdout",
     "text": [
      "0 1\n0 2\n0 3\n0 4\n1 0\n1 1\n1 2\n1 3\n2 0\n2 1\n2 2\n3 0\n3 1\n4 0\n15\n"
     ],
     "output_type": "stream"
    }
   ],
   "source": [
    "def sumMN(m, n):\n",
    "    s = 0\n",
    "    for i in str(m):\n",
    "        s+=int(i)\n",
    "    for j in str(n):\n",
    "        s+=int(j) \n",
    "    return s\n",
    "\n",
    "def movingCount2(m: int, n: int, k: int) -> int:\n",
    "    vis = set([(0, 0)])\n",
    "    for i in range(m):\n",
    "        for j in range(n):\n",
    "            if ((i-1, j) in vis or (i, j-1) in vis) and sumMN(i,j)<=k:\n",
    "                print(i,j)\n",
    "                vis.add((i,j))\n",
    "    \n",
    "    return len(vis)\n",
    "\n",
    "m, n, k = 16, 8, 4\n",
    "t = movingCount2(m,n,k)\n",
    "print(t)\n"
   ],
   "metadata": {
    "collapsed": false,
    "pycharm": {
     "name": "#%%\n",
     "is_executing": false
    }
   }
  }
 ],
 "metadata": {
  "kernelspec": {
   "display_name": "Python 3",
   "language": "python",
   "name": "python3"
  },
  "language_info": {
   "codemirror_mode": {
    "name": "ipython",
    "version": 2
   },
   "file_extension": ".py",
   "mimetype": "text/x-python",
   "name": "python",
   "nbconvert_exporter": "python",
   "pygments_lexer": "ipython2",
   "version": "2.7.6"
  },
  "pycharm": {
   "stem_cell": {
    "cell_type": "raw",
    "source": [],
    "metadata": {
     "collapsed": false
    }
   }
  }
 },
 "nbformat": 4,
 "nbformat_minor": 0
}