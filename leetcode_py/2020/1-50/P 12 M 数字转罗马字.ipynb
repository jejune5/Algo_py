{
 "cells": [
  {
   "cell_type": "markdown",
   "metadata": {},
   "source": [
    "### 数字转罗马数"
   ]
  },
  {
   "cell_type": "code",
   "execution_count": 86,
   "metadata": {
    "pycharm": {
     "is_executing": false
    }
   },
   "outputs": [
    {
     "name": "stdout",
     "text": [
      "IV\n"
     ],
     "output_type": "stream"
    }
   ],
   "source": [
    "def intToRoman(num: int) -> str:\n",
    "\n",
    "    d = {1000:'M', 900:'CM', 500:'D', 400:'CD', 100:'C', 90:'XC', 50:'L', 40:'XL', 10:'X', 9:'IV', 5:'V', 4:'IV', 1:'I'}\n",
    "    res = ''\n",
    "    for key in d.keys():\n",
    "        a = num // key\n",
    "        if a == 0:\n",
    "            continue\n",
    "        res += d[key]*a\n",
    "        num -= key*a \n",
    "        \n",
    "    return res\n",
    "        \n",
    "    \n",
    "    # if num>0 and num < 5 \n",
    "\n",
    "n = 4\n",
    "s = intToRoman(n)\n",
    "print(s)"
   ]
  },
  {
   "cell_type": "code",
   "execution_count": 13,
   "metadata": {
    "pycharm": {
     "is_executing": false
    }
   },
   "outputs": [],
   "source": [
    "def roman2int(s):\n",
    "    \n",
    "    d={'I':1,'V':5,'X':10,'L':50,'C':100,'D':500,'M':1000}\n",
    "    \n",
    "    lens = len(s)\n",
    "    res = 0\n",
    "\n",
    "    if lens > 1: \n",
    "        key = list(d.keys())\n",
    "        for i in range(0,lens - 1):\n",
    "            if key.index(s[i])<key.index(s[i+1]):\n",
    "                res +=(-1)*d[s[i]]\n",
    "            else:\n",
    "                res +=d[s[i]]\n",
    "        res += d[s[i+1]]\n",
    "    else :\n",
    "        res = d[s[0]]\n",
    "    return res\n",
    "    "
   ]
  },
  {
   "cell_type": "code",
   "execution_count": 14,
   "metadata": {
    "pycharm": {
     "is_executing": false
    }
   },
   "outputs": [
    {
     "name": "stdout",
     "text": [
      "1\n"
     ],
     "output_type": "stream"
    }
   ],
   "source": [
    "a = roman2int('I')\n",
    "print(a)"
   ]
  },
  {
   "cell_type": "code",
   "execution_count": 15,
   "metadata": {
    "pycharm": {
     "is_executing": false
    }
   },
   "outputs": [
    {
     "name": "stdout",
     "text": [
      "['I', 'V', 'X', 'L', 'C', 'D', 'M']\n"
     ],
     "output_type": "stream"
    }
   ],
   "source": [
    "d={'I':1,'V':5,'X':10,'L':50,'C':100,'D':500,'M':1000}\n",
    "\n",
    "\n",
    "print(list(d.keys()))"
   ]
  },
  {
   "cell_type": "code",
   "execution_count": 16,
   "metadata": {
    "pycharm": {
     "is_executing": false
    }
   },
   "outputs": [],
   "source": [
    "d = {1:'I',5:'V',10:'X',50:'L'}"
   ]
  },
  {
   "cell_type": "code",
   "execution_count": 36,
   "metadata": {
    "pycharm": {
     "is_executing": false
    }
   },
   "outputs": [
    {
     "name": "stdout",
     "text": [
      "aaaaaaaaaaaaaaaaaaaaaaaaaaaaaaaaaaaaaaaaaaaaaaaaaaaaaaaaaaaaaaaaaaaaaaaaaaaaaaaaaaaaaaaaaa\n"
     ],
     "output_type": "stream"
    }
   ],
   "source": [
    "n = 'a'*90\n",
    "\n",
    "print(n)"
   ]
  },
  {
   "cell_type": "code",
   "execution_count": 17,
   "metadata": {
    "pycharm": {
     "is_executing": false
    }
   },
   "outputs": [],
   "source": []
  }
 ],
 "metadata": {
  "kernelspec": {
   "display_name": "Python 3",
   "language": "python",
   "name": "python3"
  },
  "language_info": {
   "codemirror_mode": {
    "name": "ipython",
    "version": 3
   },
   "file_extension": ".py",
   "mimetype": "text/x-python",
   "name": "python",
   "nbconvert_exporter": "python",
   "pygments_lexer": "ipython3",
   "version": "3.7.3"
  },
  "pycharm": {
   "stem_cell": {
    "cell_type": "raw",
    "source": [],
    "metadata": {
     "collapsed": false
    }
   }
  }
 },
 "nbformat": 4,
 "nbformat_minor": 4
}