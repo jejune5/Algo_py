{
 "cells": [
  {
   "cell_type": "markdown",
   "metadata": {
    "collapsed": true,
    "pycharm": {
     "name": "#%% md\n"
    }
   },
   "source": [
    "给定一个只包括 '('，')'，'{'，'}'，'['，']' 的字符串，判断字符串是否有效。\n",
    "\n",
    "有效字符串需满足：\n",
    "\n",
    "    左括号必须用相同类型的右括号闭合。\n",
    "    左括号必须以正确的顺序闭合。\n",
    "\n",
    "注意空字符串可被认为是有效字符串。\n",
    "\n",
    "示例 1:\n",
    "\n",
    "输入: \"()\"\n",
    "输出: true\n",
    "\n",
    "示例 2:\n",
    "\n",
    "输入: \"()[]{}\"\n",
    "输出: true\n",
    "\n",
    "示例 3:\n",
    "\n",
    "输入: \"(]\"\n",
    "输出: false"
   ]
  },
  {
   "cell_type": "code",
   "execution_count": 37,
   "outputs": [
    {
     "name": "stdout",
     "text": [
      "False\n"
     ],
     "output_type": "stream"
    }
   ],
   "source": [
    "def isValid(s: str) -> bool:\n",
    "    \n",
    "    def valid(s):\n",
    "        if '()' in s or '[]' in s or '{}' in s:\n",
    "            return valid(s.replace('()','').replace('[]','').replace('{}',''))\n",
    "        else:\n",
    "            return '' == s        \n",
    "    return valid(s)\n",
    "s = \"([]})\"\n",
    "t = isValid(s)\n",
    "print(t)"
   ],
   "metadata": {
    "collapsed": false,
    "pycharm": {
     "name": "#%%\n",
     "is_executing": false
    }
   }
  }
 ],
 "metadata": {
  "kernelspec": {
   "display_name": "Python 3",
   "language": "python",
   "name": "python3"
  },
  "language_info": {
   "codemirror_mode": {
    "name": "ipython",
    "version": 2
   },
   "file_extension": ".py",
   "mimetype": "text/x-python",
   "name": "python",
   "nbconvert_exporter": "python",
   "pygments_lexer": "ipython2",
   "version": "2.7.6"
  },
  "pycharm": {
   "stem_cell": {
    "cell_type": "raw",
    "source": [],
    "metadata": {
     "collapsed": false
    }
   }
  }
 },
 "nbformat": 4,
 "nbformat_minor": 0
}