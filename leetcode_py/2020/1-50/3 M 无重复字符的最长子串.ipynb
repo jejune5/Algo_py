{
 "cells": [
  {
   "cell_type": "markdown",
   "metadata": {
    "collapsed": true,
    "pycharm": {
     "name": "#%% md\n"
    }
   },
   "source": [
    "给定一个字符串，请你找出其中不含有重复字符的 最长子串 的长度。\n",
    "\n",
    "示例 1:\n",
    "\n",
    "输入: \"abcabcbb\"\n",
    "输出: 3 \n",
    "解释: 因为无重复字符的最长子串是 \"abc\"，所以其长度为 3。\n",
    "示例 2:\n",
    "\n",
    "输入: \"bbbbb\"\n",
    "输出: 1\n",
    "解释: 因为无重复字符的最长子串是 \"b\"，所以其长度为 1。\n",
    "示例 3:\n",
    "\n",
    "输入: \"pwwkew\"\n",
    "输出: 3\n",
    "解释: 因为无重复字符的最长子串是 \"wke\"，所以其长度为 3。\n",
    "     请注意，你的答案必须是 子串 的长度，\"pwke\" 是一个子序列，不是子串。"
   ]
  },
  {
   "cell_type": "code",
   "execution_count": 336,
   "outputs": [
    {
     "name": "stdout",
     "text": [
      "1\n"
     ],
     "output_type": "stream"
    }
   ],
   "source": [
    "def lengthOfLongestSubstring(s: str) -> int:\n",
    "    tmp = []\n",
    "    max = 1\n",
    "    if len(s) == 0:\n",
    "        return 0\n",
    "    for i,e in enumerate(s):\n",
    "        if e not in tmp:\n",
    "            tmp.append(e)\n",
    "            if i+1 == len(s) and max<len(tmp):\n",
    "                return len(tmp)\n",
    "            # print(tmp.index('a'))\n",
    "            \n",
    "        else:\n",
    "            if max < len(tmp):\n",
    "                max = len(tmp)\n",
    "                print(e,'- - -',max)\n",
    "\n",
    "            tmp = tmp[tmp.index(e)+1:] \n",
    "            tmp.append(e)     \n",
    "            print(e,'= = =',tmp)\n",
    "\n",
    "    return max\n",
    "\n",
    "s = \" \"\n",
    "t = lengthOfLongestSubstring(s)\n",
    "print(t)\n",
    "    \n",
    "    "
   ],
   "metadata": {
    "collapsed": false,
    "pycharm": {
     "name": "#%%\n",
     "is_executing": false
    }
   }
  },
  {
   "cell_type": "code",
   "execution_count": 203,
   "outputs": [
    {
     "name": "stdout",
     "text": [
      "0 a\n1 a\n2 b\n"
     ],
     "output_type": "stream"
    }
   ],
   "source": [
    "stack = ['a','d','b','c','b','a']\n",
    "\n",
    "for i,e in enumerate(s):\n",
    "    print(i,e)\n",
    "\n",
    "\n"
   ],
   "metadata": {
    "collapsed": false,
    "pycharm": {
     "name": "#%%\n",
     "is_executing": false
    }
   }
  }
 ],
 "metadata": {
  "kernelspec": {
   "display_name": "Python 3",
   "language": "python",
   "name": "python3"
  },
  "language_info": {
   "codemirror_mode": {
    "name": "ipython",
    "version": 2
   },
   "file_extension": ".py",
   "mimetype": "text/x-python",
   "name": "python",
   "nbconvert_exporter": "python",
   "pygments_lexer": "ipython2",
   "version": "2.7.6"
  },
  "pycharm": {
   "stem_cell": {
    "cell_type": "raw",
    "source": [],
    "metadata": {
     "collapsed": false
    }
   }
  }
 },
 "nbformat": 4,
 "nbformat_minor": 0
}