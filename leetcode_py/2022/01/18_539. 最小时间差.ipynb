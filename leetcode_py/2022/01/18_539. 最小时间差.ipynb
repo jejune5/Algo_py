{
 "cells": [
  {
   "cell_type": "markdown",
   "metadata": {
    "collapsed": true,
    "pycharm": {
     "name": "#%% md\n"
    }
   },
   "source": [
    "539. 最小时间差\n",
    "给定一个 24 小时制（小时:分钟 \"HH:MM\"）的时间列表，找出列表中任意两个时间的最小时间差并以分钟数表示。\n",
    "\n",
    "\n",
    "\n",
    "示例 1：\n",
    "\n",
    "输入：timePoints = [\"23:59\",\"00:00\"]\n",
    "输出：1\n",
    "示例 2：\n",
    "\n",
    "输入：timePoints = [\"00:00\",\"23:59\",\"00:00\"]\n",
    "输出：0\n",
    "\n",
    "\n",
    "提示：\n",
    "\n",
    "2 <= timePoints <= 2 * 104\n",
    "timePoints[i] 格式为 \"HH:MM\""
   ]
  },
  {
   "cell_type": "code",
   "execution_count": 66,
   "outputs": [
    {
     "name": "stdout",
     "output_type": "stream",
     "text": [
      "1\n"
     ]
    }
   ],
   "source": [
    "def findMinDifference(timePoints) -> int:\n",
    "    timePoints.sort()\n",
    "    ans = 1440\n",
    "    for front, back in zip(timePoints[:-1] + [timePoints[0]], timePoints[1:] + [timePoints[-1]]):\n",
    "        delta = (int(back[:2]) - int(front[:2])) * 60 + int(back[3:]) - int(front[3:])\n",
    "        ans = min(delta, 1440 - delta) if min(delta, 1440 - delta) < ans else ans\n",
    "    return ans\n",
    "\n",
    "\n",
    "timePoints = [\"23:59\", \"00:00\"]\n",
    "ans = findMinDifference(timePoints)\n",
    "print(ans)"
   ],
   "metadata": {
    "collapsed": false,
    "pycharm": {
     "name": "#%%\n"
    }
   }
  }
 ],
 "metadata": {
  "kernelspec": {
   "display_name": "Python 3",
   "language": "python",
   "name": "python3"
  },
  "language_info": {
   "codemirror_mode": {
    "name": "ipython",
    "version": 2
   },
   "file_extension": ".py",
   "mimetype": "text/x-python",
   "name": "python",
   "nbconvert_exporter": "python",
   "pygments_lexer": "ipython2",
   "version": "2.7.6"
  }
 },
 "nbformat": 4,
 "nbformat_minor": 0
}