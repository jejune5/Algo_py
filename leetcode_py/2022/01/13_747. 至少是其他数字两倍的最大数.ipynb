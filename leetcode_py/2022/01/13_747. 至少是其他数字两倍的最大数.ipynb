{
 "cells": [
  {
   "cell_type": "markdown",
   "metadata": {
    "collapsed": true,
    "pycharm": {
     "name": "#%% md\n"
    }
   },
   "source": [
    "747. 至少是其他数字两倍的最大数\n",
    "给你一个整数数组 nums ，其中总是存在 唯一的 一个最大整数 。\n",
    "\n",
    "请你找出数组中的最大元素并检查它是否 至少是数组中每个其他数字的两倍 。如果是，则返回 最大元素的下标 ，否则返回 -1 。\n",
    "\n",
    "\n",
    "\n",
    "示例 1：\n",
    "\n",
    "输入：nums = [3,6,1,0]\n",
    "输出：1\n",
    "解释：6 是最大的整数，对于数组中的其他整数，6 大于数组中其他元素的两倍。6 的下标是 1 ，所以返回 1 。\n",
    "示例 2：\n",
    "\n",
    "输入：nums = [1,2,3,4]\n",
    "输出：-1\n",
    "解释：4 没有超过 3 的两倍大，所以返回 -1 。\n",
    "示例 3：\n",
    "\n",
    "输入：nums = [1]\n",
    "输出：0\n",
    "解释：因为不存在其他数字，所以认为现有数字 1 至少是其他数字的两倍。\n",
    "\n",
    "\n",
    "提示：\n",
    "\n",
    "1 <= nums.length <= 50\n",
    "0 <= nums[i] <= 100\n",
    "nums 中的最大元素是唯一的\n"
   ]
  },
  {
   "cell_type": "code",
   "execution_count": 26,
   "outputs": [],
   "source": [
    "def dominantIndex(nums) -> int:\n",
    "    if len(nums) == 1:\n",
    "        return 0\n",
    "    else:\n",
    "        m1 = max(nums)\n",
    "        idx = nums.index(m1)\n",
    "        nums.remove(m1)\n",
    "        m2 = max(nums)\n",
    "        return idx if m1 >= 2 * m2 else -1\n",
    "\n"
   ],
   "metadata": {
    "collapsed": false,
    "pycharm": {
     "name": "#%%\n"
    }
   }
  },
  {
   "cell_type": "code",
   "execution_count": 27,
   "outputs": [
    {
     "data": {
      "text/plain": "0"
     },
     "execution_count": 27,
     "metadata": {},
     "output_type": "execute_result"
    }
   ],
   "source": [
    "nums = [1]\n",
    "a = dominantIndex(nums)\n",
    "a"
   ],
   "metadata": {
    "collapsed": false,
    "pycharm": {
     "name": "#%%\n"
    }
   }
  }
 ],
 "metadata": {
  "kernelspec": {
   "display_name": "Python 3",
   "language": "python",
   "name": "python3"
  },
  "language_info": {
   "codemirror_mode": {
    "name": "ipython",
    "version": 2
   },
   "file_extension": ".py",
   "mimetype": "text/x-python",
   "name": "python",
   "nbconvert_exporter": "python",
   "pygments_lexer": "ipython2",
   "version": "2.7.6"
  }
 },
 "nbformat": 4,
 "nbformat_minor": 0
}