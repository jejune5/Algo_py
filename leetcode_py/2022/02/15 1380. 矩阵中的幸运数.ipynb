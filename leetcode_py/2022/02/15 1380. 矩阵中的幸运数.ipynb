{
 "cells": [
  {
   "cell_type": "markdown",
   "metadata": {
    "collapsed": true,
    "pycharm": {
     "name": "#%% md\n"
    }
   },
   "source": [
    "1380. 矩阵中的幸运数\n",
    "给你一个 m * n 的矩阵，矩阵中的数字 各不相同 。请你按 任意 顺序返回矩阵中的所有幸运数。\n",
    "\n",
    "幸运数是指矩阵中满足同时下列两个条件的元素：\n",
    "\n",
    "在同一行的所有元素中最小\n",
    "在同一列的所有元素中最大\n",
    "\n",
    "\n",
    "示例 1：\n",
    "\n",
    "输入：matrix = [[3,7,8],[9,11,13],[15,16,17]]\n",
    "输出：[15]\n",
    "解释：15 是唯一的幸运数，因为它是其所在行中的最小值，也是所在列中的最大值。\n",
    "示例 2：\n",
    "\n",
    "输入：matrix = [[1,10,4,2],[9,3,8,7],[15,16,17,12]]\n",
    "输出：[12]\n",
    "解释：12 是唯一的幸运数，因为它是其所在行中的最小值，也是所在列中的最大值。\n",
    "示例 3：\n",
    "\n",
    "输入：matrix = [[7,8],[1,2]]\n",
    "输出：[7]\n",
    "\n",
    "\n",
    "提示：\n",
    "\n",
    "m == mat.length\n",
    "n == mat[i].length\n",
    "1 <= n, m <= 50\n",
    "1 <= matrix[i][j] <= 10^5\n",
    "矩阵中的所有元素都是不同的\n"
   ]
  },
  {
   "cell_type": "code",
   "execution_count": 52,
   "outputs": [
    {
     "name": "stdout",
     "output_type": "stream",
     "text": [
      "[]\n"
     ]
    }
   ],
   "source": [
    "\n",
    "\n",
    "def luckyNumbers (matrix):\n",
    "    for row in matrix:\n",
    "        min_r = min(row)\n",
    "        min_r_idx = row.index(min_r)\n",
    "        max_c = max([x[min_r_idx] for x in matrix])\n",
    "        if max_c == min_r:\n",
    "            return [max_c]\n",
    "    return []\n",
    "\n",
    "matrix = [[3,7,8],[9,11,13],[15,16,17]]\n",
    "matrix = [[3,6],[7,1],[5,2],[4,8]]\n",
    "ans = luckyNumbers(matrix)\n",
    "print(ans)\n",
    "\n",
    "\n",
    "\n",
    "\n",
    "\n",
    "\n",
    "\n",
    "\n"
   ],
   "metadata": {
    "collapsed": false,
    "pycharm": {
     "name": "#%%\n"
    }
   }
  }
 ],
 "metadata": {
  "kernelspec": {
   "display_name": "Python 3",
   "language": "python",
   "name": "python3"
  },
  "language_info": {
   "codemirror_mode": {
    "name": "ipython",
    "version": 2
   },
   "file_extension": ".py",
   "mimetype": "text/x-python",
   "name": "python",
   "nbconvert_exporter": "python",
   "pygments_lexer": "ipython2",
   "version": "2.7.6"
  }
 },
 "nbformat": 4,
 "nbformat_minor": 0
}