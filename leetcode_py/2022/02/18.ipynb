{
 "cells": [
  {
   "cell_type": "markdown",
   "metadata": {},
   "source": [
    "1791. 找出星型图的中心节点\n",
    "有一个无向的 星型 图，由 n 个编号从 1 到 n 的节点组成。星型图有一个 中心 节点，并且恰有 n - 1 条边将中心节点与其他每个节点连接起来。\n",
    "\n",
    "给你一个二维整数数组 edges ，其中 edges[i] = [ui, vi] 表示在节点 ui 和 vi 之间存在一条边。请你找出并返回 edges 所表示星型图的中心节点。\n",
    "\n",
    " \n",
    "\n",
    "示例 1：\n",
    "![avatar](https://assets.leetcode-cn.com/aliyun-lc-upload/uploads/2021/03/14/star_graph.png)\n",
    "\n",
    "输入：edges = [[1,2],[2,3],[4,2]]\n",
    "输出：2\n",
    "解释：如上图所示，节点 2 与其他每个节点都相连，所以节点 2 是中心节点。\n",
    "示例 2：\n",
    "\n",
    "输入：edges = [[1,2],[5,1],[1,3],[1,4]]\n",
    "输出：1\n",
    " \n",
    "\n",
    "提示：\n",
    "\n",
    "3 <= n <= 105\n",
    "edges.length == n - 1\n",
    "edges[i].length == 2\n",
    "1 <= ui, vi <= n\n",
    "ui != vi\n",
    "题目数据给出的 edges 表示一个有效的星型图"
   ]
  },
  {
   "cell_type": "code",
   "execution_count": 3,
   "metadata": {},
   "outputs": [
    {
     "data": {
      "text/plain": [
       "1"
      ]
     },
     "execution_count": 3,
     "metadata": {},
     "output_type": "execute_result"
    }
   ],
   "source": [
    "def findCenter(edges) -> int:\n",
    "    for r0 in edges[0]:\n",
    "        for r1 in edges[1]:\n",
    "            if r0 == r1:\n",
    "                return r0\n",
    "    \n",
    "edges = [[1,2],[5,1],[1,3],[1,4]]\n",
    "res = findCenter(edges=edges)\n",
    "res"
   ]
  },
  {
   "cell_type": "code",
   "execution_count": null,
   "metadata": {},
   "outputs": [],
   "source": []
  }
 ],
 "metadata": {
  "interpreter": {
   "hash": "a8415834e63a09e6b568761fadaaf012b2f6c5d86989cdbeae6807bb85c1f6f7"
  },
  "kernelspec": {
   "display_name": "Python 3.7.9 64-bit",
   "language": "python",
   "name": "python3"
  },
  "language_info": {
   "codemirror_mode": {
    "name": "ipython",
    "version": 3
   },
   "file_extension": ".py",
   "mimetype": "text/x-python",
   "name": "python",
   "nbconvert_exporter": "python",
   "pygments_lexer": "ipython3",
   "version": "3.7.9"
  },
  "orig_nbformat": 4
 },
 "nbformat": 4,
 "nbformat_minor": 2
}
