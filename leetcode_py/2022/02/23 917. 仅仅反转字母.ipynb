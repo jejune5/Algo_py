{
 "cells": [
  {
   "cell_type": "markdown",
   "metadata": {},
   "source": [
    "917. 仅仅反转字母\n",
    "给你一个字符串 s ，根据下述规则反转字符串：\n",
    "\n",
    "所有非英文字母保留在原有位置。\n",
    "所有英文字母（小写或大写）位置反转。\n",
    "返回反转后的 s 。\n",
    "\n",
    " \n",
    "\n",
    "示例 1：\n",
    "\n",
    "输入：s = \"ab-cd\"\n",
    "输出：\"dc-ba\"\n",
    "示例 2：\n",
    "\n",
    "输入：s = \"a-bC-dEf-ghIj\"\n",
    "输出：\"j-Ih-gfE-dCba\"\n",
    "示例 3：\n",
    "\n",
    "输入：s = \"Test1ng-Leet=code-Q!\"\n",
    "输出：\"Qedo1ct-eeLg=ntse-T!\"\n",
    " \n",
    "\n",
    "提示\n",
    "\n",
    "1 <= s.length <= 100\n",
    "s 仅由 ASCII 值在范围 [33, 122] 的字符组成\n",
    "s 不含 '\\\"' 或 '\\\\'\n",
    "通过次数37,054提交次数63,652"
   ]
  },
  {
   "cell_type": "code",
   "execution_count": 9,
   "metadata": {},
   "outputs": [
    {
     "data": {
      "text/plain": [
       "'Qedo1ct-eeLg=ntse-T!'"
      ]
     },
     "execution_count": 9,
     "metadata": {},
     "output_type": "execute_result"
    }
   ],
   "source": [
    "import re\n",
    "def reverseOnlyLetters(s: str) -> str:\n",
    "    l, r = 0, len(s) - 1\n",
    "    s = list(s)\n",
    "    while l < r:\n",
    "        if not ('A' <= s[l] <= 'Z' or 'a' <= s[l] <= 'z'):\n",
    "            l += 1\n",
    "        elif not ('A' <= s[r] <= 'Z' or 'a' <= s[r] <= 'z'):\n",
    "            r -= 1\n",
    "        else:\n",
    "            s[l], s[r] = s[r], s[l]\n",
    "            l += 1\n",
    "            r -= 1\n",
    "    return ''.join(x for x in s)\n",
    "\n",
    "\n",
    "\n",
    "re.match\n",
    "s = \"Test1ng-Leet=code-Q!\"\n",
    "reverseOnlyLetters(s)"
   ]
  },
  {
   "cell_type": "code",
   "execution_count": null,
   "metadata": {},
   "outputs": [],
   "source": []
  }
 ],
 "metadata": {
  "interpreter": {
   "hash": "a8415834e63a09e6b568761fadaaf012b2f6c5d86989cdbeae6807bb85c1f6f7"
  },
  "kernelspec": {
   "display_name": "Python 3.7.9 64-bit",
   "language": "python",
   "name": "python3"
  },
  "language_info": {
   "codemirror_mode": {
    "name": "ipython",
    "version": 3
   },
   "file_extension": ".py",
   "mimetype": "text/x-python",
   "name": "python",
   "nbconvert_exporter": "python",
   "pygments_lexer": "ipython3",
   "version": "3.7.9"
  },
  "orig_nbformat": 4
 },
 "nbformat": 4,
 "nbformat_minor": 2
}
