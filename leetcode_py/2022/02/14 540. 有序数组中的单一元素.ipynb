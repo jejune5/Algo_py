{
 "cells": [
  {
   "cell_type": "markdown",
   "metadata": {
    "collapsed": true,
    "pycharm": {
     "name": "#%% md\n"
    }
   },
   "source": [
    "540. 有序数组中的单一元素\n",
    "给你一个仅由整数组成的有序数组，其中每个元素都会出现两次，唯有一个数只会出现一次。\n",
    "\n",
    "请你找出并返回只出现一次的那个数。\n",
    "\n",
    "你设计的解决方案必须满足 O(log n) 时间复杂度和 O(1) 空间复杂度。\n",
    "\n",
    "\n",
    "\n",
    "示例 1:\n",
    "\n",
    "输入: nums = [1,1,2,3,3,4,4,8,8]\n",
    "输出: 2\n",
    "示例 2:\n",
    "\n",
    "输入: nums =  [3,3,7,7,10,11,11]\n",
    "输出: 10\n",
    "\n",
    "\n",
    "提示:\n",
    "\n",
    "1 <= nums.length <= 105\n",
    "0 <= nums[i] <= 105\n",
    "通过次数51,434提交次数86,550\n",
    "\n"
   ]
  },
  {
   "cell_type": "code",
   "execution_count": 15,
   "outputs": [
    {
     "data": {
      "text/plain": "1"
     },
     "execution_count": 15,
     "metadata": {},
     "output_type": "execute_result"
    }
   ],
   "source": [
    "\n",
    "\n",
    "\n",
    "def singleNonDuplicate(nums) -> int:\n",
    "    stack = [nums[0]]\n",
    "    for num in nums[1:]:\n",
    "        if not stack:\n",
    "            stack.append(num)\n",
    "        elif num == stack[-1]:\n",
    "            stack.pop(-1)\n",
    "        else:\n",
    "            return stack[-1]\n",
    "    return stack[-1]\n",
    "\n",
    "\n",
    "\n",
    "nums = [1, 1, 2, 3, 3, 4, 4, 8, 8]\n",
    "nums = [1, 1, 2]\n",
    "nums = [1, 2, 2]\n",
    "nums = [1]\n",
    "ans = singleNonDuplicate(nums)\n",
    "ans"
   ],
   "metadata": {
    "collapsed": false,
    "pycharm": {
     "name": "#%%\n"
    }
   }
  }
 ],
 "metadata": {
  "kernelspec": {
   "display_name": "Python 3",
   "language": "python",
   "name": "python3"
  },
  "language_info": {
   "codemirror_mode": {
    "name": "ipython",
    "version": 2
   },
   "file_extension": ".py",
   "mimetype": "text/x-python",
   "name": "python",
   "nbconvert_exporter": "python",
   "pygments_lexer": "ipython2",
   "version": "2.7.6"
  }
 },
 "nbformat": 4,
 "nbformat_minor": 0
}