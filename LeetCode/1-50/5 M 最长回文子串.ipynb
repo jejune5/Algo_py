{
 "cells": [
  {
   "cell_type": "markdown",
   "source": [
    "5. 最长回文子串\n",
    "给定一个字符串 s，找到 s 中最长的回文子串。你可以假设 s 的最大长度为 1000。\n",
    "\n",
    "示例 1：\n",
    "\n",
    "输入: \"babad\"\n",
    "输出: \"bab\"\n",
    "注意: \"aba\" 也是一个有效答案。\n",
    "示例 2：\n",
    "\n",
    "输入: \"cbbd\"\n",
    "输出: \"bb\""
   ],
   "metadata": {
    "collapsed": false
   }
  },
  {
   "cell_type": "code",
   "execution_count": 125,
   "outputs": [
    {
     "name": "stdout",
     "text": [
      "[[0, 0, 0, 0], [0, 0, 0, 0], [0, 0, 0, 0], [0, 0, 0, 0]]\nbb\n"
     ],
     "output_type": "stream"
    }
   ],
   "source": [
    "def longestPalindrome(s: str):\n",
    "    \n",
    "    def isPalindrome(s):\n",
    "        for i in range(len(s)//2):\n",
    "            if s[i] != s[len(s)-1-i]:\n",
    "                return False\n",
    "        return True\n",
    "\n",
    "    s1 = s  \n",
    "    s2 = ''.join(reversed(s))\n",
    "    \n",
    "    record = [[0 for i in range(len(s2)+1)] for j in range(len(s1)+1)] # 多一位\n",
    "    print(record)\n",
    "    maxNum = 0   \n",
    "    p = 0   \n",
    "    for i in range(len(s1)):\n",
    "        for j in range(len(s2)):\n",
    "            if s1[i] == s2[j]:\n",
    "                record[i+1][j+1] = record[i][j] + 1\n",
    "      \n",
    "                if record[i+1][j+1] > maxNum and isPalindrome(s1[i+1-record[i+1][j+1]:i+1]):\n",
    "                    maxNum = record[i+1][j+1]\n",
    "                    p = i + 1\n",
    "                    # print('i=',i,'j=', j, s1[p-maxNum:p])\n",
    "    res = s1[p-maxNum:p]\n",
    "\n",
    "    return res\n",
    "\n",
    "s = \"bba\"\n",
    "t = longestPalindrome(s)\n",
    "print(t)"
   ],
   "metadata": {
    "collapsed": false,
    "pycharm": {
     "name": "#%%\n",
     "is_executing": false
    }
   }
  },
  {
   "cell_type": "code",
   "execution_count": 108,
   "outputs": [
    {
     "name": "stdout",
     "text": [
      "bbb\n[[0, 0], [0, 0], [0, 0]]\n"
     ],
     "output_type": "stream"
    }
   ],
   "source": [
    "\n",
    "\n",
    "def isPalindrome(s):\n",
    "    for i in range(len(s)//2):\n",
    "        if s[i] != s[len(s)-1-i]:\n",
    "            return False\n",
    "    return True\n",
    "\n",
    "def getNumofCommonSubstr(s1, s2):\n",
    "  \n",
    " record = [[0 for i in range(len(s2)+1)] for j in range(len(s1)+1)] # 多一位\n",
    " maxNum = 0   \n",
    " p = 0   \n",
    "  \n",
    " for i in range(len(s1)):\n",
    "  for j in range(len(s2)):\n",
    "   if s1[i] == s2[j]:\n",
    "    record[i+1][j+1] = record[i][j] + 1\n",
    "    if record[i+1][j+1] > maxNum:\n",
    "     maxNum = record[i+1][j+1]\n",
    "     p = i + 1\n",
    " return s1[p-maxNum:p]\n",
    "    \n",
    "\n",
    "s = \"bbb\"\n",
    "ss = ''.join(reversed(s))\n",
    "\n",
    "tt = getNumofCommonSubstr(s,ss)\n",
    "print(tt)\n",
    "\n",
    "record = [[0 for i in range(2)] for j in range(2+1)]\n",
    "print(record)"
   ],
   "metadata": {
    "collapsed": false,
    "pycharm": {
     "name": "#%%\n",
     "is_executing": false
    }
   }
  }
 ],
 "metadata": {
  "kernelspec": {
   "display_name": "Python 3",
   "language": "python",
   "name": "python3"
  },
  "language_info": {
   "codemirror_mode": {
    "name": "ipython",
    "version": 2
   },
   "file_extension": ".py",
   "mimetype": "text/x-python",
   "name": "python",
   "nbconvert_exporter": "python",
   "pygments_lexer": "ipython2",
   "version": "2.7.6"
  },
  "pycharm": {
   "stem_cell": {
    "cell_type": "raw",
    "source": [],
    "metadata": {
     "collapsed": false
    }
   }
  }
 },
 "nbformat": 4,
 "nbformat_minor": 0
}