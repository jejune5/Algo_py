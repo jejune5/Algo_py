{
 "cells": [
  {
   "cell_type": "code",
   "execution_count": 7,
   "metadata": {
    "collapsed": true,
    "pycharm": {
     "is_executing": false
    }
   },
   "outputs": [
    {
     "name": "stdout",
     "text": [
      "[1, 9, 5, 9, 3]\n[1, 2, 2, 3, 2]\n"
     ],
     "output_type": "stream"
    }
   ],
   "source": [
    "def lengthOfLIS(nums):\n",
    "    return nums\n",
    "\n",
    "\n",
    "nums = [1, 9, 5, 9, 3]\n",
    "print(nums)\n",
    "\n",
    "dp = [1 for i in range(len(nums))]\n",
    "\n",
    "for i, e in enumerate(nums):\n",
    "    for j, f in enumerate(nums[:i]):\n",
    "        if f < e:\n",
    "            dp[i] = max(dp[i], dp[j]+1)\n",
    "            \n",
    "print(dp)\n",
    "# print(i)"
   ]
  }
 ],
 "metadata": {
  "language_info": {
   "codemirror_mode": {
    "name": "ipython",
    "version": 2
   },
   "file_extension": ".py",
   "mimetype": "text/x-python",
   "name": "python",
   "nbconvert_exporter": "python",
   "pygments_lexer": "ipython2",
   "version": "2.7.6"
  },
  "kernelspec": {
   "name": "python3",
   "language": "python",
   "display_name": "Python 3"
  },
  "pycharm": {
   "stem_cell": {
    "cell_type": "raw",
    "source": [],
    "metadata": {
     "collapsed": false
    }
   }
  }
 },
 "nbformat": 4,
 "nbformat_minor": 0
}