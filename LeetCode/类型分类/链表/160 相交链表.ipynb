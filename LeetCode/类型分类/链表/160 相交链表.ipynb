{
 "cells": [
  {
   "cell_type": "markdown",
   "metadata": {
    "collapsed": true,
    "pycharm": {
     "name": "#%% md\n"
    }
   },
   "source": [
    "160. 相交链表\n",
    "给你两个单链表的头节点 headA 和 headB ，请你找出并返回两个单链表相交的起始节点。如果两个链表不存在相交节点，返回 null 。\n",
    "\n",
    "图示两个链表在节点 c1 开始相交：\n",
    "\n",
    "![image](https://assets.leetcode-cn.com/aliyun-lc-upload/uploads/2018/12/14/160_statement.png)\n",
    "\n",
    "题目数据 保证 整个链式结构中不存在环。\n",
    "\n",
    "注意，函数返回结果后，链表必须 保持其原始结构 。\n",
    "\n",
    "自定义评测：\n",
    "\n",
    "评测系统 的输入如下（你设计的程序 不适用 此输入）：\n",
    "\n",
    "intersectVal - 相交的起始节点的值。如果不存在相交节点，这一值为 0\n",
    "listA - 第一个链表\n",
    "listB - 第二个链表\n",
    "skipA - 在 listA 中（从头节点开始）跳到交叉节点的节点数\n",
    "skipB - 在 listB 中（从头节点开始）跳到交叉节点的节点数\n",
    "评测系统将根据这些输入创建链式数据结构，并将两个头节点 headA 和 headB 传递给你的程序。如果程序能够正确返回相交节点，那么你的解决方案将被 视作正确答案 。\n",
    "\n",
    "\n",
    "\n",
    "示例 1：\n",
    "\n",
    "\n",
    "\n",
    "输入：intersectVal = 8, listA = [4,1,8,4,5], listB = [5,6,1,8,4,5], skipA = 2, skipB = 3\n",
    "输出：Intersected at '8'\n",
    "解释：相交节点的值为 8 （注意，如果两个链表相交则不能为 0）。\n",
    "从各自的表头开始算起，链表 A 为 [4,1,8,4,5]，链表 B 为 [5,6,1,8,4,5]。\n",
    "在 A 中，相交节点前有 2 个节点；在 B 中，相交节点前有 3 个节点。\n",
    "示例 2：\n",
    "\n",
    "\n",
    "\n",
    "输入：intersectVal = 2, listA = [1,9,1,2,4], listB = [3,2,4], skipA = 3, skipB = 1\n",
    "输出：Intersected at '2'\n",
    "解释：相交节点的值为 2 （注意，如果两个链表相交则不能为 0）。\n",
    "从各自的表头开始算起，链表 A 为 [1,9,1,2,4]，链表 B 为 [3,2,4]。\n",
    "在 A 中，相交节点前有 3 个节点；在 B 中，相交节点前有 1 个节点。\n",
    "示例 3：\n",
    "\n",
    "\n",
    "\n",
    "输入：intersectVal = 0, listA = [2,6,4], listB = [1,5], skipA = 3, skipB = 2\n",
    "输出：null\n",
    "解释：从各自的表头开始算起，链表 A 为 [2,6,4]，链表 B 为 [1,5]。\n",
    "由于这两个链表不相交，所以 intersectVal 必须为 0，而 skipA 和 skipB 可以是任意值。\n",
    "这两个链表不相交，因此返回 null 。\n",
    "\n",
    "\n",
    "提示：\n",
    "\n",
    "listA 中节点数目为 m\n",
    "listB 中节点数目为 n\n",
    "1 <= m, n <= 3 * 104\n",
    "1 <= Node.val <= 105\n",
    "0 <= skipA <= m\n",
    "0 <= skipB <= n\n",
    "如果 listA 和 listB 没有交点，intersectVal 为 0\n",
    "如果 listA 和 listB 有交点，intersectVal == listA[skipA] == listB[skipB]"
   ]
  },
  {
   "cell_type": "code",
   "execution_count": 9,
   "outputs": [
    {
     "name": "stdout",
     "output_type": "stream",
     "text": [
      "None\n"
     ]
    },
    {
     "ename": "TypeError",
     "evalue": "object of type 'NoneType' has no len()",
     "output_type": "error",
     "traceback": [
      "\u001B[1;31m---------------------------------------------------------------------------\u001B[0m",
      "\u001B[1;31mTypeError\u001B[0m                                 Traceback (most recent call last)",
      "\u001B[1;32m<ipython-input-9-4b2b29745f0a>\u001B[0m in \u001B[0;36m<module>\u001B[1;34m\u001B[0m\n\u001B[0;32m     30\u001B[0m \u001B[0mheadB\u001B[0m \u001B[1;33m=\u001B[0m \u001B[0mlist2ListNode\u001B[0m\u001B[1;33m(\u001B[0m\u001B[0mheadB\u001B[0m\u001B[1;33m)\u001B[0m\u001B[1;33m\u001B[0m\u001B[1;33m\u001B[0m\u001B[0m\n\u001B[0;32m     31\u001B[0m \u001B[1;33m\u001B[0m\u001B[0m\n\u001B[1;32m---> 32\u001B[1;33m \u001B[0mans\u001B[0m \u001B[1;33m=\u001B[0m \u001B[0mgetIntersectionNode\u001B[0m\u001B[1;33m(\u001B[0m\u001B[0mheadA\u001B[0m\u001B[1;33m,\u001B[0m \u001B[0mheadB\u001B[0m\u001B[1;33m)\u001B[0m\u001B[1;33m\u001B[0m\u001B[1;33m\u001B[0m\u001B[0m\n\u001B[0m\u001B[0;32m     33\u001B[0m \u001B[0mprint\u001B[0m\u001B[1;33m(\u001B[0m\u001B[0mans\u001B[0m\u001B[1;33m)\u001B[0m\u001B[1;33m\u001B[0m\u001B[1;33m\u001B[0m\u001B[0m\n",
      "\u001B[1;32m<ipython-input-9-4b2b29745f0a>\u001B[0m in \u001B[0;36mgetIntersectionNode\u001B[1;34m(headA, headB)\u001B[0m\n\u001B[0;32m     14\u001B[0m     \u001B[0mprint\u001B[0m\u001B[1;33m(\u001B[0m\u001B[0mlistA\u001B[0m\u001B[1;33m)\u001B[0m\u001B[1;33m\u001B[0m\u001B[1;33m\u001B[0m\u001B[0m\n\u001B[0;32m     15\u001B[0m \u001B[1;33m\u001B[0m\u001B[0m\n\u001B[1;32m---> 16\u001B[1;33m     \u001B[0mnA\u001B[0m \u001B[1;33m=\u001B[0m \u001B[0mlen\u001B[0m\u001B[1;33m(\u001B[0m\u001B[0mlistA\u001B[0m\u001B[1;33m)\u001B[0m\u001B[1;33m\u001B[0m\u001B[1;33m\u001B[0m\u001B[0m\n\u001B[0m\u001B[0;32m     17\u001B[0m     \u001B[0mnB\u001B[0m \u001B[1;33m=\u001B[0m \u001B[0mlen\u001B[0m\u001B[1;33m(\u001B[0m\u001B[0mlistB\u001B[0m\u001B[1;33m)\u001B[0m\u001B[1;33m\u001B[0m\u001B[1;33m\u001B[0m\u001B[0m\n\u001B[0;32m     18\u001B[0m     \u001B[0mtail_idx\u001B[0m \u001B[1;33m=\u001B[0m \u001B[1;36m0\u001B[0m\u001B[1;33m\u001B[0m\u001B[1;33m\u001B[0m\u001B[0m\n",
      "\u001B[1;31mTypeError\u001B[0m: object of type 'NoneType' has no len()"
     ]
    }
   ],
   "source": [
    "from DataStructure.ListNode import ListNode, list2ListNode, listNode2List\n",
    "\n",
    "\n",
    "def getIntersectionNode(headA: ListNode, headB: ListNode) -> ListNode:\n",
    "    def listNode2List(head):\n",
    "        res = []\n",
    "        while head:\n",
    "            res.append(head.val)\n",
    "            head = head.next\n",
    "        return res\n",
    "\n",
    "    listA = listNode2List(headA).reverse()\n",
    "    listB = listNode2List(headB).reverse()\n",
    "    print(listA)\n",
    "\n",
    "    nA = len(listA)\n",
    "    nB = len(listB)\n",
    "    tail_idx = 0\n",
    "    while tail_idx<min(nA, nB) and listA[:tail_idx] == listB[:tail_idx]:\n",
    "        tail_idx+=1\n",
    "\n",
    "    print(tail_idx)\n",
    "\n",
    "    # return len(headA)\n",
    "\n",
    "\n",
    "headA = [1, 9, 1, 2, 4]\n",
    "headA = list2ListNode(headA)\n",
    "headB = [3, 2, 4]\n",
    "headB = list2ListNode(headB)\n",
    "\n",
    "ans = getIntersectionNode(headA, headB)\n",
    "print(ans)"
   ],
   "metadata": {
    "collapsed": false,
    "pycharm": {
     "name": "#%%\n"
    }
   }
  }
 ],
 "metadata": {
  "kernelspec": {
   "display_name": "Python 3",
   "language": "python",
   "name": "python3"
  },
  "language_info": {
   "codemirror_mode": {
    "name": "ipython",
    "version": 2
   },
   "file_extension": ".py",
   "mimetype": "text/x-python",
   "name": "python",
   "nbconvert_exporter": "python",
   "pygments_lexer": "ipython2",
   "version": "2.7.6"
  }
 },
 "nbformat": 4,
 "nbformat_minor": 0
}