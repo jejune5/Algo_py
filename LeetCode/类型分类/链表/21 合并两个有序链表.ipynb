{
 "cells": [
  {
   "cell_type": "markdown",
   "metadata": {
    "collapsed": true,
    "pycharm": {
     "name": "#%% md\n"
    }
   },
   "source": [
    "21. 合并两个有序链表\n",
    "将两个升序链表合并为一个新的 升序 链表并返回。新链表是通过拼接给定的两个链表的所有节点组成的。\n",
    "\n",
    "\n",
    "\n",
    "示例 1：\n",
    "\n",
    "\n",
    "输入：l1 = [1,2,4], l2 = [1,3,4]\n",
    "输出：[1,1,2,3,4,4]\n",
    "示例 2：\n",
    "![image](https://assets.leetcode.com/uploads/2020/10/03/merge_ex1.jpg)\n",
    "输入：l1 = [], l2 = []\n",
    "输出：[]\n",
    "示例 3：\n",
    "\n",
    "输入：l1 = [], l2 = [0]\n",
    "输出：[0]\n",
    "\n",
    "\n",
    "提示：\n",
    "\n",
    "两个链表的节点数目范围是 [0, 50]\n",
    "-100 <= Node.val <= 100\n",
    "l1 和 l2 均按 非递减顺序 排列"
   ]
  },
  {
   "cell_type": "code",
   "execution_count": null,
   "outputs": [
    {
     "ename": "KeyboardInterrupt",
     "evalue": "",
     "output_type": "error",
     "traceback": [
      "\u001B[1;31m---------------------------------------------------------------------------\u001B[0m",
      "\u001B[1;31mKeyboardInterrupt\u001B[0m                         Traceback (most recent call last)",
      "\u001B[1;32m~\\AppData\\Local\\Temp/ipykernel_9608/3845944561.py\u001B[0m in \u001B[0;36m<module>\u001B[1;34m\u001B[0m\n\u001B[0;32m     19\u001B[0m \u001B[0ml1\u001B[0m \u001B[1;33m=\u001B[0m \u001B[0mlist2ListNode\u001B[0m\u001B[1;33m(\u001B[0m\u001B[0ml1\u001B[0m\u001B[1;33m)\u001B[0m\u001B[1;33m\u001B[0m\u001B[1;33m\u001B[0m\u001B[0m\n\u001B[0;32m     20\u001B[0m \u001B[0ml2\u001B[0m \u001B[1;33m=\u001B[0m \u001B[0mlist2ListNode\u001B[0m\u001B[1;33m(\u001B[0m\u001B[0ml2\u001B[0m\u001B[1;33m)\u001B[0m\u001B[1;33m\u001B[0m\u001B[1;33m\u001B[0m\u001B[0m\n\u001B[1;32m---> 21\u001B[1;33m \u001B[0mnode\u001B[0m \u001B[1;33m=\u001B[0m \u001B[0mmergeTwoLists\u001B[0m\u001B[1;33m(\u001B[0m\u001B[0ml1\u001B[0m\u001B[1;33m,\u001B[0m \u001B[0ml2\u001B[0m\u001B[1;33m)\u001B[0m\u001B[1;33m\u001B[0m\u001B[1;33m\u001B[0m\u001B[0m\n\u001B[0m\u001B[0;32m     22\u001B[0m \u001B[0mans\u001B[0m \u001B[1;33m=\u001B[0m \u001B[0mlistNode2List\u001B[0m\u001B[1;33m(\u001B[0m\u001B[0mnode\u001B[0m\u001B[1;33m)\u001B[0m\u001B[1;33m\u001B[0m\u001B[1;33m\u001B[0m\u001B[0m\n\u001B[0;32m     23\u001B[0m \u001B[0mprint\u001B[0m\u001B[1;33m(\u001B[0m\u001B[0mans\u001B[0m\u001B[1;33m)\u001B[0m\u001B[1;33m\u001B[0m\u001B[1;33m\u001B[0m\u001B[0m\n",
      "\u001B[1;32m~\\AppData\\Local\\Temp/ipykernel_9608/3845944561.py\u001B[0m in \u001B[0;36mmergeTwoLists\u001B[1;34m(list1, list2)\u001B[0m\n\u001B[0;32m      4\u001B[0m \u001B[1;32mdef\u001B[0m \u001B[0mmergeTwoLists\u001B[0m\u001B[1;33m(\u001B[0m\u001B[0mlist1\u001B[0m\u001B[1;33m:\u001B[0m \u001B[0mListNode\u001B[0m\u001B[1;33m,\u001B[0m \u001B[0mlist2\u001B[0m\u001B[1;33m:\u001B[0m \u001B[0mListNode\u001B[0m\u001B[1;33m)\u001B[0m \u001B[1;33m->\u001B[0m \u001B[0mListNode\u001B[0m\u001B[1;33m:\u001B[0m\u001B[1;33m\u001B[0m\u001B[1;33m\u001B[0m\u001B[0m\n\u001B[0;32m      5\u001B[0m     \u001B[0mans\u001B[0m \u001B[1;33m=\u001B[0m \u001B[0mListNode\u001B[0m\u001B[1;33m(\u001B[0m\u001B[1;32mNone\u001B[0m\u001B[1;33m)\u001B[0m\u001B[1;33m\u001B[0m\u001B[1;33m\u001B[0m\u001B[0m\n\u001B[1;32m----> 6\u001B[1;33m     \u001B[1;32mwhile\u001B[0m \u001B[0mlist1\u001B[0m \u001B[1;32mand\u001B[0m \u001B[0mlist2\u001B[0m\u001B[1;33m:\u001B[0m\u001B[1;33m\u001B[0m\u001B[1;33m\u001B[0m\u001B[0m\n\u001B[0m\u001B[0;32m      7\u001B[0m         \u001B[1;32mif\u001B[0m \u001B[0mlist1\u001B[0m\u001B[1;33m.\u001B[0m\u001B[0mval\u001B[0m \u001B[1;33m<\u001B[0m \u001B[0mlist2\u001B[0m\u001B[1;33m.\u001B[0m\u001B[0mval\u001B[0m\u001B[1;33m:\u001B[0m\u001B[1;33m\u001B[0m\u001B[1;33m\u001B[0m\u001B[0m\n\u001B[0;32m      8\u001B[0m             \u001B[0mans\u001B[0m\u001B[1;33m.\u001B[0m\u001B[0mnext\u001B[0m \u001B[1;33m=\u001B[0m \u001B[0mlist1\u001B[0m\u001B[1;33m\u001B[0m\u001B[1;33m\u001B[0m\u001B[0m\n",
      "\u001B[1;31mKeyboardInterrupt\u001B[0m: "
     ]
    }
   ],
   "source": [
    "from DataStructure.ListNode import ListNode, list2ListNode, listNode2List\n",
    "\n",
    "\n",
    "def mergeTwoLists(list1: ListNode, list2: ListNode) -> ListNode:\n",
    "    ans = ListNode(None)\n",
    "    while list1 and list2:\n",
    "        if list1.val < list2.val:\n",
    "            ans.next = list1\n",
    "            list1 = list1.next\n",
    "\n",
    "        else:\n",
    "            list2 = list2.next\n",
    "    return ans\n",
    "\n",
    "\n",
    "l1 = [1, 2, 4]\n",
    "l2 = [1, 3, 4]\n",
    "\n",
    "l1 = list2ListNode(l1)\n",
    "l2 = list2ListNode(l2)\n",
    "node = mergeTwoLists(l1, l2)\n",
    "ans = listNode2List(node)\n",
    "print(ans)"
   ],
   "metadata": {
    "collapsed": false,
    "pycharm": {
     "name": "#%%\n"
    }
   }
  }
 ],
 "metadata": {
  "kernelspec": {
   "display_name": "Python 3",
   "language": "python",
   "name": "python3"
  },
  "language_info": {
   "codemirror_mode": {
    "name": "ipython",
    "version": 2
   },
   "file_extension": ".py",
   "mimetype": "text/x-python",
   "name": "python",
   "nbconvert_exporter": "python",
   "pygments_lexer": "ipython2",
   "version": "2.7.6"
  }
 },
 "nbformat": 4,
 "nbformat_minor": 0
}