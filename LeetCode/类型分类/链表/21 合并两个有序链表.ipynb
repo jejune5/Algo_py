{
 "cells": [
  {
   "cell_type": "markdown",
   "metadata": {
    "collapsed": true,
    "pycharm": {
     "name": "#%% md\n"
    }
   },
   "source": [
    "21. 合并两个有序链表\n",
    "将两个升序链表合并为一个新的 升序 链表并返回。新链表是通过拼接给定的两个链表的所有节点组成的。\n",
    "\n",
    "\n",
    "\n",
    "示例 1：\n",
    "\n",
    "\n",
    "输入：l1 = [1,2,4], l2 = [1,3,4]\n",
    "输出：[1,1,2,3,4,4]\n",
    "示例 2：\n",
    "![image](https://assets.leetcode.com/uploads/2020/10/03/merge_ex1.jpg)\n",
    "输入：l1 = [], l2 = []\n",
    "输出：[]\n",
    "示例 3：\n",
    "\n",
    "输入：l1 = [], l2 = [0]\n",
    "输出：[0]\n",
    "\n",
    "\n",
    "提示：\n",
    "\n",
    "两个链表的节点数目范围是 [0, 50]\n",
    "-100 <= Node.val <= 100\n",
    "l1 和 l2 均按 非递减顺序 排列"
   ]
  },
  {
   "cell_type": "code",
   "execution_count": 1,
   "outputs": [
    {
     "name": "stdout",
     "output_type": "stream",
     "text": [
      "[1, 1, 2, 3, 4, 4]\n"
     ]
    }
   ],
   "source": [
    "from DataStructure.ListNode import ListNode, list2ListNode, listNode2List\n",
    "\n",
    "\n",
    "# 方法一：循环法\n",
    "def mergeTwoLists(list1: ListNode, list2: ListNode) -> ListNode:\n",
    "    pre = ListNode(None)\n",
    "    cur = pre\n",
    "    while list1 and list2:\n",
    "        if list1.val < list2.val:\n",
    "            cur.next = ListNode(list1.val)\n",
    "            list1 = list1.next\n",
    "        else:\n",
    "            cur.next = ListNode(list2.val)\n",
    "            list2 = list2.next\n",
    "        cur = cur.next\n",
    "\n",
    "    # 合并剩余\n",
    "    cur.next = list1 if list1 else list2\n",
    "    return pre.next\n",
    "\n",
    "\n",
    "# 方法二：递归法\n",
    "def mergeTwoLists2(list1: ListNode, list2: ListNode) -> ListNode:\n",
    "    if list1 is None:\n",
    "        return list2\n",
    "    elif list2 is None:\n",
    "        return list1\n",
    "    elif list1.val < list2.val:\n",
    "        list1.next = mergeTwoLists(list1.next, list2)\n",
    "        return list1\n",
    "    else:\n",
    "        list2.next = mergeTwoLists(list1, list2.next)\n",
    "        return list2\n",
    "\n",
    "\n",
    "l1 = [1, 2, 4]\n",
    "l2 = [1, 3, 4]\n",
    "\n",
    "l1 = list2ListNode(l1)\n",
    "l2 = list2ListNode(l2)\n",
    "node = mergeTwoLists2(l1, l2)\n",
    "ans = listNode2List(node)\n",
    "print(ans)"
   ],
   "metadata": {
    "collapsed": false,
    "pycharm": {
     "name": "#%%\n"
    }
   }
  }
 ],
 "metadata": {
  "kernelspec": {
   "display_name": "Python 3",
   "language": "python",
   "name": "python3"
  },
  "language_info": {
   "codemirror_mode": {
    "name": "ipython",
    "version": 2
   },
   "file_extension": ".py",
   "mimetype": "text/x-python",
   "name": "python",
   "nbconvert_exporter": "python",
   "pygments_lexer": "ipython2",
   "version": "2.7.6"
  }
 },
 "nbformat": 4,
 "nbformat_minor": 0
}