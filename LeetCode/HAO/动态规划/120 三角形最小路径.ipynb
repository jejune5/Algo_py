{
 "cells": [
  {
   "cell_type": "code",
   "execution_count": 112,
   "metadata": {
    "collapsed": true,
    "pycharm": {
     "is_executing": false
    }
   },
   "outputs": [
    {
     "name": "stdout",
     "text": [
      "[[2], [3, 4], [6, 5, 7], [4, 1, 8, 3]]\n1 0\n1 1\n2 0\n2 1\n2 2\n3 0\n3 1\n3 2\n3 3\n[[2], [5, 6], [11, 10, 13], [15, 11, 18, 16]]\n"
     ],
     "output_type": "stream"
    }
   ],
   "source": [
    "def minimumTotal(triangle) -> int:\n",
    "    pass\n",
    "\n",
    "\n",
    "triangle = [[2], [3,4], [6,5,7], [4,1,8,3]]\n",
    "dp = []\n",
    "for i in triangle:\n",
    "    dp.append(i)\n",
    "# dp.append(triangle[0])\n",
    "# dp.append(triangle[1])\n",
    "print(dp)\n",
    "\n",
    "for i in range(1,len(triangle)):\n",
    "    for j in range(len(triangle[i])):\n",
    "        print(i,j)\n",
    "        if j == 0:\n",
    "            dp[i][j] = dp[i-1][j] + triangle[i][j]\n",
    "        elif j == len(triangle[i]) - 1:\n",
    "            dp[i][j] = dp[i-1][j-1] + triangle[i][j]\n",
    "        else:\n",
    "            dp[i][j] = min(dp[i-1][j-1], dp[i-1][j]) + triangle[i][j]\n",
    "        \n",
    "        # print(triangle[i][j])  \n",
    "        \n",
    "print(dp)"
   ]
  }
 ],
 "metadata": {
  "language_info": {
   "codemirror_mode": {
    "name": "ipython",
    "version": 2
   },
   "file_extension": ".py",
   "mimetype": "text/x-python",
   "name": "python",
   "nbconvert_exporter": "python",
   "pygments_lexer": "ipython2",
   "version": "2.7.6"
  },
  "kernelspec": {
   "name": "python3",
   "language": "python",
   "display_name": "Python 3"
  },
  "pycharm": {
   "stem_cell": {
    "cell_type": "raw",
    "source": [],
    "metadata": {
     "collapsed": false
    }
   }
  }
 },
 "nbformat": 4,
 "nbformat_minor": 0
}