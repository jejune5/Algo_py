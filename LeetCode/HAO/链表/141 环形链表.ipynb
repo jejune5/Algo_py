{
 "cells": [
  {
   "cell_type": "code",
   "execution_count": 3,
   "metadata": {
    "collapsed": true,
    "pycharm": {
     "is_executing": false
    }
   },
   "outputs": [
    {
     "name": "stdout",
     "text": [
      "[1, 2, 3]\n"
     ],
     "output_type": "stream"
    }
   ],
   "source": [
    "# Definition for singly-linked list.\n",
    "class ListNode:\n",
    "    def __init__(self, x):\n",
    "        self.val = x\n",
    "        self.next = None\n",
    "\n",
    "\n",
    "def listToListNode(List) -> ListNode:\n",
    "    tem_node = ListNode(None)\n",
    "    node = ListNode(None)\n",
    "    for i in List:\n",
    "        # 记得是判定val是否有值，并且用一个node记住头节点，然后返回的是头节点\n",
    "        if not tem_node.val:\n",
    "            tem_node.val = i\n",
    "            node = tem_node\n",
    "        else:\n",
    "            tem_node.next = ListNode(i)\n",
    "            tem_node = tem_node.next\n",
    "    return node\n",
    "\n",
    "\n",
    "def ListNodeTolist(head: ListNode) -> list:\n",
    "    List = []\n",
    "    while head:\n",
    "        List.append(head.val)\n",
    "        head = head.next\n",
    "    return List\n",
    "\n",
    "\n",
    "a = [1, 2, 3]\n",
    "res = listToListNode(a)\n",
    "List = ListNodeTolist(res)\n",
    "\n",
    "print(List)\n"
   ]
  },
  {
   "cell_type": "code",
   "execution_count": 3,
   "outputs": [],
   "source": [
    "def hasCycle(head: ListNode) -> bool:\n",
    "    if head == None:\n",
    "        return False\n",
    "    fast = head.next\n",
    "    \n",
    "    while fast != None and head != None and fast.next != None:\n",
    "        if fast == head:\n",
    "            return True\n",
    "    \n",
    "        fast = fast.next.next\n",
    "        head = head.next\n",
    "    \n",
    "    return False\n",
    "\n",
    "head = [1,2,3]\n",
    "\n",
    "\n"
   ],
   "metadata": {
    "collapsed": false,
    "pycharm": {
     "name": "#%%\n",
     "is_executing": false
    }
   }
  }
 ],
 "metadata": {
  "language_info": {
   "codemirror_mode": {
    "name": "ipython",
    "version": 2
   },
   "file_extension": ".py",
   "mimetype": "text/x-python",
   "name": "python",
   "nbconvert_exporter": "python",
   "pygments_lexer": "ipython2",
   "version": "2.7.6"
  },
  "kernelspec": {
   "name": "python3",
   "language": "python",
   "display_name": "Python 3"
  },
  "pycharm": {
   "stem_cell": {
    "cell_type": "raw",
    "source": [],
    "metadata": {
     "collapsed": false
    }
   }
  }
 },
 "nbformat": 4,
 "nbformat_minor": 0
}