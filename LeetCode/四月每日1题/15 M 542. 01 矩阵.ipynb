{
 "cells": [
  {
   "cell_type": "markdown",
   "metadata": {
    "collapsed": true,
    "pycharm": {
     "name": "#%% md\n"
    }
   },
   "source": [
    "给定一个由 0 和 1 组成的矩阵，找出每个元素到最近的 0 的距离。\n",
    "\n",
    "两个相邻元素间的距离为 1 。"
   ]
  },
  {
   "cell_type": "code",
   "execution_count": 2,
   "outputs": [
    {
     "name": "stdout",
     "text": [
      "[[0, 0, 0], [0, 1, 0], [0, 0, 0]]\n"
     ],
     "output_type": "stream"
    }
   ],
   "source": [
    "def updateMatrix(matrix):\n",
    "    \n",
    "    return matrix\n",
    "\n",
    "matrix = [[0,0,0],[0,1,0],[0,0,0]]\n",
    "t = updateMatrix(matrix)\n",
    "print(t)"
   ],
   "metadata": {
    "collapsed": false,
    "pycharm": {
     "name": "#%%\n",
     "is_executing": false
    }
   }
  },
  {
   "cell_type": "code",
   "execution_count": 97,
   "outputs": [
    {
     "name": "stdout",
     "text": [
      "0\n0\n0\n0\n1\n0\n0\n0\n0\n= = = =\n0\n0\n0\n0\n"
     ],
     "output_type": "stream"
    }
   ],
   "source": [
    "matrix = [[0,0,0],[0,1,0],[0,0,0]]\n",
    "######################################\n",
    "lens = len(matrix)\n",
    "ans = []\n",
    "for i in matrix:\n",
    "    ans.append(i.copy())\n",
    "dx,dy = [0,0,-1,1],[-1,1,0,0]\n",
    "# matrix[0][0] = 100\n",
    "for x in range(lens):\n",
    "    for y in range(lens):\n",
    "        if matrix[x][y] != 0:\n",
    "            step = 1\n",
    "            for i in range(4):\n",
    "                \n",
    "\n",
    "\n",
    "        print(matrix[x][y])\n",
    "        \n",
    "        \n",
    "print('= = = =')        \n",
    "for x in range(4):\n",
    "    # print(dx[x],dy[x])\n",
    "    print(ans[1+dx[x]][1+dy[x]])\n",
    "    "
   ],
   "metadata": {
    "collapsed": false,
    "pycharm": {
     "name": "#%%\n",
     "is_executing": false
    }
   }
  },
  {
   "cell_type": "code",
   "execution_count": 126,
   "outputs": [
    {
     "name": "stdout",
     "text": [
      "deque([(0, 1), (0, 2), (1, 0), (1, 2), (2, 0), (2, 1), (2, 2)]) 0 0\ndeque([(0, 2), (1, 0), (1, 2), (2, 0), (2, 1), (2, 2)]) 0 1\ndeque([(1, 0), (1, 2), (2, 0), (2, 1), (2, 2), (1, 1)]) 0 2\ndeque([(1, 2), (2, 0), (2, 1), (2, 2), (1, 1)]) 1 0\ndeque([(2, 0), (2, 1), (2, 2), (1, 1)]) 1 2\ndeque([(2, 1), (2, 2), (1, 1)]) 2 0\ndeque([(2, 2), (1, 1)]) 2 1\ndeque([(1, 1)]) 2 2\ndeque([]) 1 1\n[[0, 0, 0], [0, 1, 0], [0, 0, 0]]\n"
     ],
     "output_type": "stream"
    }
   ],
   "source": [
    "matrix = [[0,0,0],[0,1,0],[0,0,0]]\n",
    "######################################\n",
    "import collections\n",
    "m, n = len(matrix), len(matrix[0])\n",
    "dist = [[0] * n for _ in range(m)]\n",
    "zeroes_pos = [(i, j) for i in range(m) for j in range(n) if matrix[i][j] == 0]\n",
    "# 将所有的 0 添加进初始队列中\n",
    "q = collections.deque(zeroes_pos)\n",
    "seen = set(zeroes_pos)\n",
    "\n",
    "# 广度优先搜索\n",
    "while q:\n",
    "    i, j = q.popleft()\n",
    "    print(q,i,j)\n",
    "    for ni, nj in [(i - 1, j), (i + 1, j), (i, j - 1), (i, j + 1)]:\n",
    "        if 0 <= ni < m and 0 <= nj < n and (ni, nj) not in seen:#(ni, nj)不是0的数\n",
    "            dist[ni][nj] = dist[i][j] + 1\n",
    "            q.append((ni, nj))\n",
    "            seen.add((ni, nj))\n",
    "\n",
    "print(dist)"
   ],
   "metadata": {
    "collapsed": false,
    "pycharm": {
     "name": "#%%\n",
     "is_executing": false
    }
   }
  }
 ],
 "metadata": {
  "kernelspec": {
   "display_name": "Python 3",
   "language": "python",
   "name": "python3"
  },
  "language_info": {
   "codemirror_mode": {
    "name": "ipython",
    "version": 2
   },
   "file_extension": ".py",
   "mimetype": "text/x-python",
   "name": "python",
   "nbconvert_exporter": "python",
   "pygments_lexer": "ipython2",
   "version": "2.7.6"
  },
  "pycharm": {
   "stem_cell": {
    "cell_type": "raw",
    "source": [],
    "metadata": {
     "collapsed": false
    }
   }
  }
 },
 "nbformat": 4,
 "nbformat_minor": 0
}