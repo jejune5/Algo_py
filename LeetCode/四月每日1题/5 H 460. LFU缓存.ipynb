{
 "cells": [
  {
   "cell_type": "markdown",
   "metadata": {
    "collapsed": true,
    "pycharm": {
     "name": "#%% md\n"
    }
   },
   "source": [
    "设计并实现最不经常使用（LFU）缓存的数据结构。它应该支持以下操作：get 和 put。\n",
    "\n",
    "get(key) - 如果键存在于缓存中，则获取键的值（总是正数），否则返回 -1。\n",
    "put(key, value) - 如果键不存在，请设置或插入值。当缓存达到其容量时，它应该在插入新项目之前，使最不经常使用的项目无效。在此问题中，当存在平局（即两个或更多个键具有相同使用频率）时，最近最少使用的键将被去除。\n",
    "\n",
    "进阶：\n",
    "你是否可以在 O(1) 时间复杂度内执行两项操作？\n",
    "\n",
    "示例：\n",
    "\n",
    "LFUCache cache = new LFUCache( 2 /* capacity (缓存容量) */ );\n",
    "\n",
    "cache.put(1, 1);\n",
    "cache.put(2, 2);\n",
    "cache.get(1);       // 返回 1\n",
    "cache.put(3, 3);    // 去除 key 2\n",
    "cache.get(2);       // 返回 -1 (未找到key 2)\n",
    "cache.get(3);       // 返回 3\n",
    "cache.put(4, 4);    // 去除 key 1\n",
    "cache.get(1);       // 返回 -1 (未找到 key 1)\n",
    "cache.get(3);       // 返回 3\n",
    "cache.get(4);       // 返回 4"
   ]
  },
  {
   "cell_type": "code",
   "execution_count": null,
   "outputs": [],
   "source": [
    "class LFUCache:\n",
    "\n",
    "    def __init__(self, capacity: int):\n",
    "        \n",
    "\n",
    "    def get(self, key: int) -> int:\n",
    "        \n",
    "\n",
    "    def put(self, key: int, value: int) -> None:\n",
    "\n",
    "# Your LFUCache object will be instantiated and called as such:\n",
    "# obj = LFUCache(capacity)\n",
    "# param_1 = obj.get(key)\n",
    "# obj.put(key,value)"
   ],
   "metadata": {
    "collapsed": false,
    "pycharm": {
     "name": "#%%\n"
    }
   }
  }
 ],
 "metadata": {
  "kernelspec": {
   "display_name": "Python 3",
   "language": "python",
   "name": "python3"
  },
  "language_info": {
   "codemirror_mode": {
    "name": "ipython",
    "version": 2
   },
   "file_extension": ".py",
   "mimetype": "text/x-python",
   "name": "python",
   "nbconvert_exporter": "python",
   "pygments_lexer": "ipython2",
   "version": "2.7.6"
  },
  "pycharm": {
   "stem_cell": {
    "cell_type": "raw",
    "source": [],
    "metadata": {
     "collapsed": false
    }
   }
  }
 },
 "nbformat": 4,
 "nbformat_minor": 0
}