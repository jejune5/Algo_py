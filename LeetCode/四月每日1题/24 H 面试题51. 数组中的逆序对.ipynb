{
 "cells": [
  {
   "cell_type": "markdown",
   "metadata": {
    "collapsed": true,
    "pycharm": {
     "name": "#%% md\n"
    }
   },
   "source": [
    "在数组中的两个数字，如果前面一个数字大于后面的数字，则这两个数字组成一个逆序对。\n",
    "输入一个数组，求出这个数组中的逆序对的总数。\n",
    "\n",
    "示例 1:\n",
    "输入: [7,5,6,4]\n",
    "输出: 5"
   ]
  },
  {
   "cell_type": "code",
   "execution_count": 2,
   "outputs": [
    {
     "name": "stdout",
     "text": [
      "[7, 5, 6, 4]\n5\n"
     ],
     "output_type": "stream"
    }
   ],
   "source": [
    "def reversePairs(nums):\n",
    "       \n",
    "    return nums\n",
    "\n",
    "nums = [7,5,6,4]\n",
    "t = reversePairs(nums)\n",
    "print(t)\n",
    "\n",
    "######################\n",
    "def mergeSort(nums, tmp, L, R):\n",
    "    if L >= R:\n",
    "        return 0\n",
    "    mid = (L+R) // 2\n",
    "    inv_count = mergeSort(nums,tmp,L,mid) + mergeSort(nums,tmp,mid+1,R)\n",
    "    i,j,pos = L, mid+1, L\n",
    "    while i<= mid and j<=R:\n",
    "        if nums[i] <= nums[j]:\n",
    "            tmp[pos] = nums[i]\n",
    "            i += 1\n",
    "            inv_count += (j - (mid + 1))\n",
    "        else:\n",
    "            tmp[pos] = nums[j]\n",
    "            j += 1\n",
    "        pos += 1\n",
    "    for k in range(i, mid + 1):\n",
    "        tmp[pos] = nums[k]\n",
    "        inv_count += (j - (mid + 1))\n",
    "        pos += 1\n",
    "    for k in range(j, R + 1):\n",
    "        tmp[pos] = nums[k]\n",
    "        pos += 1\n",
    "    nums[L:R+1] = tmp[L:R+1]\n",
    "    return inv_count\n",
    "\n",
    "def reversePairs(nums) -> int:\n",
    "    n = len(nums)\n",
    "    tmp = [0] * n\n",
    "    return mergeSort(nums, tmp, 0, n - 1)\n",
    "\n",
    "nums = [7,5,6,4]\n",
    "t = reversePairs(nums)\n",
    "print(t)"
   ],
   "metadata": {
    "collapsed": false,
    "pycharm": {
     "name": "#%%\n",
     "is_executing": false
    }
   }
  }
 ],
 "metadata": {
  "kernelspec": {
   "display_name": "Python 3",
   "language": "python",
   "name": "python3"
  },
  "language_info": {
   "codemirror_mode": {
    "name": "ipython",
    "version": 2
   },
   "file_extension": ".py",
   "mimetype": "text/x-python",
   "name": "python",
   "nbconvert_exporter": "python",
   "pygments_lexer": "ipython2",
   "version": "2.7.6"
  },
  "pycharm": {
   "stem_cell": {
    "cell_type": "raw",
    "source": [],
    "metadata": {
     "collapsed": false
    }
   }
  }
 },
 "nbformat": 4,
 "nbformat_minor": 0
}