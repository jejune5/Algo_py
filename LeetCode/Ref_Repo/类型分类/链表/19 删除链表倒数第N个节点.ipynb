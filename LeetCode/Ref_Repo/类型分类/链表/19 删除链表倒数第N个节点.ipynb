{
 "cells": [
  {
   "cell_type": "code",
   "execution_count": 86,
   "metadata": {
    "collapsed": true,
    "pycharm": {
     "is_executing": false
    }
   },
   "outputs": [
    {
     "name": "stdout",
     "text": [
      "[1, 2, 3]\n"
     ],
     "output_type": "stream"
    }
   ],
   "source": [
    "# Definition for singly-linked list.\n",
    "class ListNode:\n",
    "    def __init__(self, x):\n",
    "        self.val = x\n",
    "        self.next = None\n",
    "        \n",
    "def listToListNode(List):\n",
    "    tem_node = ListNode(None)\n",
    "    node = ListNode(None)\n",
    "    for i  in List:\n",
    "        #记得是判定val是否有值，并且用一个node记住头节点，然后返回的是头节点          \n",
    "        if not tem_node.val:\n",
    "            tem_node.val =i\n",
    "            node = tem_node\n",
    "        else:\n",
    "            tem_node.next = ListNode(i)\n",
    "            tem_node = tem_node.next\n",
    "    return node\n",
    "\n",
    "def ListNodeTolist(head: ListNode) -> list:\n",
    "    List = []\n",
    "    while head:\n",
    "        List.append(head.val)\n",
    "        head = head.next\n",
    "    return List\n",
    "\n",
    "\n",
    "a = [1,2,3]\n",
    "res = listToListNode(a)\n",
    "List = ListNodeTolist(res)\n",
    "\n",
    "print(List)"
   ]
  },
  {
   "cell_type": "code",
   "execution_count": 87,
   "outputs": [
    {
     "name": "stdout",
     "text": [
      "[None, 1, 2, 3, 4, 5]\n[None, 1, 2, 3, 4, 5]\n[1, 2, 3, 4, 5]\n[2, 3, 4, 5]\n[1, 2, 3, 5]\n"
     ],
     "output_type": "stream"
    }
   ],
   "source": [
    "def removeNthFromEnd(head: ListNode, n: int) -> ListNode:\n",
    "    node = ListNode(None)\n",
    "    node.next = head\n",
    "    \n",
    "    print(ListNodeTolist(node))\n",
    "    \n",
    "    fast = node\n",
    "    slow = node\n",
    "    print(ListNodeTolist(fast))\n",
    "    i = 0\n",
    "    # print(head.val)\n",
    "    while i < n:\n",
    "        fast = fast.next\n",
    "        print(ListNodeTolist(fast))\n",
    "        i+=1\n",
    "        \n",
    "    while fast.next != None:\n",
    "        fast = fast.next\n",
    "        slow = slow.next\n",
    "    # print(res)\n",
    "    slow.next = slow.next.next\n",
    "    return node.next\n",
    "\n",
    "#########   测试   ###########\n",
    "\n",
    "head = [1,2,3,4,5]\n",
    "head = listToListNode(head)\n",
    "n = 2\n",
    "\n",
    "resLN = removeNthFromEnd(head,n)\n",
    "print(ListNodeTolist(resLN))"
   ],
   "metadata": {
    "collapsed": false,
    "pycharm": {
     "name": "#%%\n",
     "is_executing": false
    }
   }
  }
 ],
 "metadata": {
  "language_info": {
   "codemirror_mode": {
    "name": "ipython",
    "version": 2
   },
   "file_extension": ".py",
   "mimetype": "text/x-python",
   "name": "python",
   "nbconvert_exporter": "python",
   "pygments_lexer": "ipython2",
   "version": "2.7.6"
  },
  "kernelspec": {
   "name": "python3",
   "language": "python",
   "display_name": "Python 3"
  },
  "pycharm": {
   "stem_cell": {
    "cell_type": "raw",
    "source": [],
    "metadata": {
     "collapsed": false
    }
   }
  }
 },
 "nbformat": 4,
 "nbformat_minor": 0
}