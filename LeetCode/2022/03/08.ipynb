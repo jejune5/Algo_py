{
 "cells": [
  {
   "cell_type": "markdown",
   "metadata": {},
   "source": [
    "2055. 蜡烛之间的盘子\n",
    "给你一个长桌子，桌子上盘子和蜡烛排成一列。给你一个下标从 0 开始的字符串 s ，它只包含字符 '*' 和 '|' ，其中 '*' 表示一个 盘子 ，'|' 表示一支 蜡烛 。\n",
    "\n",
    "同时给你一个下标从 0 开始的二维整数数组 queries ，其中 queries[i] = [lefti, righti] 表示 子字符串 s[lefti...righti] （包含左右端点的字符）。对于每个查询，你需要找到 子字符串中 在 两支蜡烛之间 的盘子的 数目 。如果一个盘子在 子字符串中 左边和右边 都 至少有一支蜡烛，那么这个盘子满足在 两支蜡烛之间 。\n",
    "\n",
    "比方说，s = \"||**||**|*\" ，查询 [3, 8] ，表示的是子字符串 \"*||**|\" 。子字符串中在两支蜡烛之间的盘子数目为 2 ，子字符串中右边两个盘子在它们左边和右边 都 至少有一支蜡烛。\n",
    "请你返回一个整数数组 answer ，其中 answer[i] 是第 i 个查询的答案。\n",
    "\n",
    " \n",
    "\n",
    "示例 1:\n",
    "\n",
    "ex-1\n",
    "\n",
    "输入：s = \"**|**|***|\", queries = [[2,5],[5,9]]\n",
    "输出：[2,3]\n",
    "解释：\n",
    "- queries[0] 有两个盘子在蜡烛之间。\n",
    "- queries[1] 有三个盘子在蜡烛之间。\n",
    "示例 2:\n",
    "\n",
    "ex-2\n",
    "\n",
    "输入：s = \"***|**|*****|**||**|*\", queries = [[1,17],[4,5],[14,17],[5,11],[15,16]]\n",
    "输出：[9,0,0,0,0]\n",
    "解释：\n",
    "- queries[0] 有 9 个盘子在蜡烛之间。\n",
    "- 另一个查询没有盘子在蜡烛之间。\n",
    " \n",
    "\n",
    "提示：\n",
    "\n",
    "3 <= s.length <= 105\n",
    "s 只包含字符 '*' 和 '|' 。\n",
    "1 <= queries.length <= 105\n",
    "queries[i].length == 2\n",
    "0 <= lefti <= righti < s.length"
   ]
  },
  {
   "cell_type": "code",
   "execution_count": 12,
   "metadata": {},
   "outputs": [
    {
     "data": {
      "text/plain": [
       "[2, 3]"
      ]
     },
     "execution_count": 12,
     "metadata": {},
     "output_type": "execute_result"
    }
   ],
   "source": [
    "def platesBetweenCandles(s, queries):\n",
    "\n",
    "    ans = []\n",
    "    for query in queries:\n",
    "        sub = s[query[0]:query[1] + 1]\n",
    "        ans.append(sub.strip('*').count('*'))\n",
    "    return ans\n",
    "\n",
    "\n",
    "s = \"**|**|***|\"\n",
    "queries = [[2,5],[5,9]]\n",
    "platesBetweenCandles(s, queries)"
   ]
  },
  {
   "cell_type": "code",
   "execution_count": 15,
   "metadata": {},
   "outputs": [],
   "source": [
    "class Solution:\n",
    "    def platesBetweenCandles(self, s: str, queries):\n",
    "        n = len(s)\n",
    "        preSum, sum = [0] * n, 0\n",
    "        left, l = [0] * n, -1\n",
    "        for i, ch in enumerate(s):\n",
    "            if ch == '*':\n",
    "                sum += 1\n",
    "            else:\n",
    "                l = i\n",
    "            preSum[i] = sum\n",
    "            left[i] = l\n",
    "\n",
    "        right, r = [0] * n, -1\n",
    "        for i in range(n - 1, -1, -1):\n",
    "            if s[i] == '|':\n",
    "                r = i\n",
    "            right[i] = r\n",
    "\n",
    "        ans = [0] * len(queries)\n",
    "        for i, (x, y) in enumerate(queries):\n",
    "            x, y = right[x], left[y]\n",
    "            if x >= 0 and y >= 0 and x < y:\n",
    "                ans[i] = preSum[y] - preSum[x]\n",
    "        return ans\n"
   ]
  },
  {
   "cell_type": "code",
   "execution_count": null,
   "metadata": {},
   "outputs": [],
   "source": []
  },
  {
   "cell_type": "code",
   "execution_count": null,
   "metadata": {},
   "outputs": [],
   "source": []
  }
 ],
 "metadata": {
  "interpreter": {
   "hash": "a8415834e63a09e6b568761fadaaf012b2f6c5d86989cdbeae6807bb85c1f6f7"
  },
  "kernelspec": {
   "display_name": "Python 3.7.9 64-bit",
   "language": "python",
   "name": "python3"
  },
  "language_info": {
   "codemirror_mode": {
    "name": "ipython",
    "version": 3
   },
   "file_extension": ".py",
   "mimetype": "text/x-python",
   "name": "python",
   "nbconvert_exporter": "python",
   "pygments_lexer": "ipython3",
   "version": "3.7.9"
  },
  "orig_nbformat": 4
 },
 "nbformat": 4,
 "nbformat_minor": 2
}
