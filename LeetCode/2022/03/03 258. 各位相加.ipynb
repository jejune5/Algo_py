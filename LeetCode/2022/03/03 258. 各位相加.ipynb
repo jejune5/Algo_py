{
 "cells": [
  {
   "cell_type": "markdown",
   "metadata": {},
   "source": [
    "258. 各位相加\n",
    "给定一个非负整数 num，反复将各个位上的数字相加，直到结果为一位数。返回这个结果。\n",
    "\n",
    " \n",
    "\n",
    "示例 1:\n",
    "\n",
    "输入: num = 38\n",
    "输出: 2 \n",
    "解释: 各位相加的过程为：\n",
    "38 --> 3 + 8 --> 11\n",
    "11 --> 1 + 1 --> 2\n",
    "由于 2 是一位数，所以返回 2。\n",
    "示例 1:\n",
    "\n",
    "输入: num = 0\n",
    "输出: 0\n",
    " \n",
    "\n",
    "提示：\n",
    "\n",
    "0 <= num <= 231 - 1\n",
    " \n",
    "\n",
    "进阶：你可以不使用循环或者递归，在 O(1) 时间复杂度内解决这个问题吗？"
   ]
  },
  {
   "cell_type": "code",
   "execution_count": 22,
   "metadata": {},
   "outputs": [
    {
     "data": {
      "text/plain": [
       "0"
      ]
     },
     "execution_count": 22,
     "metadata": {},
     "output_type": "execute_result"
    }
   ],
   "source": [
    "def addDigits(num: int) -> int:\n",
    "    if num < 10:\n",
    "        return num\n",
    "    return addDigits(sum(map(int, list(str(num)))))\n",
    "\n",
    "num = 0\n",
    "ans = addDigits(num=num)\n",
    "ans"
   ]
  },
  {
   "cell_type": "code",
   "execution_count": 23,
   "metadata": {},
   "outputs": [
    {
     "data": {
      "text/plain": [
       "11"
      ]
     },
     "execution_count": 23,
     "metadata": {},
     "output_type": "execute_result"
    }
   ],
   "source": [
    "num = 38\n",
    "sum(map(int, list(str(num))))"
   ]
  },
  {
   "cell_type": "code",
   "execution_count": null,
   "metadata": {},
   "outputs": [],
   "source": []
  }
 ],
 "metadata": {
  "interpreter": {
   "hash": "a8415834e63a09e6b568761fadaaf012b2f6c5d86989cdbeae6807bb85c1f6f7"
  },
  "kernelspec": {
   "display_name": "Python 3.7.9 64-bit",
   "language": "python",
   "name": "python3"
  },
  "language_info": {
   "codemirror_mode": {
    "name": "ipython",
    "version": 3
   },
   "file_extension": ".py",
   "mimetype": "text/x-python",
   "name": "python",
   "nbconvert_exporter": "python",
   "pygments_lexer": "ipython3",
   "version": "3.7.9"
  },
  "orig_nbformat": 4
 },
 "nbformat": 4,
 "nbformat_minor": 2
}
