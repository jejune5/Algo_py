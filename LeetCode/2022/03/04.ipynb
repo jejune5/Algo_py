{
 "cells": [
  {
   "cell_type": "markdown",
   "metadata": {},
   "source": [
    "2104. 子数组范围和\n",
    "给你一个整数数组 nums 。nums 中，子数组的 范围 是子数组中最大元素和最小元素的差值。\n",
    "\n",
    "返回 nums 中 所有 子数组范围的 和 。\n",
    "\n",
    "子数组是数组中一个连续 非空 的元素序列。\n",
    "\n",
    " \n",
    "\n",
    "示例 1：\n",
    "\n",
    "输入：nums = [1,2,3]\n",
    "输出：4\n",
    "解释：nums 的 6 个子数组如下所示：\n",
    "[1]，范围 = 最大 - 最小 = 1 - 1 = 0 \n",
    "[2]，范围 = 2 - 2 = 0\n",
    "[3]，范围 = 3 - 3 = 0\n",
    "[1,2]，范围 = 2 - 1 = 1\n",
    "[2,3]，范围 = 3 - 2 = 1\n",
    "[1,2,3]，范围 = 3 - 1 = 2\n",
    "所有范围的和是 0 + 0 + 0 + 1 + 1 + 2 = 4\n",
    "示例 2：\n",
    "\n",
    "输入：nums = [1,3,3]\n",
    "输出：4\n",
    "解释：nums 的 6 个子数组如下所示：\n",
    "[1]，范围 = 最大 - 最小 = 1 - 1 = 0\n",
    "[3]，范围 = 3 - 3 = 0\n",
    "[3]，范围 = 3 - 3 = 0\n",
    "[1,3]，范围 = 3 - 1 = 2\n",
    "[3,3]，范围 = 3 - 3 = 0\n",
    "[1,3,3]，范围 = 3 - 1 = 2\n",
    "所有范围的和是 0 + 0 + 0 + 2 + 0 + 2 = 4\n",
    "示例 3：\n",
    "\n",
    "输入：nums = [4,-2,-3,4,1]\n",
    "输出：59\n",
    "解释：nums 中所有子数组范围的和是 59"
   ]
  },
  {
   "cell_type": "code",
   "execution_count": 4,
   "metadata": {},
   "outputs": [
    {
     "data": {
      "text/plain": [
       "0"
      ]
     },
     "execution_count": 4,
     "metadata": {},
     "output_type": "execute_result"
    }
   ],
   "source": [
    "def subArrayRanges(nums) -> int:\n",
    "\n",
    "    ans = 0\n",
    "    n = len(nums)\n",
    "    for r in range(2, len(nums)+1):\n",
    "        i = 0\n",
    "        while i+r <= n:\n",
    "            ans += max(nums[i:i+r]) - min(nums[i:i+r])\n",
    "            i+=1\n",
    "    return ans\n",
    "\n",
    "\n",
    "\n",
    "nums = [9]\n",
    "subArrayRanges(nums)"
   ]
  },
  {
   "cell_type": "code",
   "execution_count": 9,
   "metadata": {},
   "outputs": [
    {
     "data": {
      "text/plain": [
       "0"
      ]
     },
     "execution_count": 9,
     "metadata": {},
     "output_type": "execute_result"
    }
   ],
   "source": [
    "def subArrayRanges(nums) -> int:\n",
    "    n = len(nums)\n",
    "    ans = 0\n",
    "    for i in range(n-1):\n",
    "        r = i+2\n",
    "        arr = nums[i:r]\n",
    "        MAX = max(arr)\n",
    "        MIN = min(arr)\n",
    "        delta = MAX - MIN\n",
    "        ans += delta\n",
    "        while r < n:\n",
    "            if nums[r] < MIN:\n",
    "                MIN = nums[r]\n",
    "            elif nums[r] > MAX:\n",
    "                MAX = nums[r]\n",
    "\n",
    "            delta = MAX - MIN\n",
    "            ans += delta\n",
    "            r+=1\n",
    "    return ans\n",
    "\n",
    "nums = [1]\n",
    "subArrayRanges(nums)"
   ]
  },
  {
   "cell_type": "code",
   "execution_count": null,
   "metadata": {},
   "outputs": [],
   "source": []
  }
 ],
 "metadata": {
  "interpreter": {
   "hash": "a8415834e63a09e6b568761fadaaf012b2f6c5d86989cdbeae6807bb85c1f6f7"
  },
  "kernelspec": {
   "display_name": "Python 3.7.9 64-bit",
   "language": "python",
   "name": "python3"
  },
  "language_info": {
   "codemirror_mode": {
    "name": "ipython",
    "version": 3
   },
   "file_extension": ".py",
   "mimetype": "text/x-python",
   "name": "python",
   "nbconvert_exporter": "python",
   "pygments_lexer": "ipython3",
   "version": "3.7.9"
  },
  "orig_nbformat": 4
 },
 "nbformat": 4,
 "nbformat_minor": 2
}
