{
 "cells": [
  {
   "cell_type": "markdown",
   "metadata": {},
   "source": [
    "1994. 好子集的数目\n",
    "给你一个整数数组 nums 。如果 nums 的一个子集中，所有元素的乘积可以表示为一个或多个 互不相同的质数 的乘积，那么我们称它为 好子集 。\n",
    "\n",
    "比方说，如果 nums = [1, 2, 3, 4] ：\n",
    "[2, 3] ，[1, 2, 3] 和 [1, 3] 是 好 子集，乘积分别为 6 = 2*3 ，6 = 2*3 和 3 = 3 。\n",
    "[1, 4] 和 [4] 不是 好 子集，因为乘积分别为 4 = 2*2 和 4 = 2*2 。\n",
    "请你返回 nums 中不同的 好 子集的数目对 109 + 7 取余 的结果。\n",
    "\n",
    "nums 中的 子集 是通过删除 nums 中一些（可能一个都不删除，也可能全部都删除）元素后剩余元素组成的数组。如果两个子集删除的下标不同，那么它们被视为不同的子集。\n",
    "\n",
    " \n",
    "\n",
    "示例 1：\n",
    "\n",
    "输入：nums = [1,2,3,4]\n",
    "输出：6\n",
    "解释：好子集为：\n",
    "- [1,2]：乘积为 2 ，可以表示为质数 2 的乘积。\n",
    "- [1,2,3]：乘积为 6 ，可以表示为互不相同的质数 2 和 3 的乘积。\n",
    "- [1,3]：乘积为 3 ，可以表示为质数 3 的乘积。\n",
    "- [2]：乘积为 2 ，可以表示为质数 2 的乘积。\n",
    "- [2,3]：乘积为 6 ，可以表示为互不相同的质数 2 和 3 的乘积。\n",
    "- [3]：乘积为 3 ，可以表示为质数 3 的乘积。\n",
    "示例 2：\n",
    "\n",
    "输入：nums = [4,2,3,15]\n",
    "输出：5\n",
    "解释：好子集为：\n",
    "- [2]：乘积为 2 ，可以表示为质数 2 的乘积。\n",
    "- [2,3]：乘积为 6 ，可以表示为互不相同质数 2 和 3 的乘积。\n",
    "- [2,15]：乘积为 30 ，可以表示为互不相同质数 2，3 和 5 的乘积。\n",
    "- [3]：乘积为 3 ，可以表示为质数 3 的乘积。\n",
    "- [15]：乘积为 15 ，可以表示为互不相同质数 3 和 5 的乘积。\n",
    " \n",
    "\n",
    "提示：\n",
    "\n",
    "1 <= nums.length <= 105\n",
    "1 <= nums[i] <= 30"
   ]
  },
  {
   "cell_type": "code",
   "execution_count": 1,
   "metadata": {},
   "outputs": [
    {
     "data": {
      "text/plain": [
       "0"
      ]
     },
     "execution_count": 1,
     "metadata": {},
     "output_type": "execute_result"
    }
   ],
   "source": [
    "def numberOfGoodSubsets(nums) -> int:\n",
    "\n",
    "    return 0\n",
    "\n",
    "nums = [1, 2, 3, 4]\n",
    "ans = numberOfGoodSubsets(nums)\n",
    "ans"
   ]
  },
  {
   "cell_type": "code",
   "execution_count": null,
   "metadata": {},
   "outputs": [],
   "source": []
  }
 ],
 "metadata": {
  "interpreter": {
   "hash": "a8415834e63a09e6b568761fadaaf012b2f6c5d86989cdbeae6807bb85c1f6f7"
  },
  "kernelspec": {
   "display_name": "Python 3.7.9 64-bit",
   "language": "python",
   "name": "python3"
  },
  "language_info": {
   "codemirror_mode": {
    "name": "ipython",
    "version": 3
   },
   "file_extension": ".py",
   "mimetype": "text/x-python",
   "name": "python",
   "nbconvert_exporter": "python",
   "pygments_lexer": "ipython3",
   "version": "3.7.9"
  },
  "orig_nbformat": 4
 },
 "nbformat": 4,
 "nbformat_minor": 2
}
