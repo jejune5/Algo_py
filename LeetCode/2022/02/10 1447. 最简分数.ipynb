{
 "cells": [
  {
   "cell_type": "markdown",
   "source": [
    "1447. 最简分数\n",
    "给你一个整数 n ，请你返回所有 0 到 1 之间（不包括 0 和 1）满足分母小于等于  n 的 最简 分数 。分数可以以 任意 顺序返回。\n",
    "\n",
    "\n",
    "\n",
    "示例 1：\n",
    "\n",
    "输入：n = 2\n",
    "输出：[\"1/2\"]\n",
    "解释：\"1/2\" 是唯一一个分母小于等于 2 的最简分数。\n",
    "示例 2：\n",
    "\n",
    "输入：n = 3\n",
    "输出：[\"1/2\",\"1/3\",\"2/3\"]\n",
    "示例 3：\n",
    "\n",
    "输入：n = 4\n",
    "输出：[\"1/2\",\"1/3\",\"1/4\",\"2/3\",\"3/4\"]\n",
    "解释：\"2/4\" 不是最简分数，因为它可以化简为 \"1/2\" 。\n",
    "示例 4：\n",
    "\n",
    "输入：n = 1\n",
    "输出：[]\n",
    "\n",
    "\n",
    "提示：\n",
    "\n",
    "1 <= n <= 100"
   ],
   "metadata": {
    "collapsed": false,
    "pycharm": {
     "name": "#%% md\n"
    }
   }
  },
  {
   "cell_type": "code",
   "source": [
    "def simplifiedFractions(n: int):\n",
    "\n",
    "    #求最小公约数\n",
    "    def gcd(a,b):\n",
    "        if b == 0:\n",
    "            return a\n",
    "        return gcd(b, a%b)\n",
    "\n",
    "    ans = []\n",
    "    for denominator in range(2,n+1):\n",
    "        for numerator in range(1,denominator):\n",
    "            if gcd(numerator,denominator) == 1:\n",
    "                ans.append(str(numerator)+'/'+str(denominator))\n",
    "    return ans\n",
    "\n",
    "n = 10\n",
    "ans = simplifiedFractions(n)\n",
    "ref = [\"1/2\",\"1/3\",\"1/4\",\"1/5\",\"1/6\",\"1/7\",\"1/8\",\"1/9\",\"1/10\",\"2/3\",\"2/5\",\"2/7\",\"2/9\",\"3/4\",\"3/5\",\"3/7\",\"3/8\",\"3/10\",\"4/5\",\"4/7\",\"4/9\",\"5/6\",\"5/7\",\"5/8\",\"5/9\",\"6/7\",\"7/8\",\"7/9\",\"7/10\",\"8/9\",\"9/10\"]\n",
    "print(sorted(ans) == sorted(ref))\n",
    "for m,n in zip(sorted(ans),sorted(ref)):\n",
    "    print(m,n)"
   ],
   "metadata": {
    "collapsed": false,
    "pycharm": {
     "name": "#%%\n"
    }
   },
   "execution_count": 63,
   "outputs": [
    {
     "name": "stdout",
     "output_type": "stream",
     "text": [
      "True\n",
      "1/10 1/10\n",
      "1/2 1/2\n",
      "1/3 1/3\n",
      "1/4 1/4\n",
      "1/5 1/5\n",
      "1/6 1/6\n",
      "1/7 1/7\n",
      "1/8 1/8\n",
      "1/9 1/9\n",
      "2/3 2/3\n",
      "2/5 2/5\n",
      "2/7 2/7\n",
      "2/9 2/9\n",
      "3/10 3/10\n",
      "3/4 3/4\n",
      "3/5 3/5\n",
      "3/7 3/7\n",
      "3/8 3/8\n",
      "4/5 4/5\n",
      "4/7 4/7\n",
      "4/9 4/9\n",
      "5/6 5/6\n",
      "5/7 5/7\n",
      "5/8 5/8\n",
      "5/9 5/9\n",
      "6/7 6/7\n",
      "7/10 7/10\n",
      "7/8 7/8\n",
      "7/9 7/9\n",
      "8/9 8/9\n",
      "9/10 9/10\n"
     ]
    }
   ]
  },
  {
   "cell_type": "code",
   "execution_count": 25,
   "outputs": [
    {
     "name": "stdout",
     "output_type": "stream",
     "text": [
      "2\n",
      "3\n",
      "4\n",
      "5\n",
      "None\n"
     ]
    }
   ],
   "source": [
    "# 是否有最小公约数\n",
    "\n",
    "def gcd(a,b):\n",
    "    if b == 0:\n",
    "        return a\n",
    "    return gcd(b, a%b)\n",
    "\n",
    "a = gcd(2,5)\n",
    "print(a)\n",
    "\n"
   ],
   "metadata": {
    "collapsed": false,
    "pycharm": {
     "name": "#%%\n"
    }
   }
  }
 ],
 "metadata": {
  "kernelspec": {
   "display_name": "Python 3",
   "language": "python",
   "name": "python3"
  },
  "language_info": {
   "codemirror_mode": {
    "name": "ipython",
    "version": 2
   },
   "file_extension": ".py",
   "mimetype": "text/x-python",
   "name": "python",
   "nbconvert_exporter": "python",
   "pygments_lexer": "ipython2",
   "version": "2.7.6"
  }
 },
 "nbformat": 4,
 "nbformat_minor": 0
}