{
 "cells": [
  {
   "cell_type": "markdown",
   "metadata": {
    "collapsed": true,
    "pycharm": {
     "name": "#%% md\n"
    }
   },
   "source": [
    "1719. 重构一棵树的方案数\n",
    "给你一个数组 pairs ，其中 pairs[i] = [xi, yi] ，并且满足：\n",
    "\n",
    "pairs 中没有重复元素\n",
    "xi < yi\n",
    "令 ways 为满足下面条件的有根树的方案数：\n",
    "\n",
    "树所包含的所有节点值都在 pairs 中。\n",
    "一个数对 [xi, yi] 出现在 pairs 中 当且仅当 xi 是 yi 的祖先或者 yi 是 xi 的祖先。\n",
    "注意：构造出来的树不一定是二叉树。\n",
    "两棵树被视为不同的方案当存在至少一个节点在两棵树中有不同的父节点。\n",
    "\n",
    "请你返回：\n",
    "\n",
    "如果 ways == 0 ，返回 0 。\n",
    "如果 ways == 1 ，返回 1 。\n",
    "如果 ways > 1 ，返回 2 。\n",
    "一棵 有根树 指的是只有一个根节点的树，所有边都是从根往外的方向。\n",
    "\n",
    "我们称从根到一个节点路径上的任意一个节点（除去节点本身）都是该节点的 祖先 。根节点没有祖先。\n",
    "\n",
    "\n",
    "\n",
    "示例 1：\n",
    "\n",
    "![avatar](https://assets.leetcode-cn.com/aliyun-lc-upload/uploads/2021/01/09/trees2.png)\n",
    "\n",
    "输入：pairs = [[1,2],[2,3]]\n",
    "输出：1\n",
    "解释：如上图所示，有且只有一个符合规定的有根树。\n",
    "示例 2：\n",
    "\n",
    "输入：pairs = [[1,2],[2,3],[1,3]]\n",
    "输出：2\n",
    "解释：有多个符合规定的有根树，其中三个如上图所示。\n",
    "示例 3：\n",
    "\n",
    "输入：pairs = [[1,2],[2,3],[2,4],[1,5]]\n",
    "输出：0\n",
    "解释：没有符合规定的有根树。"
   ]
  },
  {
   "cell_type": "code",
   "execution_count": null,
   "metadata": {
    "collapsed": false,
    "pycharm": {
     "name": "#%%\n"
    }
   },
   "outputs": [],
   "source": [
    "def checkWays(pairs) -> int:\n",
    "\n",
    "    ...\n"
   ]
  }
 ],
 "metadata": {
  "kernelspec": {
   "display_name": "Python 3",
   "language": "python",
   "name": "python3"
  },
  "language_info": {
   "codemirror_mode": {
    "name": "ipython",
    "version": 2
   },
   "file_extension": ".py",
   "mimetype": "text/x-python",
   "name": "python",
   "nbconvert_exporter": "python",
   "pygments_lexer": "ipython2",
   "version": "2.7.6"
  }
 },
 "nbformat": 4,
 "nbformat_minor": 0
}
