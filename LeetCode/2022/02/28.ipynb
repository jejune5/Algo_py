{
 "cells": [
  {
   "cell_type": "markdown",
   "metadata": {},
   "source": [
    "1601. 最多可达成的换楼请求数目\n",
    "我们有 n 栋楼，编号从 0 到 n - 1 。每栋楼有若干员工。由于现在是换楼的季节，部分员工想要换一栋楼居住。\n",
    "\n",
    "给你一个数组 requests ，其中 requests[i] = [fromi, toi] ，表示一个员工请求从编号为 fromi 的楼搬到编号为 toi 的楼。\n",
    "\n",
    "一开始 所有楼都是满的，所以从请求列表中选出的若干个请求是可行的需要满足 每栋楼员工净变化为 0 。意思是每栋楼 离开 的员工数目 等于 该楼 搬入 的员工数数目。比方说 n = 3 且两个员工要离开楼 0 ，一个员工要离开楼 1 ，一个员工要离开楼 2 ，如果该请求列表可行，应该要有两个员工搬入楼 0 ，一个员工搬入楼 1 ，一个员工搬入楼 2 。\n",
    "\n",
    "请你从原请求列表中选出若干个请求，使得它们是一个可行的请求列表，并返回所有可行列表中最大请求数目。\n",
    "\n",
    " \n",
    "\n",
    "示例 1：\n",
    "\n",
    "![avatar](https://assets.leetcode-cn.com/aliyun-lc-upload/uploads/2020/09/26/move1.jpg)\n",
    "\n",
    "输入：n = 5, requests = [[0,1],[1,0],[0,1],[1,2],[2,0],[3,4]]\n",
    "输出：5\n",
    "解释：请求列表如下：\n",
    "从楼 0 离开的员工为 x 和 y ，且他们都想要搬到楼 1 。\n",
    "从楼 1 离开的员工为 a 和 b ，且他们分别想要搬到楼 2 和 0 。\n",
    "从楼 2 离开的员工为 z ，且他想要搬到楼 0 。\n",
    "从楼 3 离开的员工为 c ，且他想要搬到楼 4 。\n",
    "没有员工从楼 4 离开。\n",
    "我们可以让 x 和 b 交换他们的楼，以满足他们的请求。\n",
    "我们可以让 y，a 和 z 三人在三栋楼间交换位置，满足他们的要求。\n",
    "所以最多可以满足 5 个请求。\n",
    "示例 2：\n",
    "![avatar](https://assets.leetcode-cn.com/aliyun-lc-upload/uploads/2020/09/26/move2.jpg)\n",
    "\n",
    "\n",
    "输入：n = 3, requests = [[0,0],[1,2],[2,1]]\n",
    "输出：3\n",
    "解释：请求列表如下：\n",
    "从楼 0 离开的员工为 x ，且他想要回到原来的楼 0 。\n",
    "从楼 1 离开的员工为 y ，且他想要搬到楼 2 。\n",
    "从楼 2 离开的员工为 z ，且他想要搬到楼 1 。\n",
    "我们可以满足所有的请求。\n",
    "示例 3：\n",
    "\n",
    "输入：n = 4, requests = [[0,3],[3,1],[1,2],[2,0]]\n",
    "输出：4\n",
    " \n",
    "\n",
    "提示：\n",
    "\n",
    "1 <= n <= 20\n",
    "1 <= requests.length <= 16\n",
    "requests[i].length == 2\n",
    "0 <= fromi, toi < n"
   ]
  },
  {
   "cell_type": "code",
   "execution_count": 34,
   "metadata": {},
   "outputs": [
    {
     "data": {
      "text/plain": [
       "6"
      ]
     },
     "execution_count": 34,
     "metadata": {},
     "output_type": "execute_result"
    }
   ],
   "source": [
    "def maximumRequests(n: int, requests) -> int:\n",
    "    n_dict = {i:0 for i in range(n)}\n",
    "\n",
    "    for row_0, row_1 in requests:\n",
    "        n_dict.update({row_0 : n_dict[row_0]-1})\n",
    "        n_dict.update({row_1 : n_dict[row_1]+1})\n",
    "        \n",
    "    \n",
    "    num_out = -1*sum(v for v in n_dict.values() if v<0)\n",
    "    return len(requests) - num_out\n",
    "\n",
    "\n",
    "n = 5\n",
    "requests = [[0,1],[1,0],[0,1],[1,2],[2,0],[3,4]]\n",
    "\n",
    "n = 3\n",
    "requests = [[0,0],[1,2],[2,1]]\n",
    "\n",
    "n = 4\n",
    "requests = [[0,0]]\n",
    "\n",
    "n = 3\n",
    "requests = [[0,0],[1,1],[0,0],[2,0],[2,2],[1,1],[2,1],[0,1],[0,1]]\n",
    "\n",
    "ans = maximumRequests(n, requests)\n",
    "ans\n"
   ]
  },
  {
   "cell_type": "code",
   "execution_count": 19,
   "metadata": {},
   "outputs": [
    {
     "data": {
      "text/plain": [
       "{99: -1}"
      ]
     },
     "execution_count": 19,
     "metadata": {},
     "output_type": "execute_result"
    }
   ],
   "source": [
    "d = {99:0}\n",
    "\n",
    "d.update({99:d[99]+1})\n",
    "d.update({99:d[99]-2})\n",
    "d"
   ]
  },
  {
   "cell_type": "code",
   "execution_count": null,
   "metadata": {},
   "outputs": [],
   "source": []
  }
 ],
 "metadata": {
  "interpreter": {
   "hash": "a8415834e63a09e6b568761fadaaf012b2f6c5d86989cdbeae6807bb85c1f6f7"
  },
  "kernelspec": {
   "display_name": "Python 3.7.9 64-bit",
   "language": "python",
   "name": "python3"
  },
  "language_info": {
   "codemirror_mode": {
    "name": "ipython",
    "version": 3
   },
   "file_extension": ".py",
   "mimetype": "text/x-python",
   "name": "python",
   "nbconvert_exporter": "python",
   "pygments_lexer": "ipython3",
   "version": "3.7.9"
  },
  "orig_nbformat": 4
 },
 "nbformat": 4,
 "nbformat_minor": 2
}
