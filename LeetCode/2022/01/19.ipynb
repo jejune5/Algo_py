{
 "cells": [
  {
   "cell_type": "markdown",
   "metadata": {
    "collapsed": true,
    "pycharm": {
     "name": "#%% md\n"
    }
   },
   "source": [
    "219. 存在重复元素 II\n",
    "给你一个整数数组 nums 和一个整数 k ，判断数组中是否存在两个 不同的索引 i 和 j ，满足 nums[i] == nums[j] 且 abs(i - j) <= k 。如果存在，返回 true ；否则，返回 false 。\n",
    "\n",
    "\n",
    "\n",
    "示例 1：\n",
    "\n",
    "输入：nums = [1,2,3,1], k = 3\n",
    "输出：true\n",
    "示例 2：\n",
    "\n",
    "输入：nums = [1,0,1,1], k = 1\n",
    "输出：true\n",
    "示例 3：\n",
    "\n",
    "输入：nums = [1,2,3,1,2,3], k = 2\n",
    "输出：false\n",
    "\n",
    "\n",
    "\n",
    "\n",
    "提示：\n",
    "\n",
    "1 <= nums.length <= 105\n",
    "-109 <= nums[i] <= 109\n",
    "0 <= k <= 105"
   ]
  },
  {
   "cell_type": "code",
   "execution_count": 47,
   "outputs": [
    {
     "data": {
      "text/plain": "True"
     },
     "execution_count": 47,
     "metadata": {},
     "output_type": "execute_result"
    }
   ],
   "source": [
    "def containsNearbyDuplicate(nums, k) -> bool:\n",
    "    for i in range(len(nums) - k + 2):\n",
    "        # print(nums[i:i + k+1])\n",
    "        if len(nums[i:i + k+1]) != len(set(nums[i:i + k+1])):\n",
    "            return True\n",
    "    return False\n",
    "\n",
    "\n",
    "nums = [1,1]\n",
    "k = 1\n",
    "\n",
    "ans = containsNearbyDuplicate(nums, k)\n",
    "ans"
   ],
   "metadata": {
    "collapsed": false,
    "pycharm": {
     "name": "#%%\n"
    }
   }
  },
  {
   "cell_type": "code",
   "execution_count": 20,
   "outputs": [],
   "source": [
    "# 超时\n",
    "def containsNearbyDuplicate_1(nums, k) -> bool:\n",
    "    i = 0\n",
    "    lens = len(nums)\n",
    "    while i < lens - 1:\n",
    "        j = i + 1\n",
    "        while j < lens and j < i + k + 1:\n",
    "            if nums[i] == nums[j]:\n",
    "                return True\n",
    "            j += 1\n",
    "        i += 1\n",
    "    return False\n",
    "\n",
    "# nums = [1,1,1]\n",
    "# k = 0\n",
    "# ans = containsNearbyDuplicate(nums, k)\n",
    "# ans"
   ],
   "metadata": {
    "collapsed": false,
    "pycharm": {
     "name": "#%%\n"
    }
   }
  }
 ],
 "metadata": {
  "kernelspec": {
   "display_name": "Python 3",
   "language": "python",
   "name": "python3"
  },
  "language_info": {
   "codemirror_mode": {
    "name": "ipython",
    "version": 2
   },
   "file_extension": ".py",
   "mimetype": "text/x-python",
   "name": "python",
   "nbconvert_exporter": "python",
   "pygments_lexer": "ipython2",
   "version": "2.7.6"
  }
 },
 "nbformat": 4,
 "nbformat_minor": 0
}