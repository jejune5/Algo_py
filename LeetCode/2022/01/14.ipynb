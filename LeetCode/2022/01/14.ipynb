{
 "cells": [
  {
   "cell_type": "markdown",
   "metadata": {
    "collapsed": true,
    "pycharm": {
     "name": "#%% md\n"
    }
   },
   "source": [
    "373. 查找和最小的K对数字\n",
    "给定两个以升序排列的整数数组 nums1 和 nums2 , 以及一个整数 k 。\n",
    "\n",
    "定义一对值 (u,v)，其中第一个元素来自 nums1，第二个元素来自 nums2 。\n",
    "\n",
    "请找到和最小的 k 个数对 (u1,v1),  (u2,v2)  ...  (uk,vk) 。\n",
    "\n",
    "\n",
    "\n",
    "示例 1:\n",
    "\n",
    "输入: nums1 = [1,7,11], nums2 = [2,4,6], k = 3\n",
    "输出: [1,2],[1,4],[1,6]\n",
    "解释: 返回序列中的前 3 对数：\n",
    "     [1,2],[1,4],[1,6],[7,2],[7,4],[11,2],[7,6],[11,4],[11,6]\n",
    "示例 2:\n",
    "\n",
    "输入: nums1 = [1,1,2], nums2 = [1,2,3], k = 2\n",
    "输出: [1,1],[1,1]\n",
    "解释: 返回序列中的前 2 对数：\n",
    "     [1,1],[1,1],[1,2],[2,1],[1,2],[2,2],[1,3],[1,3],[2,3]\n",
    "示例 3:\n",
    "\n",
    "输入: nums1 = [1,2], nums2 = [3], k = 3\n",
    "输出: [1,3],[2,3]\n",
    "解释: 也可能序列中所有的数对都被返回:[1,3],[2,3]\n",
    "\n",
    "\n",
    "提示:\n",
    "\n",
    "1 <= nums1.length, nums2.length <= 104\n",
    "-109 <= nums1[i], nums2[i] <= 109\n",
    "nums1, nums2 均为升序排列\n",
    "1 <= k <= 1000"
   ]
  },
  {
   "cell_type": "code",
   "execution_count": 7,
   "outputs": [],
   "source": [
    "def kSmallestPairs(nums1, nums2, k: int):\n",
    "    res = [[nums1[0], nums2[0]]]\n",
    "    if len(nums1) == len(nums2) == 1:\n",
    "        return res\n",
    "\n",
    "    elif len(nums1) != 1 and not len(nums2) == 1:\n",
    "        for i in range(1, nums1):\n",
    "            if len(res) < k:\n",
    "                res.append([nums1[i], nums2[0]])\n",
    "            else:\n",
    "                return res\n",
    "\n",
    "    elif len(nums1) == 1 and len(nums2) != 1:\n",
    "        for j in range(1, nums2):\n",
    "            if len(res) < k:\n",
    "                res.append([nums1[0], nums2[j]])\n",
    "            else:\n",
    "                return res\n",
    "\n",
    "    else:\n",
    "        i = j = 0\n",
    "        m = n = 1\n",
    "\n",
    "        while (i < len(nums1) or j < len(nums2)) and k < len(res):\n",
    "            if nums1[i] + nums2[n] < nums1[m] + nums2[j]:\n",
    "                res.append([nums1[i], nums2[n]])\n",
    "                n += 1\n",
    "            else:\n",
    "                res.append([nums1[i], nums2[n]])\n",
    "                m += 1\n",
    "            if m == len(nums1):\n",
    "                m = 0\n",
    "                j += 1\n",
    "            if n == len(nums2):\n",
    "                n = 0\n",
    "                i += 1\n",
    "    return res\n",
    "\n",
    "    # while i < len(nums1):\n",
    "    #     while j < len(nums2):\n",
    "    #\n",
    "    #         if nums1[i - 1] + nums2[j] < nums1[i] + nums2[j - 1]:\n",
    "    #             res.append([nums1[i - 1], nums2[j]])\n",
    "    #         else:\n",
    "    #             res.append(nums1[i], nums2[j - 1])\n",
    "    #\n",
    "    #         # print(i,j)\n",
    "    #         if len(res) == k:\n",
    "    #             return res\n",
    "    #         j += 1\n",
    "    #     i += 1\n",
    "    # return res"
   ],
   "metadata": {
    "collapsed": false,
    "pycharm": {
     "name": "#%%\n"
    }
   }
  },
  {
   "cell_type": "code",
   "execution_count": 8,
   "outputs": [
    {
     "ename": "TypeError",
     "evalue": "'list' object cannot be interpreted as an integer",
     "output_type": "error",
     "traceback": [
      "\u001B[1;31m---------------------------------------------------------------------------\u001B[0m",
      "\u001B[1;31mTypeError\u001B[0m                                 Traceback (most recent call last)",
      "\u001B[1;32m<ipython-input-8-8f21c86f76df>\u001B[0m in \u001B[0;36m<module>\u001B[1;34m\u001B[0m\n\u001B[0;32m      3\u001B[0m \u001B[0mk\u001B[0m \u001B[1;33m=\u001B[0m \u001B[1;36m2\u001B[0m\u001B[1;33m\u001B[0m\u001B[1;33m\u001B[0m\u001B[0m\n\u001B[0;32m      4\u001B[0m \u001B[1;33m\u001B[0m\u001B[0m\n\u001B[1;32m----> 5\u001B[1;33m \u001B[0mans\u001B[0m \u001B[1;33m=\u001B[0m \u001B[0mkSmallestPairs\u001B[0m\u001B[1;33m(\u001B[0m\u001B[0mnums1\u001B[0m\u001B[1;33m,\u001B[0m \u001B[0mnums2\u001B[0m\u001B[1;33m,\u001B[0m \u001B[0mk\u001B[0m\u001B[1;33m)\u001B[0m\u001B[1;33m\u001B[0m\u001B[1;33m\u001B[0m\u001B[0m\n\u001B[0m\u001B[0;32m      6\u001B[0m \u001B[0mans\u001B[0m\u001B[1;33m\u001B[0m\u001B[1;33m\u001B[0m\u001B[0m\n",
      "\u001B[1;32m<ipython-input-7-a60572287230>\u001B[0m in \u001B[0;36mkSmallestPairs\u001B[1;34m(nums1, nums2, k)\u001B[0m\n\u001B[0;32m      5\u001B[0m \u001B[1;33m\u001B[0m\u001B[0m\n\u001B[0;32m      6\u001B[0m     \u001B[1;32melif\u001B[0m \u001B[0mlen\u001B[0m\u001B[1;33m(\u001B[0m\u001B[0mnums1\u001B[0m\u001B[1;33m)\u001B[0m \u001B[1;33m!=\u001B[0m \u001B[1;36m1\u001B[0m \u001B[1;32mand\u001B[0m \u001B[1;32mnot\u001B[0m \u001B[0mlen\u001B[0m\u001B[1;33m(\u001B[0m\u001B[0mnums2\u001B[0m\u001B[1;33m)\u001B[0m \u001B[1;33m==\u001B[0m \u001B[1;36m1\u001B[0m\u001B[1;33m:\u001B[0m\u001B[1;33m\u001B[0m\u001B[1;33m\u001B[0m\u001B[0m\n\u001B[1;32m----> 7\u001B[1;33m         \u001B[1;32mfor\u001B[0m \u001B[0mi\u001B[0m \u001B[1;32min\u001B[0m \u001B[0mrange\u001B[0m\u001B[1;33m(\u001B[0m\u001B[1;36m1\u001B[0m\u001B[1;33m,\u001B[0m \u001B[0mnums1\u001B[0m\u001B[1;33m)\u001B[0m\u001B[1;33m:\u001B[0m\u001B[1;33m\u001B[0m\u001B[1;33m\u001B[0m\u001B[0m\n\u001B[0m\u001B[0;32m      8\u001B[0m             \u001B[1;32mif\u001B[0m \u001B[0mlen\u001B[0m\u001B[1;33m(\u001B[0m\u001B[0mres\u001B[0m\u001B[1;33m)\u001B[0m \u001B[1;33m<\u001B[0m \u001B[0mk\u001B[0m\u001B[1;33m:\u001B[0m\u001B[1;33m\u001B[0m\u001B[1;33m\u001B[0m\u001B[0m\n\u001B[0;32m      9\u001B[0m                 \u001B[0mres\u001B[0m\u001B[1;33m.\u001B[0m\u001B[0mappend\u001B[0m\u001B[1;33m(\u001B[0m\u001B[1;33m[\u001B[0m\u001B[0mnums1\u001B[0m\u001B[1;33m[\u001B[0m\u001B[0mi\u001B[0m\u001B[1;33m]\u001B[0m\u001B[1;33m,\u001B[0m \u001B[0mnums2\u001B[0m\u001B[1;33m[\u001B[0m\u001B[1;36m0\u001B[0m\u001B[1;33m]\u001B[0m\u001B[1;33m]\u001B[0m\u001B[1;33m)\u001B[0m\u001B[1;33m\u001B[0m\u001B[1;33m\u001B[0m\u001B[0m\n",
      "\u001B[1;31mTypeError\u001B[0m: 'list' object cannot be interpreted as an integer"
     ]
    }
   ],
   "source": [
    "nums1 = [1, 1, 2]\n",
    "nums2 = [1, 2, 3]\n",
    "k = 2\n",
    "\n",
    "ans = kSmallestPairs(nums1, nums2, k)\n",
    "ans"
   ],
   "metadata": {
    "collapsed": false,
    "pycharm": {
     "name": "#%%\n"
    }
   }
  }
 ],
 "metadata": {
  "kernelspec": {
   "display_name": "Python 3",
   "language": "python",
   "name": "python3"
  },
  "language_info": {
   "codemirror_mode": {
    "name": "ipython",
    "version": 2
   },
   "file_extension": ".py",
   "mimetype": "text/x-python",
   "name": "python",
   "nbconvert_exporter": "python",
   "pygments_lexer": "ipython2",
   "version": "2.7.6"
  }
 },
 "nbformat": 4,
 "nbformat_minor": 0
}