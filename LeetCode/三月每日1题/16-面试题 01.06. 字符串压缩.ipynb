{
 "cells": [
  {
   "cell_type": "markdown",
   "metadata": {
    "collapsed": true,
    "pycharm": {
     "name": "#%% md\n"
    }
   },
   "source": [
    "字符串压缩。利用字符重复出现的次数，编写一种方法，实现基本的字符串压缩功能。\n",
    "比如，字符串aabcccccaaa会变为a2b1c5a3。\n",
    "若“压缩”后的字符串没有变短，则返回原先的字符串。\n",
    "你可以假设字符串中只包含大小写英文字母（a至z）。\n",
    "\n",
    "示例1:\n",
    "\n",
    " 输入：\"aabcccccaaa\"\n",
    " 输出：\"a2b1c5a3\""
   ]
  },
  {
   "cell_type": "code",
   "execution_count": 249,
   "outputs": [
    {
     "name": "stdout",
     "text": [
      "a3b2\n"
     ],
     "output_type": "stream"
    }
   ],
   "source": [
    "def compressString(S: str):\n",
    "    lens = len(S)\n",
    "    if lens == 0 or lens == 1:\n",
    "        return S\n",
    "    ans = S[0]\n",
    "    n=1 \n",
    "    for i in range(1,lens):\n",
    "    \n",
    "        if ans[-1] == S[i]:\n",
    "            n+=1\n",
    "            if i == lens-1:\n",
    "                ans+=str(n)\n",
    "        else:\n",
    "            ans+=str(n)\n",
    "            ans+=S[i]\n",
    "            n=1\n",
    "        if len(ans) >= lens:\n",
    "            return S\n",
    "    return ans\n",
    "\n",
    "S = \"aaabb\"\n",
    "t = compressString(S)\n",
    "print(t)"
   ],
   "metadata": {
    "collapsed": false,
    "pycharm": {
     "name": "#%%\n",
     "is_executing": false
    }
   }
  },
  {
   "cell_type": "code",
   "execution_count": 204,
   "outputs": [
    {
     "name": "stdout",
     "text": [
      "abcdef\na1b1c1d\n"
     ],
     "output_type": "stream"
    }
   ],
   "source": [
    "S = \"abcdef\"\n",
    "lens = len(S)\n",
    "if lens == 0 or lens == 1:\n",
    "    return S\n",
    "ans = S[0]\n",
    "n=1 \n",
    "for i in range(1,lens):\n",
    "\n",
    "    if ans[-1] == S[i]:\n",
    "        n+=1\n",
    "        if i == lens-1:\n",
    "            ans+=str(n)\n",
    "    else:\n",
    "        ans+=str(n)\n",
    "        ans+=S[i]\n",
    "        n=1\n",
    "    if len(ans) >= lens:\n",
    "        print(S)\n",
    "        break\n",
    "print(ans)"
   ],
   "metadata": {
    "collapsed": false,
    "pycharm": {
     "name": "#%%\n",
     "is_executing": false
    }
   }
  },
  {
   "cell_type": "code",
   "execution_count": 197,
   "outputs": [
    {
     "name": "stdout",
     "text": [
      "\n"
     ],
     "output_type": "stream"
    }
   ],
   "source": [
    "s = ''\n",
    "print(s)"
   ],
   "metadata": {
    "collapsed": false,
    "pycharm": {
     "name": "#%%\n",
     "is_executing": false
    }
   }
  }
 ],
 "metadata": {
  "kernelspec": {
   "display_name": "Python 3",
   "language": "python",
   "name": "python3"
  },
  "language_info": {
   "codemirror_mode": {
    "name": "ipython",
    "version": 2
   },
   "file_extension": ".py",
   "mimetype": "text/x-python",
   "name": "python",
   "nbconvert_exporter": "python",
   "pygments_lexer": "ipython2",
   "version": "2.7.6"
  },
  "pycharm": {
   "stem_cell": {
    "cell_type": "raw",
    "source": [],
    "metadata": {
     "collapsed": false
    }
   }
  }
 },
 "nbformat": 4,
 "nbformat_minor": 0
}