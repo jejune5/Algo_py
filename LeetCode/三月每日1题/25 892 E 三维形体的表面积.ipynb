{
 "cells": [
  {
   "cell_type": "markdown",
   "metadata": {
    "collapsed": true,
    "pycharm": {
     "name": "#%% md\n"
    }
   },
   "source": [
    "在 N * N 的网格上，我们放置一些 1 * 1 * 1  的立方体。\n",
    "\n",
    "每个值 v = grid[i][j] 表示 v 个正方体叠放在对应单元格 (i, j) 上。\n",
    "\n",
    "请你返回最终形体的表面积。\n",
    "\n",
    "示例 1：\n",
    "\n",
    "输入：[[2]]\n",
    "输出：10"
   ]
  },
  {
   "cell_type": "code",
   "execution_count": 45,
   "outputs": [
    {
     "name": "stdout",
     "text": [
      "34\n"
     ],
     "output_type": "stream"
    }
   ],
   "source": [
    "def surfaceArea(grid):\n",
    "    \n",
    "    ans = 0\n",
    "    for r in range(N):\n",
    "        for c in range(N): \n",
    "            if grid[r][c]:\n",
    "                ans+=2\n",
    "                for nr, nc in ((r-1, c),(r+1, c),(r,c-1),(r,c+1)):\n",
    "                    if 0 <= nr < N and 0 <= nc < N: \n",
    "                        navl = grid[nr][nc]\n",
    "                    else:\n",
    "                        navl = 0\n",
    "                    ans+= max(grid[r][c] - navl, 0)\n",
    "    \n",
    "    return ans\n",
    "    \n",
    "grid = [[1,2],[3,4]]\n",
    "t = surfaceArea(grid)\n",
    "print(t)"
   ],
   "metadata": {
    "collapsed": false,
    "pycharm": {
     "name": "#%%\n",
     "is_executing": false
    }
   }
  },
  {
   "cell_type": "code",
   "execution_count": 41,
   "outputs": [
    {
     "name": "stdout",
     "text": [
      "34",
      "\n"
     ],
     "output_type": "stream"
    }
   ],
   "source": [
    "grid = [[1,2],[3,4]]\n",
    "\n",
    "N = len(grid)\n",
    "# print(N)\n",
    "ans = 0\n",
    "for r in range(N):\n",
    "    for c in range(N): \n",
    "        if grid[r][c]:\n",
    "            ans+=2\n",
    "            for nr, nc in ((r-1, c),(r+1, c),(r,c-1),(r,c+1)):\n",
    "                if 0 <= nr < N and 0 <= nc < N: \n",
    "                    navl = grid[nr][nc]\n",
    "                else:\n",
    "                    navl = 0\n",
    "                \n",
    "                ans+= max(grid[r][c] - navl, 0)\n",
    "                    \n",
    "print(ans)"
   ],
   "metadata": {
    "collapsed": false,
    "pycharm": {
     "name": "#%%\n",
     "is_executing": false
    }
   }
  }
 ],
 "metadata": {
  "kernelspec": {
   "display_name": "Python 3",
   "language": "python",
   "name": "python3"
  },
  "language_info": {
   "codemirror_mode": {
    "name": "ipython",
    "version": 2
   },
   "file_extension": ".py",
   "mimetype": "text/x-python",
   "name": "python",
   "nbconvert_exporter": "python",
   "pygments_lexer": "ipython2",
   "version": "2.7.6"
  },
  "pycharm": {
   "stem_cell": {
    "cell_type": "raw",
    "source": [],
    "metadata": {
     "collapsed": false
    }
   }
  }
 },
 "nbformat": 4,
 "nbformat_minor": 0
}