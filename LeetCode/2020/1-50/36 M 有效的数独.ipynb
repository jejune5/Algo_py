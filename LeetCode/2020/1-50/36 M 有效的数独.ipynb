{
 "cells": [
  {
   "cell_type": "markdown",
   "metadata": {
    "collapsed": true,
    "pycharm": {
     "name": "#%% md\n"
    }
   },
   "source": [
    "判断一个 9x9 的数独是否有效。只需要根据以下规则，验证已经填入的数字是否有效即可。\n",
    "\n",
    "数字 1-9 在每一行只能出现一次。\n",
    "数字 1-9 在每一列只能出现一次。\n",
    "数字 1-9 在每一个以粗实线分隔的 3x3 宫内只能出现一次。"
   ]
  },
  {
   "cell_type": "code",
   "execution_count": 139,
   "outputs": [
    {
     "name": "stdout",
     "text": [
      "False\n"
     ],
     "output_type": "stream"
    }
   ],
   "source": [
    "def isValidSudoku(board) -> bool:\n",
    "    \n",
    "    import numpy as np\n",
    "    \n",
    "    def isValidList(l):\n",
    "        nDot =np.delete(l, np.argwhere(l == '.'))\n",
    "        if len(nDot) == len(set(nDot)):return True\n",
    "        else:return False\n",
    "        \n",
    "    b = np.array(board)\n",
    "    \n",
    "    for n in range(9):\n",
    "    \n",
    "        #row check  \n",
    "        rowflag = isValidList(b[n,:])\n",
    "        \n",
    "        colflag = isValidList(b[:,n])\n",
    "        \n",
    "        subflag = isValidList(b[n//3*3:n//3*3+3,n%3*3:n%3*3+3].reshape(-1))\n",
    "\n",
    "        if rowflag == False or colflag == False or subflag == False:\n",
    "            return False\n",
    "    return True\n",
    "\n",
    "\n",
    "board =[\n",
    "  [\"1\",\"3\",\".\",\".\",\"7\",\".\",\".\",\".\",\".\"],\n",
    "  [\"6\",\".\",\".\",\"1\",\"9\",\"5\",\".\",\".\",\".\"],\n",
    "  [\".\",\"9\",\"8\",\".\",\".\",\".\",\".\",\"6\",\".\"],\n",
    "  [\"8\",\".\",\".\",\".\",\"6\",\".\",\".\",\".\",\"3\"],\n",
    "  [\"4\",\".\",\".\",\"8\",\".\",\"3\",\".\",\".\",\"1\"],\n",
    "  [\"7\",\".\",\".\",\".\",\"2\",\".\",\".\",\".\",\"6\"],\n",
    "  [\".\",\"6\",\".\",\".\",\".\",\".\",\"2\",\"8\",\".\"],\n",
    "  [\".\",\".\",\".\",\"4\",\"1\",\"9\",\".\",\".\",\"5\"],\n",
    "  [\".\",\".\",\".\",\".\",\"8\",\".\",\".\",\"7\",\"9\"]\n",
    "]\n",
    "b = [[\"8\",\"3\",\".\",\".\",\"7\",\".\",\".\",\".\",\".\"],[\"6\",\".\",\".\",\"1\",\"9\",\"5\",\".\",\".\",\".\"],[\".\",\"9\",\"8\",\".\",\".\",\".\",\".\",\"6\",\".\"],[\"8\",\".\",\".\",\".\",\"6\",\".\",\".\",\".\",\"3\"],[\"4\",\".\",\".\",\"8\",\".\",\"3\",\".\",\".\",\"1\"],[\"7\",\".\",\".\",\".\",\"2\",\".\",\".\",\".\",\"6\"],[\".\",\"6\",\".\",\".\",\".\",\".\",\"2\",\"8\",\".\"],[\".\",\".\",\".\",\"4\",\"1\",\"9\",\".\",\".\",\"5\"],[\".\",\".\",\".\",\".\",\"8\",\".\",\".\",\"7\",\"9\"]]\n",
    "\n",
    "t = isValidSudoku(b)\n",
    "print(t)\n"
   ],
   "metadata": {
    "collapsed": false,
    "pycharm": {
     "name": "#%%\n",
     "is_executing": false
    }
   }
  },
  {
   "cell_type": "code",
   "execution_count": 74,
   "outputs": [
    {
     "name": "stdout",
     "text": [
      "['5' '3' '7']\n['3' '1' '6' '5' '9']\n['2' '8' '.' '.' '.' '5' '.' '7' '9']\n0\n1\n2\n3\n4\n5\n6\n7\n8\n"
     ],
     "output_type": "stream"
    }
   ],
   "source": [
    "import numpy as np\n",
    "board = np.array(board)\n",
    "n = 8\n",
    "\n",
    "# row\n",
    "r = board[0,:]\n",
    "t = np.argwhere(r =='.')\n",
    "r = np.delete(r,t)\n",
    "print(r)\n",
    " \n",
    "# col\n",
    "c = board[:,n]\n",
    "t = np.argwhere(c =='.')\n",
    "c = np.delete(c,t)\n",
    "print(c)\n",
    "\n",
    "# 3×3\n",
    "sub = board[n//3*3:n//3*3+3,n%3*3:n%3*3+3].reshape(-1)\n",
    "print(sub)\n",
    "# a = sub.reshape(-1)\n",
    "# print(a)\n",
    "\n",
    "# b = board[0]\n",
    "# b = b.remove('5')\n",
    "# while '.' in b: b.remove('.')\n",
    "\n",
    "for i in range(9):\n",
    "    print(i)"
   ],
   "metadata": {
    "collapsed": false,
    "pycharm": {
     "name": "#%%\n",
     "is_executing": false
    }
   }
  }
 ],
 "metadata": {
  "kernelspec": {
   "display_name": "Python 3",
   "language": "python",
   "name": "python3"
  },
  "language_info": {
   "codemirror_mode": {
    "name": "ipython",
    "version": 2
   },
   "file_extension": ".py",
   "mimetype": "text/x-python",
   "name": "python",
   "nbconvert_exporter": "python",
   "pygments_lexer": "ipython2",
   "version": "2.7.6"
  },
  "pycharm": {
   "stem_cell": {
    "cell_type": "raw",
    "source": [],
    "metadata": {
     "collapsed": false
    }
   }
  }
 },
 "nbformat": 4,
 "nbformat_minor": 0
}