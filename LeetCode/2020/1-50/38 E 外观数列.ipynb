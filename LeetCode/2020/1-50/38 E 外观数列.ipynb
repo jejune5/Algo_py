{
 "cells": [
  {
   "cell_type": "markdown",
   "metadata": {
    "pycharm": {
     "name": "#%% md\n"
    }
   },
   "source": [
    "「外观数列」是一个整数序列，从数字 1 开始，序列中的每一项都是对前一项的描述。前五项如下：\n",
    "\n",
    "1.     1\n",
    "2.     11\n",
    "3.     21\n",
    "4.     1211\n",
    "5.     111221\n",
    "\n",
    "1 被读作  \"one 1\"  (\"一个一\") , 即 11。\n",
    "11 被读作 \"two 1s\" (\"两个一\"）, 即 21。\n",
    "21 被读作 \"one 2\",  \"one 1\" （\"一个二\" ,  \"一个一\") , 即 1211。\n",
    "\n",
    "给定一个正整数 n（1 ≤ n ≤ 30），输出外观数列的第 n 项。\n",
    "\n",
    "注意：整数序列中的每一项将表示为一个字符串。\n",
    "\n",
    "示例 1:\n",
    "\n",
    "输入: 1\n",
    "输出: \"1\"\n",
    "解释：这是一个基本样例。"
   ]
  },
  {
   "cell_type": "code",
   "execution_count": 10,
   "outputs": [
    {
     "name": "stdout",
     "text": [
      "11\n"
     ],
     "output_type": "stream"
    }
   ],
   "source": [
    "def countAndSay(n: int) -> str:\n",
    "    def say(s):\n",
    "        temp = 0 \n",
    "        res =''\n",
    "        for i in range(len(s)-1):\n",
    "            if s[temp] != s[i+1]:\n",
    "                res = res+str(len(s[temp:i+1]))+s[temp]\n",
    "                temp = i+1        \n",
    "        res = res+str(len(s[temp:len(s)]))+s[temp]\n",
    "        return res\n",
    "\n",
    "    num = 1\n",
    "    res = '1'\n",
    "    while(num<n):\n",
    "        res = say(res)\n",
    "        num +=1\n",
    "    return res \n",
    "\n",
    "\n",
    "t = countAndSay(2)\n",
    "print(t)\n",
    "        \n"
   ],
   "metadata": {
    "collapsed": false,
    "pycharm": {
     "name": "#%%\n",
     "is_executing": false
    }
   }
  }
 ],
 "metadata": {
  "kernelspec": {
   "display_name": "Python 3",
   "language": "python",
   "name": "python3"
  },
  "language_info": {
   "codemirror_mode": {
    "name": "ipython",
    "version": 3
   },
   "file_extension": ".py",
   "mimetype": "text/x-python",
   "name": "python",
   "nbconvert_exporter": "python",
   "pygments_lexer": "ipython3",
   "version": "3.7.3"
  },
  "pycharm": {
   "stem_cell": {
    "cell_type": "raw",
    "source": [],
    "metadata": {
     "collapsed": false
    }
   }
  }
 },
 "nbformat": 4,
 "nbformat_minor": 2
}