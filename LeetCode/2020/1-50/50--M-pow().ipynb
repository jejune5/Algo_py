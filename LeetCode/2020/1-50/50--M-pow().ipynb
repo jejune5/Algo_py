{
 "cells": [
  {
   "cell_type": "markdown",
   "metadata": {
    "pycharm": {
     "name": "#%% md\n"
    }
   },
   "source": [
    "50. Pow(x, n)\n",
    "实现 pow(x, n) ，即计算 x 的 n 次幂函数。\n",
    "\n",
    "示例 1:\n",
    "输入: 2.00000, 10\n",
    "输出: 1024.00000\n",
    "\n",
    "示例 2:\n",
    "输入: 2.10000, 3\n",
    "输出: 9.26100"
   ]
  },
  {
   "cell_type": "code",
   "execution_count": 14,
   "outputs": [
    {
     "name": "stdout",
     "text": [
      "1024.0\n"
     ],
     "output_type": "stream"
    }
   ],
   "source": [
    "def mypow(x,n):\n",
    "\n",
    "    ans = x**n        \n",
    "    return ans\n",
    "\n",
    "\n",
    "x = 2.00000\n",
    "n = 10\n",
    "res = mypow(x,n)\n",
    "print(res)"
   ],
   "metadata": {
    "collapsed": false,
    "pycharm": {
     "name": "#%%\n",
     "is_executing": false
    }
   }
  }
 ],
 "metadata": {
  "kernelspec": {
   "display_name": "Python 3",
   "language": "python",
   "name": "python3"
  },
  "language_info": {
   "codemirror_mode": {
    "name": "ipython",
    "version": 3
   },
   "file_extension": ".py",
   "mimetype": "text/x-python",
   "name": "python",
   "nbconvert_exporter": "python",
   "pygments_lexer": "ipython3",
   "version": "3.7.3"
  },
  "pycharm": {
   "stem_cell": {
    "cell_type": "raw",
    "source": [],
    "metadata": {
     "collapsed": false
    }
   }
  }
 },
 "nbformat": 4,
 "nbformat_minor": 2
}