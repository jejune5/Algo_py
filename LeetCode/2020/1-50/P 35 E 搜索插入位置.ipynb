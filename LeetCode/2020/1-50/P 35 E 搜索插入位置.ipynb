{
 "cells": [
  {
   "cell_type": "code",
   "execution_count": null,
   "metadata": {
    "collapsed": true
   },
   "outputs": [],
   "source": [
    "'''\n",
    "给定一个排序数组和一个目标值，在数组中找到目标值，并返回其索引。\n",
    "如果目标值不存在于数组中，返回它将会被按顺序插入的位置。\n",
    "\n",
    "nums: List[int], target: int -> int:\n",
    "'''"
   ]
  },
  {
   "cell_type": "code",
   "execution_count": 28,
   "outputs": [],
   "source": [
    "def searchInsert(nums, target) -> int:\n",
    "    res = 0\n",
    "    if nums[-1] < target:\n",
    "        res = len(nums) + 1\n",
    "    elif nums[0] > target:\n",
    "        pass\n",
    "    else:\n",
    "        for i in range(len(nums)-1):\n",
    "            if nums[i] <= target and nums[i+1] >= target:\n",
    "                if nums[i] == target:\n",
    "                    res = i\n",
    "                elif nums[i+1] == target:\n",
    "                    res = i+1\n",
    "                else:\n",
    "                    res = i+1\n",
    "\n",
    "    return res\n",
    "\n",
    "\n"
   ],
   "metadata": {
    "collapsed": false,
    "pycharm": {
     "name": "#%%\n",
     "is_executing": false
    }
   }
  },
  {
   "cell_type": "code",
   "execution_count": 34,
   "outputs": [
    {
     "name": "stdout",
     "text": [
      "3\n"
     ],
     "output_type": "stream"
    }
   ],
   "source": [
    "nums = [1, 3, 5, 6]\n",
    "target = 6\n",
    "\n",
    "\n",
    "if nums[0] > target:\n",
    "    print(0)\n",
    "elif nums[-1] < target:\n",
    "    print(len(nums))\n",
    "else:\n",
    "    for i in range(len(nums)-1):\n",
    "        if nums[i] <= target and nums[i+1] >= target:\n",
    "            if nums[i] == target:\n",
    "                print(i)\n",
    "            elif nums[i+1] == target:\n",
    "                print(i+1)\n",
    "            else:\n",
    "                print(i+1)\n",
    "            \n",
    "\n",
    "        "
   ],
   "metadata": {
    "collapsed": false,
    "pycharm": {
     "name": "#%%\n",
     "is_executing": false
    }
   }
  },
  {
   "cell_type": "code",
   "execution_count": null,
   "outputs": [],
   "source": [
    "\n"
   ],
   "metadata": {
    "collapsed": false,
    "pycharm": {
     "name": "#%%\n"
    }
   }
  }
 ],
 "metadata": {
  "language_info": {
   "codemirror_mode": {
    "name": "ipython",
    "version": 2
   },
   "file_extension": ".py",
   "mimetype": "text/x-python",
   "name": "python",
   "nbconvert_exporter": "python",
   "pygments_lexer": "ipython2",
   "version": "2.7.6"
  },
  "kernelspec": {
   "name": "python3",
   "language": "python",
   "display_name": "Python 3"
  },
  "pycharm": {
   "stem_cell": {
    "cell_type": "raw",
    "source": [],
    "metadata": {
     "collapsed": false
    }
   }
  }
 },
 "nbformat": 4,
 "nbformat_minor": 0
}