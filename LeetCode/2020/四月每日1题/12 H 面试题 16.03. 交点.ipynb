{
 "cells": [
  {
   "cell_type": "markdown",
   "metadata": {
    "collapsed": true,
    "pycharm": {
     "name": "#%% md\n"
    }
   },
   "source": [
    "给定两条线段（表示为起点start = {X1, Y1}和终点end = {X2, Y2}），如果它们有交点，请计算其交点，没有交点则返回空值。\n",
    "要求浮点型误差不超过10^-6。若有多个交点（线段重叠）则返回 X 值最小的点，X 坐标相同则返回 Y 值最小的点。\n",
    "\n",
    "示例 1：\n",
    "输入：\n",
    "line1 = {0, 0}, {1, 0}\n",
    "line2 = {1, 1}, {0, -1}\n",
    "输出： {0.5, 0}"
   ]
  },
  {
   "cell_type": "code",
   "execution_count": 632,
   "outputs": [
    {
     "name": "stdout",
     "text": [
      "-1.0 1.0\n[-1.0, 1.0]\n"
     ],
     "output_type": "stream"
    }
   ],
   "source": [
    "def intersection(start1, end1, start2, end2):\n",
    "    \n",
    "    def calc_kb(start,end):\n",
    "        if start[0] - end[0] != 0:\n",
    "            k = (start[1] - end[1]) / (start[0] - end[0])\n",
    "            b = start[1] - start[0] * k\n",
    "        else:\n",
    "            k = None\n",
    "            b = start[0]\n",
    "        return k,b\n",
    "    \n",
    "    def isInDomain(X,Y,x,y):\n",
    "        if X[1] <= x <= X[2] and  Y[1] <= y <= Y[2]: \n",
    "            return [x,y]\n",
    "        else:\n",
    "            return []\n",
    "        \n",
    "    k1,b1 = calc_kb(start1, end1) \n",
    "    k2,b2 = calc_kb(start2, end2) \n",
    "\n",
    "    line1 = sorted([start1, end1])\n",
    "    line2 = sorted([start2, end2])\n",
    "    X = sorted([start1[0], end1[0], start2[0], end2[0]])\n",
    "    Y = sorted([start1[1], end1[1], start2[1], end2[1]])\n",
    "    if  k1 != None and k2 !=None and k1 != k2:\n",
    "        x = (b2-b1)/(k1-k2)\n",
    "        y = (k1*b2-k2*b1)/(k1-k2)\n",
    "        print(x,y)\n",
    "        return isInDomain(X, Y, x, y)\n",
    "    \n",
    "    if k1 == None and k2 != None:\n",
    "        x = b1\n",
    "        y = k2*b1+b2\n",
    "        return isInDomain(X, Y, x, y)\n",
    "    \n",
    "    if k1 != None and k2 == None:\n",
    "        x = b2\n",
    "        y = k1*b2+b1\n",
    "        return isInDomain(X, Y, x, y)\n",
    "    \n",
    "    if k1 == k2 and b1 == b2:\n",
    "        if k1 != None:\n",
    "            i = 0 \n",
    "        else:\n",
    "            i = 1\n",
    "        if line1[0][i] <= line2[0][i] <= line2[1][i] <= line1[1][i]:\n",
    "            return line2[0]\n",
    "    \n",
    "        elif line2[0][i] <= line1[0][i] <= line1[1][i] <= line2[1][i]:\n",
    "            return line1[0]\n",
    "    \n",
    "        elif line2[0][i] <= line1[1][i] <= line2[1][i] :\n",
    "            return line2[0]\n",
    "            \n",
    "        elif line1[0][i] <= line2[1][i] <= line1[1][i] :\n",
    "            return line1[0]\n",
    "        else:\n",
    "            return []\n",
    "            \n",
    "    else:\n",
    "        return []\n",
    "\n",
    "\n",
    "start1 = [1,1]; end1 = [-1,1]\n",
    "start2 = [1,0]; end2 = [-3,2]\n",
    "\n",
    "t = intersection(start1, end1, start2, end2)\n",
    "print(t)"
   ],
   "metadata": {
    "collapsed": false,
    "pycharm": {
     "name": "#%%\n",
     "is_executing": false
    }
   }
  },
  {
   "cell_type": "code",
   "execution_count": 517,
   "outputs": [
    {
     "name": "stdout",
     "text": [
      "[1, 1]\n"
     ],
     "output_type": "stream"
    }
   ],
   "source": [
    "start1 = [0,0]; end1 = [3,3]\n",
    "start2 = [1,1]; end2 = [2,2]\n",
    "\n",
    "# 计算 Line1 的 k1 b1\n",
    "def calc_kb(start,end):\n",
    "    if start[0] - end[0] != 0:\n",
    "        k = (start[1] - end[1]) / (start[0] - end[0])\n",
    "        b = start[1] - start[0] * k\n",
    "    else:\n",
    "        k = None\n",
    "        b = start[0]\n",
    "    return k,b\n",
    "\n",
    "k1,b1 = calc_kb(start1, end1) \n",
    "k2,b2 = calc_kb(start2, end2) \n",
    "\n",
    "line1 = sorted([start1, end1])\n",
    "line2 = sorted([start2, end2])\n",
    "\n",
    "# X = sorted([start1[0], end1[0], start2[0], end2[0]])\n",
    "# Y = sorted([start1[1], end1[1], start2[1], end2[1]])\n",
    "# print(Y)\n",
    "def isInDomain(line1,line2,x,y):\n",
    "    if line1[0][0] <= x <= line1[1][0] and  line2[0][0] <= x <= line2[1][0]:  \n",
    "        return [x,y]\n",
    "    else:\n",
    "        return []\n",
    "\n",
    "if  k1 != None and k2 !=None and k1 != k2:\n",
    "    x = (b2-b1)/(k1-k2)\n",
    "    y = (k1*b2-k2*b1)/(k1-k2)\n",
    "    \n",
    "    '''\n",
    "    if X[1] <= x <= X[2] and Y[1] <= y <= Y[2]: \n",
    "        print(x,y)\n",
    "    else:\n",
    "        print({})\n",
    "    '''\n",
    "if k1 == None and k2 != None:\n",
    "    x = b1\n",
    "    y = k2*b1+b2\n",
    "    '''\n",
    "    if X[1] <= x <= X[2] and Y[1] <= y <= Y[2]: \n",
    "        print(x,y)\n",
    "    else:\n",
    "        print({})\n",
    "    '''    \n",
    "if k1 != None and k2 == None:\n",
    "    x = b2\n",
    "    y = k1*b2+b1\n",
    "\n",
    "\n",
    "if k1 == k2 and b1 == b2:\n",
    "    if k1 != None:\n",
    "        i = 0 \n",
    "    else:\n",
    "        i = 1\n",
    "    \n",
    "    if line1[0][i] <= line2[0][i] <= line2[1][i] <= line1[1][i]:\n",
    "        print(line2[0])\n",
    "\n",
    "    elif line2[0][i] <= line1[0][i] <= line1[1][i] <= line2[1][i]:\n",
    "        print(line1[0])\n",
    "\n",
    "    elif line2[0][i] <= line1[1][i] <= line2[1][i] :\n",
    "        print(line2[0])\n",
    "        \n",
    "    elif line1[0][i] <= line2[1][i] <= line1[1][i] :\n",
    "        print(line1[0])\n",
    "    else:\n",
    "        print({})\n",
    "        \n",
    "else:print({})\n",
    "\n",
    "\n",
    "# print(k2,b2)"
   ],
   "metadata": {
    "collapsed": false,
    "pycharm": {
     "name": "#%%\n",
     "is_executing": false
    }
   }
  },
  {
   "cell_type": "code",
   "execution_count": 365,
   "outputs": [
    {
     "name": "stdout",
     "text": [
      "[[0, 1], [0, 4]] [[0, 1], [0, 5]]\n"
     ],
     "output_type": "stream"
    }
   ],
   "source": [
    "line1 = sorted([[0,4], [0,1]])\n",
    "line2 = sorted([[0,1], [0,5]])\n",
    "print(line1,line2)\n",
    "# sorted([[1,1],[0,0]])"
   ],
   "metadata": {
    "collapsed": false,
    "pycharm": {
     "name": "#%%\n",
     "is_executing": false
    }
   }
  }
 ],
 "metadata": {
  "kernelspec": {
   "display_name": "Python 3",
   "language": "python",
   "name": "python3"
  },
  "language_info": {
   "codemirror_mode": {
    "name": "ipython",
    "version": 2
   },
   "file_extension": ".py",
   "mimetype": "text/x-python",
   "name": "python",
   "nbconvert_exporter": "python",
   "pygments_lexer": "ipython2",
   "version": "2.7.6"
  },
  "pycharm": {
   "stem_cell": {
    "cell_type": "raw",
    "source": [],
    "metadata": {
     "collapsed": false
    }
   }
  }
 },
 "nbformat": 4,
 "nbformat_minor": 0
}