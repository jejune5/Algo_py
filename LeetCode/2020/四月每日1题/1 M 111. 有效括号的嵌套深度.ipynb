{
 "cells": [
  {
   "cell_type": "markdown",
   "metadata": {
    "collapsed": true,
    "pycharm": {
     "name": "#%% md\n"
    }
   },
   "source": [
    "示例 1：\n",
    "输入：seq = \"(()())\"\n",
    "输出：[0,1,1,1,1,0]\n",
    "\n",
    "示例 2：\n",
    "输入：seq = \"()(())()\"\n",
    "输出：[0,0,0,1,1,0,1,1]"
   ]
  },
  {
   "cell_type": "code",
   "execution_count": null,
   "outputs": [],
   "source": [
    "def maxDepthAfterSplit(seq):\n",
    "    pass"
   ],
   "metadata": {
    "collapsed": false,
    "pycharm": {
     "name": "#%%\n"
    }
   }
  },
  {
   "cell_type": "code",
   "execution_count": 62,
   "outputs": [
    {
     "name": "stdout",
     "text": [
      "[1, 1, 1, 0, 0, 1, 1, 1]\n"
     ],
     "output_type": "stream"
    }
   ],
   "source": [
    "seq = \"()(())()\"\n",
    "ans = []\n",
    "d = 0\n",
    "for c in seq:\n",
    "    if c == '(':\n",
    "        d+=1\n",
    "        ans.append(d % 2)\n",
    "    if c == ')':\n",
    "        ans.append(d % 2)\n",
    "        d-=1\n",
    "        \n",
    "print(ans)"
   ],
   "metadata": {
    "collapsed": false,
    "pycharm": {
     "name": "#%%+\n",
     "is_executing": false
    }
   }
  }
 ],
 "metadata": {
  "kernelspec": {
   "display_name": "Python 3",
   "language": "python",
   "name": "python3"
  },
  "language_info": {
   "codemirror_mode": {
    "name": "ipython",
    "version": 2
   },
   "file_extension": ".py",
   "mimetype": "text/x-python",
   "name": "python",
   "nbconvert_exporter": "python",
   "pygments_lexer": "ipython2",
   "version": "2.7.6"
  },
  "pycharm": {
   "stem_cell": {
    "cell_type": "raw",
    "source": [],
    "metadata": {
     "collapsed": false
    }
   }
  }
 },
 "nbformat": 4,
 "nbformat_minor": 0
}