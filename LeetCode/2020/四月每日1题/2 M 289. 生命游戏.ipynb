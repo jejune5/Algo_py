{
 "cells": [
  {
   "cell_type": "markdown",
   "metadata": {
    "collapsed": true,
    "pycharm": {
     "name": "#%% md\n"
    }
   },
   "source": [
    "根据 百度百科 ，生命游戏，简称为生命，是英国数学家约翰·何顿·康威在 1970 年发明的细胞自动机。\n",
    "\n",
    "给定一个包含 m × n 个格子的面板，每一个格子都可以看成是一个细胞。每个细胞都具有一个初始状态：1 即为活细胞（live），或 0 即为死细胞（dead）。每个细胞与其八个相邻位置（水平，垂直，对角线）的细胞都遵循以下四条生存定律：\n",
    "\n",
    "如果活细胞周围八个位置的活细胞数少于两个，则该位置活细胞死亡；\n",
    "如果活细胞周围八个位置有两个或三个活细胞，则该位置活细胞仍然存活；\n",
    "如果活细胞周围八个位置有超过三个活细胞，则该位置活细胞死亡；\n",
    "如果死细胞周围正好有三个活细胞，则该位置死细胞复活；\n",
    "根据当前状态，写一个函数来计算面板上所有细胞的下一个（一次更新后的）状态。下一个状态是通过将上述规则同时应用于当前状态下的每个细胞所形成的，其中细胞的出生和死亡是同时发生的。"
   ]
  },
  {
   "cell_type": "code",
   "execution_count": 397,
   "outputs": [
    {
     "name": "stdout",
     "text": [
      "[[0, 0, 0], [1, 0, 1], [0, 1, 1], [0, 1, 0]]\n"
     ],
     "output_type": "stream"
    }
   ],
   "source": [
    "def gameOfLife(board):\n",
    "    xlens = len(board)\n",
    "    ylens = len(board[0])\n",
    "    dx, dy =[-1,-1,-1,0,0,1,1,1], [-1,0,1,-1,1,-1,0,1]\n",
    "    tmp = []\n",
    "    \n",
    "    for row in board:\n",
    "        tmp.append(row.copy())\n",
    "    \n",
    "    for x in range(xlens):\n",
    "        for y in range(ylens):\n",
    "            cout = 0\n",
    "            for r, c in zip(dx, dy):\n",
    "                if 0 <= x+r < xlens and  0 <= y+c < ylens and tmp[x+r][y+c]== 1:\n",
    "                    cout+=1\n",
    "            if (cout==2 and tmp[x][y] == 1) or cout == 3:\n",
    "                board[x][y] = 1\n",
    "            else:\n",
    "                board[x][y] = 0\n",
    "    return board\n",
    "\n",
    "\n",
    "board = [\n",
    "  [0,1,0],\n",
    "  [0,0,1],\n",
    "  [1,1,1],\n",
    "  [0,0,0]\n",
    "]\n",
    "t = gameOfLife(board)\n",
    "print(t)"
   ],
   "metadata": {
    "collapsed": false,
    "pycharm": {
     "name": "#%%\n",
     "is_executing": false
    }
   }
  },
  {
   "cell_type": "code",
   "execution_count": null,
   "outputs": [],
   "source": [
    "##########################\n",
    "\n",
    "xlens = len(board)\n",
    "ylens = len(board[0])\n",
    "\n",
    "dx, dy =[-1,-1,-1,0,0,1,1,1], [-1,0,1,-1,1,-1,0,1]\n",
    "for x in range(xlens):\n",
    "    for y in range(ylens):\n",
    "        \n",
    "        cout = 0\n",
    "        for r, c in zip(dx, dy):\n",
    "            if 0 <= x+r < xlens and  0 <= y+c < ylens and board[x+r][y+c]== 1:\n",
    "                cout+=1\n",
    "        print(cout)\n",
    "        if (cout==2 and ans[x][y] == 1) or cout == 3:\n",
    "            ans[x][y] = 1\n",
    "        else:\n",
    "            ans[x][y] = 0\n",
    "            \n",
    "print(ans)"
   ],
   "metadata": {
    "collapsed": false,
    "pycharm": {
     "name": "#%%\n"
    }
   }
  },
  {
   "cell_type": "code",
   "execution_count": 391,
   "outputs": [
    {
     "name": "stdout",
     "text": [
      "[[0, 1, -1], [-1, 0, 1]]\n"
     ],
     "output_type": "stream"
    }
   ],
   "source": [
    "a = [[0,1,-1],[-1,0,1]]\n",
    "\n",
    "print(a)"
   ],
   "metadata": {
    "collapsed": false,
    "pycharm": {
     "name": "#%%\n",
     "is_executing": false
    }
   }
  }
 ],
 "metadata": {
  "kernelspec": {
   "display_name": "Python 3",
   "language": "python",
   "name": "python3"
  },
  "language_info": {
   "codemirror_mode": {
    "name": "ipython",
    "version": 2
   },
   "file_extension": ".py",
   "mimetype": "text/x-python",
   "name": "python",
   "nbconvert_exporter": "python",
   "pygments_lexer": "ipython2",
   "version": "2.7.6"
  },
  "pycharm": {
   "stem_cell": {
    "cell_type": "raw",
    "source": [],
    "metadata": {
     "collapsed": false
    }
   }
  }
 },
 "nbformat": 4,
 "nbformat_minor": 0
}