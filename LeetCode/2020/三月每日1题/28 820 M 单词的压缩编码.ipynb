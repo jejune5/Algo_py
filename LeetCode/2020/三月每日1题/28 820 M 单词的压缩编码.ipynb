{
 "cells": [
  {
   "cell_type": "markdown",
   "metadata": {
    "collapsed": true,
    "pycharm": {
     "name": "#%% md\n"
    }
   },
   "source": [
    "给定一个单词列表，我们将这个列表编码成一个索引字符串 S 与一个索引列表 A。\n",
    "\n",
    "例如，如果这个列表是 [\"time\", \"me\", \"bell\"]，我们就可以将其表示为 S = \"time#bell#\" 和 indexes = [0, 2, 5]。\n",
    "\n",
    "对于每一个索引，我们可以通过从字符串 S 中索引的位置开始读取字符串，直到 \"#\" 结束，来恢复我们之前的单词列表。\n",
    "\n",
    "那么成功对给定单词列表进行编码的最小字符串长度是多少呢？\n",
    "\n",
    "示例：\n",
    "\n",
    "输入: words = [\"time\", \"me\", \"bell\"]\n",
    "输出: 10\n",
    "说明: S = \"time#bell#\" ， indexes = [0, 2, 5] "
   ]
  },
  {
   "cell_type": "code",
   "execution_count": 115,
   "outputs": [
    {
     "name": "stdout",
     "text": [
      "['time', 'me', 'bell']\n10\n"
     ],
     "output_type": "stream"
    }
   ],
   "source": [
    "def minimumLengthEncoding(words):\n",
    "    sorted(words, key=lambda i:len(i), reverse=True)\n",
    "    print(words)\n",
    "    S = ''\n",
    "    for word in words:\n",
    "        if word+'#' not in S:\n",
    "            S+= word+'#'\n",
    "    return len(S)\n",
    "    \n",
    "words = [\"time\", \"me\", \"bell\"]\n",
    "t = minimumLengthEncoding(words)\n",
    "print(t)"
   ],
   "metadata": {
    "collapsed": false,
    "pycharm": {
     "name": "#%%\n",
     "is_executing": false
    }
   }
  },
  {
   "cell_type": "code",
   "execution_count": 72,
   "outputs": [
    {
     "name": "stdout",
     "text": [
      "12\n"
     ],
     "output_type": "stream"
    }
   ],
   "source": [
    "words = [\"time\", \"me\", \"bell\",'a']\n",
    "sorted(words, key=lambda i:len(i), reverse=True)\n",
    "S = ''\n",
    "for word in words:\n",
    "    if word+'#' not in S:\n",
    "        S+= word+'#'\n",
    "    # print(i)\n",
    "print(len(S))"
   ],
   "metadata": {
    "collapsed": false,
    "pycharm": {
     "name": "#%%\n",
     "is_executing": false
    }
   }
  },
  {
   "cell_type": "code",
   "execution_count": 59,
   "outputs": [],
   "source": [
    "s = 'asdasd'\n",
    "if '' in s:\n",
    "    print(1111)"
   ],
   "metadata": {
    "collapsed": false,
    "pycharm": {
     "name": "#%%\n",
     "is_executing": false
    }
   }
  }
 ],
 "metadata": {
  "kernelspec": {
   "display_name": "Python 3",
   "language": "python",
   "name": "python3"
  },
  "language_info": {
   "codemirror_mode": {
    "name": "ipython",
    "version": 2
   },
   "file_extension": ".py",
   "mimetype": "text/x-python",
   "name": "python",
   "nbconvert_exporter": "python",
   "pygments_lexer": "ipython2",
   "version": "2.7.6"
  },
  "pycharm": {
   "stem_cell": {
    "cell_type": "raw",
    "source": [],
    "metadata": {
     "collapsed": false
    }
   }
  }
 },
 "nbformat": 4,
 "nbformat_minor": 0
}