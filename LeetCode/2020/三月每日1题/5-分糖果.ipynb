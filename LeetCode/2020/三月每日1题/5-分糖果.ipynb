{
 "cells": [
  {
   "cell_type": "code",
   "execution_count": 978,
   "metadata": {
    "collapsed": true,
    "pycharm": {
     "is_executing": false
    }
   },
   "outputs": [
    {
     "name": "stdout",
     "text": [
      "36.0\n78.0\nturns 3\n24.0 c = = = v 9\n2222222222\n15.0 c = = = v 10\n2222222222\n5.0 c = = = v 11\n333333333\n10.0\n0 c = = = v 12\n11111\n[15, 18, 15, 12]\n"
     ],
     "output_type": "stream"
    }
   ],
   "source": [
    "\n",
    "def distributeCandies(candies: int, num_people: int) :\n",
    "    ans = [0 for i in range(num_people)]\n",
    "    \n",
    "    turns = 1\n",
    "    sumTurns = sum(list(range(1,num_people+1))) #+ (turns-1)*np**2\n",
    "    a1 = sumTurns\n",
    "    while(candies > sumTurns):\n",
    "        sumPre = sumTurns\n",
    "        turns+=1\n",
    "        sumTurns = ((num_people**2)/2)*turns**2 + (a1 - ((num_people**2)/2))*turns\n",
    "        print(sumTurns)\n",
    "    \n",
    "    print('turns',turns)\n",
    "    \n",
    "    if turns == 1:\n",
    "        index = 0\n",
    "        while(candies != 0):\n",
    "            if candies >= index+1:\n",
    "                ans[index] = index+1\n",
    "                candies -= index+1\n",
    "                index += 1\n",
    "            else:\n",
    "                ans[index] = candies\n",
    "                candies = 0\n",
    "    else:\n",
    "        candies-=sumPre\n",
    "        for i in range(num_people):\n",
    "            currValue = (turns-1)*num_people + i + 1\n",
    "            print(candies,'c = = = v', currValue)\n",
    "            if candies == 0:\n",
    "                print(11111)\n",
    "                ans[i] = int((num_people*(turns-1)**2)/2 + (i+1-num_people/2)*(turns-1))\n",
    "            \n",
    "            if candies < currValue and candies != 0:\n",
    "                print(333333333)\n",
    "                ans[i] = int(candies + (num_people*(turns-1)**2)/2 + (i+1-num_people/2)*(turns-1))\n",
    "                print((num_people*(turns-1)**2)/2 + (i+1-num_people/2)*(turns-1))\n",
    "                candies = 0\n",
    "            \n",
    "            if candies >= currValue:\n",
    "                print(2222222222)\n",
    "                ans[i] = int((num_people*turns**2)/2 + (i+1-num_people/2)*turns)\n",
    "                candies -= currValue\n",
    "    \n",
    "    return ans\n",
    "\n",
    "cad = 60\n",
    "np = 4\n",
    "t = distributeCandies(cad, np)\n",
    "print(t)"
   ]
  },
  {
   "cell_type": "code",
   "execution_count": 194,
   "outputs": [
    {
     "name": "stdout",
     "text": [
      "[0, 0, 0, 0]\n"
     ],
     "output_type": "stream"
    }
   ],
   "source": [
    "cad = 11\n",
    "np = 4\n",
    "turns = 2\n",
    "ans = [0 for i in range(np)]\n",
    "index = 0\n",
    "'''\n",
    "while(cad != 0):\n",
    "    if cad >= turns*np+index+1:\n",
    "        ans[index] = (np*turns**2)/2 + (1-np/2)*turns\n",
    "        cad -= turns*np+index+1\n",
    "        index += 1\n",
    "    else:\n",
    "        ans[index] = cad\n",
    "        cad = 0\n",
    "'''\n",
    "print(ans)"
   ],
   "metadata": {
    "collapsed": false,
    "pycharm": {
     "name": "#%%\n",
     "is_executing": false
    }
   }
  },
  {
   "cell_type": "code",
   "execution_count": 634,
   "outputs": [
    {
     "name": "stdout",
     "text": [
      "6\n2\n15 = = = 4\n11 = = = ",
      "5\n6 = = = 6\n[5.0, 7.0, 9.0]\n"
     ],
     "output_type": "stream"
    }
   ],
   "source": [
    "# 当turns > 2 的情况,\n",
    "cad = 15\n",
    "np = 3\n",
    "# turns = 2\n",
    "ans = [0 for i in range(np)]\n",
    "a1 = sum(list(range(1,np+1)))\n",
    "d = np**2/2\n",
    "turns = 1\n",
    "sumTurns = sum(list(range(1,np+1))) #+ (turns-1)*np**2\n",
    "while(cad > sumTurns):\n",
    "    print(sumTurns)\n",
    "    sumTurns = sumTurns*2 + np**2\n",
    "    turns+=1\n",
    "    \n",
    "print(turns)\n",
    "\n",
    "\n",
    "for i in range(np):\n",
    "    currValue = (turns-1)*np + i + 1\n",
    "    print(cad,'= = =', currValue)\n",
    "    if cad == 0:\n",
    "        ans[i] = (np*(turns-1)**2)/2 + (i+1-np/2)*(turns-1)\n",
    "    \n",
    "    if cad >= currValue:\n",
    "        ans[i] = (np*turns**2)/2 + (i+1-np/2)*turns\n",
    "        cad -= currValue\n",
    "    \n",
    "    elif cad < currValue and cad != 0:\n",
    "        print(cad)\n",
    "        ans[i] = cad + (np*(turns-1)**2)/2 + (i+1-np/2)*(turns-1)\n",
    "        print((np*(turns-1)**2)/2 + (i+1-np/2)*(turns-1))\n",
    "        cad = 0\n",
    "        \n",
    "\n",
    "        \n",
    "print(ans)"
   ],
   "metadata": {
    "collapsed": false,
    "pycharm": {
     "name": "#%%\n",
     "is_executing": false
    }
   }
  }
 ],
 "metadata": {
  "kernelspec": {
   "display_name": "Python 3",
   "language": "python",
   "name": "python3"
  },
  "language_info": {
   "codemirror_mode": {
    "name": "ipython",
    "version": 2
   },
   "file_extension": ".py",
   "mimetype": "text/x-python",
   "name": "python",
   "nbconvert_exporter": "python",
   "pygments_lexer": "ipython2",
   "version": "2.7.6"
  },
  "pycharm": {
   "stem_cell": {
    "cell_type": "raw",
    "source": [],
    "metadata": {
     "collapsed": false
    }
   }
  }
 },
 "nbformat": 4,
 "nbformat_minor": 0
}