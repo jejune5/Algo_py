{
 "cells": [
  {
   "cell_type": "markdown",
   "metadata": {
    "collapsed": true,
    "pycharm": {
     "name": "#%% md\n"
    }
   },
   "source": [
    "322. 零钱兑换\n",
    "给定不同面额的硬币 coins 和一个总金额 amount。编写一个函数来计算可以凑成总金额所需的最少的硬币个数。如果没有任何一种硬币组合能组成总金额，返回 -1。\n",
    "\n",
    "示例 1:\n",
    "\n",
    "输入: coins = [1, 2, 5], amount = 11\n",
    "输出: 3 \n",
    "解释: 11 = 5 + 5 + 1"
   ]
  },
  {
   "cell_type": "code",
   "execution_count": 290,
   "outputs": [
    {
     "traceback": [
      "\u001b[1;31m---------------------------------------------------------------------------\u001b[0m",
      "\u001b[1;31mNameError\u001b[0m                                 Traceback (most recent call last)",
      "\u001b[1;32m<ipython-input-290-d639f7614e16>\u001b[0m in \u001b[0;36m<module>\u001b[1;34m()\u001b[0m\n\u001b[0;32m     31\u001b[0m \u001b[0mcoins\u001b[0m \u001b[1;33m=\u001b[0m \u001b[1;33m[\u001b[0m\u001b[1;36m1\u001b[0m\u001b[1;33m,\u001b[0m \u001b[1;36m2\u001b[0m\u001b[1;33m,\u001b[0m \u001b[1;36m5\u001b[0m\u001b[1;33m]\u001b[0m\u001b[1;33m\u001b[0m\u001b[0m\n\u001b[0;32m     32\u001b[0m \u001b[0mamount\u001b[0m \u001b[1;33m=\u001b[0m \u001b[1;36m11\u001b[0m\u001b[1;33m\u001b[0m\u001b[0m\n\u001b[1;32m---> 33\u001b[1;33m \u001b[0mt\u001b[0m \u001b[1;33m=\u001b[0m \u001b[0mcoinChange\u001b[0m\u001b[1;33m(\u001b[0m\u001b[0mcoins\u001b[0m\u001b[1;33m,\u001b[0m \u001b[0mamount\u001b[0m\u001b[1;33m)\u001b[0m\u001b[1;33m\u001b[0m\u001b[0m\n\u001b[0m\u001b[0;32m     34\u001b[0m \u001b[0mprint\u001b[0m\u001b[1;33m(\u001b[0m\u001b[0mt\u001b[0m\u001b[1;33m)\u001b[0m\u001b[1;33m\u001b[0m\u001b[0m\n",
      "\u001b[1;32m<ipython-input-290-d639f7614e16>\u001b[0m in \u001b[0;36mcoinChange\u001b[1;34m(coins, amount)\u001b[0m\n\u001b[0;32m     24\u001b[0m \u001b[1;33m\u001b[0m\u001b[0m\n\u001b[0;32m     25\u001b[0m     \u001b[0mans\u001b[0m \u001b[1;33m=\u001b[0m \u001b[1;36m10000\u001b[0m\u001b[1;33m\u001b[0m\u001b[0m\n\u001b[1;32m---> 26\u001b[1;33m     \u001b[0mcoinChange2\u001b[0m\u001b[1;33m(\u001b[0m\u001b[0mlen\u001b[0m\u001b[1;33m(\u001b[0m\u001b[0mcoins\u001b[0m\u001b[1;33m)\u001b[0m\u001b[1;33m-\u001b[0m\u001b[1;36m1\u001b[0m\u001b[1;33m,\u001b[0m \u001b[0mcoins\u001b[0m\u001b[1;33m,\u001b[0m \u001b[1;36m0\u001b[0m\u001b[1;33m,\u001b[0m \u001b[0mamount\u001b[0m\u001b[1;33m)\u001b[0m\u001b[1;33m\u001b[0m\u001b[0m\n\u001b[0m\u001b[0;32m     27\u001b[0m     \u001b[1;32mreturn\u001b[0m \u001b[0mans\u001b[0m \u001b[1;32mif\u001b[0m \u001b[0mans\u001b[0m \u001b[1;33m!=\u001b[0m \u001b[1;36m1e5\u001b[0m \u001b[1;32melse\u001b[0m \u001b[1;33m-\u001b[0m\u001b[1;36m1\u001b[0m\u001b[1;33m\u001b[0m\u001b[0m\n\u001b[0;32m     28\u001b[0m \u001b[1;33m\u001b[0m\u001b[0m\n",
      "\u001b[1;32m<ipython-input-290-d639f7614e16>\u001b[0m in \u001b[0;36mcoinChange2\u001b[1;34m(index, coins, count, amount)\u001b[0m\n\u001b[0;32m      5\u001b[0m     \u001b[1;32mdef\u001b[0m \u001b[0mcoinChange2\u001b[0m\u001b[1;33m(\u001b[0m\u001b[0mindex\u001b[0m\u001b[1;33m:\u001b[0m\u001b[0mint\u001b[0m\u001b[1;33m,\u001b[0m \u001b[0mcoins\u001b[0m\u001b[1;33m:\u001b[0m\u001b[0mlist\u001b[0m\u001b[1;33m,\u001b[0m \u001b[0mcount\u001b[0m\u001b[1;33m:\u001b[0m\u001b[0mint\u001b[0m\u001b[1;33m,\u001b[0m \u001b[0mamount\u001b[0m\u001b[1;33m:\u001b[0m\u001b[0mint\u001b[0m\u001b[1;33m)\u001b[0m\u001b[1;33m:\u001b[0m\u001b[1;33m\u001b[0m\u001b[0m\n\u001b[0;32m      6\u001b[0m         \u001b[1;32mglobal\u001b[0m \u001b[0mans\u001b[0m\u001b[1;33m\u001b[0m\u001b[0m\n\u001b[1;32m----> 7\u001b[1;33m         \u001b[0mprint\u001b[0m\u001b[1;33m(\u001b[0m\u001b[0mans\u001b[0m\u001b[1;33m)\u001b[0m\u001b[1;33m\u001b[0m\u001b[0m\n\u001b[0m\u001b[0;32m      8\u001b[0m         \u001b[1;32mif\u001b[0m \u001b[0mamount\u001b[0m \u001b[1;33m==\u001b[0m \u001b[1;36m0\u001b[0m\u001b[1;33m:\u001b[0m\u001b[1;33m\u001b[0m\u001b[0m\n\u001b[0;32m      9\u001b[0m             \u001b[0mans\u001b[0m \u001b[1;33m=\u001b[0m \u001b[0mmin\u001b[0m\u001b[1;33m(\u001b[0m\u001b[0mcount\u001b[0m\u001b[1;33m,\u001b[0m \u001b[0mans\u001b[0m\u001b[1;33m)\u001b[0m\u001b[1;33m\u001b[0m\u001b[0m\n",
      "\u001b[1;31mNameError\u001b[0m: name 'ans' is not defined"
     ],
     "ename": "NameError",
     "evalue": "name 'ans' is not defined",
     "output_type": "error"
    }
   ],
   "source": [
    "def coinChange(coins, amount: int):\n",
    "    \n",
    "    ans = 10000\n",
    "    def coinChange2(index:int, coins:list, count:int, amount:int):\n",
    "        global ans\n",
    "        print(ans)\n",
    "        if amount == 0:\n",
    "            ans = min(count, ans)\n",
    "            return \n",
    "        if index < 0 :\n",
    "            return \n",
    "        \n",
    "        i = amount // coins[index]\n",
    "        k = i\n",
    "        print(ans)\n",
    "        while k > 0 and count+k < ans:\n",
    "            coinChange2(index-1, coins, count+ k,amount-k*coins[index])\n",
    "            print('amount-k*coins[index]' , amount-k*coins[index])\n",
    "            print('ans', ans)\n",
    "            k-=1\n",
    "    \n",
    "    sorted(coins)\n",
    "    \n",
    "    ans = 10000\n",
    "    coinChange2(len(coins)-1, coins, 0, amount)    \n",
    "    return ans if ans != 1e5 else -1\n",
    "\n",
    "\n",
    "\n",
    "coins = [1, 2, 5]\n",
    "amount = 11\n",
    "t = coinChange(coins, amount)\n",
    "print(t)"
   ],
   "metadata": {
    "collapsed": false,
    "pycharm": {
     "name": "#%%\n",
     "is_executing": false
    }
   }
  },
  {
   "cell_type": "code",
   "execution_count": 302,
   "outputs": [
    {
     "name": "stdout",
     "text": [
      "[0, -1, -1, -1, -1, -1, -1, -1, -1, -1, -1, -1]\n1 => 1 ===> 0\n[1]\n1 => 2 ===> -1\n1 => 5 ===> -1\n2 => 1 ===> 1\n[2]\n2 => 2 ===> 0\n[2, 1]\n2 => 5 ===> -1\n3 => 1 ===> 1\n[2]\n3 => 2 ===> 1\n[2, 2]\n3 => 5 ===> -1\n4 => 1 ===> 2\n[3]\n4 => 2 ===> 1\n[3, 2]\n4 => 5 ===> -1\n5 => 1 ===> 2\n[3]\n5 => 2 ===> 2\n[3, 3]\n5 => 5 ===> 0\n[3, 3, 1]\n6 => 1 ===> 1\n[2]\n6 => 2 ===> 2\n[2, 3]\n6 => 5 ===> 1\n[2, 3, 2]\n7 => 1 ===> 2\n[3]\n7 => 2 ===> 1\n[3, 2]\n7 => 5 ===> 1\n[3, 2, 2]\n8 => 1 ===> 2\n[3]\n8 => 2 ===> 2\n[3, 3]\n8 => 5 ===> 2\n[3, 3, 3]\n9 => 1 ===> 3\n[4]\n9 => 2 ===> 2\n[4, 3]\n9 => 5 ===> 2\n[4, 3, 3]\n10 => 1 ===> 3\n[4]\n10 => 2 ===> 3\n[4, 4]\n10 => 5 ===> 1\n[4, 4, 2]\n11 => 1 ===> 2\n[3]\n11 => 2 ===> 3\n[3, 4]\n11 => 5 ===> 2\n[3, 4, 3]\n3\n"
     ],
     "output_type": "stream"
    }
   ],
   "source": [
    "def coinChange(coins, amount):\n",
    "\n",
    "    if coins == []:\n",
    "        return -1\n",
    "    dp = [-1] * (amount + 1)\n",
    "    dp[0] = 0\n",
    "    print(dp)\n",
    "    \n",
    "    for i in range(1, amount + 1):\n",
    "        temp = [] # 可选方案\n",
    "        for coin in coins:\n",
    "            print(i,'=>', coin,'===>', dp[i - coin])\n",
    "            if i - coin >= 0 and dp[i - coin] != -1:\n",
    "                temp.append(dp[i - coin] + 1)\n",
    "                print(temp)\n",
    "        if temp != []:\n",
    "            dp[i] = min(temp)\n",
    "\n",
    "    return dp[-1]\n",
    "\n",
    "coins = [1, 2, 5]\n",
    "amount = 11\n",
    "t = coinChange(coins, amount)\n",
    "print(t)"
   ],
   "metadata": {
    "collapsed": false,
    "pycharm": {
     "name": "#%%\n",
     "is_executing": false
    }
   }
  }
 ],
 "metadata": {
  "kernelspec": {
   "display_name": "Python 3",
   "language": "python",
   "name": "python3"
  },
  "language_info": {
   "codemirror_mode": {
    "name": "ipython",
    "version": 2
   },
   "file_extension": ".py",
   "mimetype": "text/x-python",
   "name": "python",
   "nbconvert_exporter": "python",
   "pygments_lexer": "ipython2",
   "version": "2.7.6"
  },
  "pycharm": {
   "stem_cell": {
    "cell_type": "raw",
    "source": [],
    "metadata": {
     "collapsed": false
    }
   }
  }
 },
 "nbformat": 4,
 "nbformat_minor": 0
}