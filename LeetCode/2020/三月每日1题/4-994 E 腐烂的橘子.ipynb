{
 "cells": [
  {
   "cell_type": "markdown",
   "metadata": {
    "collapsed": true,
    "pycharm": {
     "name": "#%% md\n"
    }
   },
   "source": [
    "994. 腐烂的橘子\n",
    "在给定的网格中，每个单元格可以有以下三个值之一：\n",
    "\n",
    "值 0 代表空单元格；\n",
    "值 1 代表新鲜橘子；\n",
    "值 2 代表腐烂的橘子。\n",
    "每分钟，任何与腐烂的橘子（在 4 个正方向上）相邻的新鲜橘子都会腐烂。\n",
    "\n",
    "返回直到单元格中没有新鲜橘子为止所必须经过的最小分钟数。如果不可能，返回 -1。\n",
    "输入：[[2,1,1],[1,1,0],[0,1,1]]\n",
    "输出：4\n",
    "\n",
    "输入：[[2,1,1],[0,1,1],[1,0,1]]\n",
    "输出：-1\n",
    "解释：左下角的橘子（第 2 行， 第 0 列）永远不会腐烂，因为腐烂只会发生在 4 个正向上。\n",
    "\n",
    "输入：[[0,2]]\n",
    "输出：0\n",
    "解释：因为 0 分钟时已经没有新鲜橘子了，所以答案就是 0 。"
   ]
  },
  {
   "cell_type": "code",
   "execution_count": 19,
   "outputs": [
    {
     "name": "stdout",
     "text": [
      "[[2, 1, 1], [0, 1, 1], [1, 0, 1]]\n"
     ],
     "output_type": "stream"
    }
   ],
   "source": [
    "def orangesRotting(grid) :\n",
    "    \n",
    "    return grid\n",
    "\n",
    "\n",
    "grid = [[2,1,1],[0,1,1],[1,0,1]]\n",
    "t = orangesRotting(grid)\n",
    "print(t)"
   ],
   "metadata": {
    "collapsed": false,
    "pycharm": {
     "name": "#%%\n",
     "is_executing": false
    }
   }
  },
  {
   "cell_type": "code",
   "execution_count": 777,
   "outputs": [
    {
     "name": "stdout",
     "text": [
      "[[2 1 1]\n [0 1 1]\n [1 0 1]]\n[2 1 1 1]\n3\n/////////\n[[2 1 1]\n [0 1 1]\n [1 0 1]]\n"
     ],
     "output_type": "stream"
    }
   ],
   "source": [
    "grid = [[2,1,1],[0,1,1],[1,0,1]]\n",
    "\n",
    "def listRotting2(l):\n",
    "    for i in range(len(l)-1):\n",
    "        if l[i:i+2] == [1, 2]:\n",
    "            l[i] = 2\n",
    "        elif l[i:i+2] == [2, 1]:\n",
    "            l[i+1] = 2\n",
    "      \n",
    "# print(grid[0])        \n",
    "# listRotting(grid[0])\n",
    "b = [i[0] for i in grid]\n",
    "# print(b)\n",
    "    #if 2 in l:\n",
    "    #print(l.index(2))\n",
    "\n",
    "\n",
    "import numpy as np\n",
    "data = np.array(grid)\n",
    "print(data)##\n",
    "\n",
    "def listStepRotting(l):\n",
    "    for i in range(len(l) - 1):\n",
    "        if all(l[i:i+2] == np.array([1, 2])):\n",
    "            l[i] = 2\n",
    "            break\n",
    "        elif all(l[i:i+2] == np.array([2, 1])):\n",
    "            l[i+1] = 2\n",
    "            break\n",
    "step = 0\n",
    "l = np.array([2,1,1,1])        \n",
    "tmp = np.array([3])\n",
    "flag = True\n",
    "print(l)\n",
    "\n",
    "while('2 1' in str(l)):\n",
    "\n",
    "    listStepRotting(l)\n",
    "    step+=1\n",
    "    \n",
    "print(step)    \n",
    "\n",
    "\n",
    "print('/////////')\n",
    "print(data)\n",
    "# while\n",
    "listStepRotting([])"
   ],
   "metadata": {
    "collapsed": false,
    "pycharm": {
     "name": "#%%\n",
     "is_executing": false
    }
   }
  }
 ],
 "metadata": {
  "kernelspec": {
   "display_name": "Python 3",
   "language": "python",
   "name": "python3"
  },
  "language_info": {
   "codemirror_mode": {
    "name": "ipython",
    "version": 2
   },
   "file_extension": ".py",
   "mimetype": "text/x-python",
   "name": "python",
   "nbconvert_exporter": "python",
   "pygments_lexer": "ipython2",
   "version": "2.7.6"
  },
  "pycharm": {
   "stem_cell": {
    "cell_type": "raw",
    "source": [],
    "metadata": {
     "collapsed": false
    }
   }
  }
 },
 "nbformat": 4,
 "nbformat_minor": 0
}