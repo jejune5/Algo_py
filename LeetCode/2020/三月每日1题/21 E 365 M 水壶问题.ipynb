{
 "cells": [
  {
   "cell_type": "markdown",
   "metadata": {
    "collapsed": true,
    "pycharm": {
     "name": "#%% md\n"
    }
   },
   "source": [
    "有两个容量分别为 x升 和 y升 的水壶以及无限多的水。请判断能否通过使用这两个水壶，从而可以得到恰好 z升 的水？\n",
    "\n",
    "如果可以，最后请用以上水壶中的一或两个来盛放取得的 z升 水。\n",
    "\n",
    "你允许：\n",
    "\n",
    "装满任意一个水壶\n",
    "清空任意一个水壶\n",
    "从一个水壶向另外一个水壶倒水，直到装满或者倒空\n",
    "示例 1: (From the famous \"Die Hard\" example)\n",
    "\n",
    "输入: x = 3, y = 5, z = 4\n",
    "输出: True"
   ]
  },
  {
   "cell_type": "code",
   "execution_count": 69,
   "outputs": [
    {
     "name": "stdout",
     "text": [
      "False\n"
     ],
     "output_type": "stream"
    }
   ],
   "source": [
    "def canMeasureWater(x: int, y: int, z: int):\n",
    "    \n",
    "    def myRemainder(z,x):    \n",
    "        if x != 0 and z%x == 0:\n",
    "            return True\n",
    "        else:\n",
    "            return False\n",
    "    \n",
    "    return z == 0 or myRemainder(z,x) or myRemainder(z,y) or myRemainder(z,x+y) or myRemainder(z, x-y if x>y else y-x)\n",
    "\n",
    "x = 3\n",
    "y = 3\n",
    "z = 4\n",
    "t = canMeasureWater(x,y,z)\n",
    "\n",
    "print(t)"
   ],
   "metadata": {
    "collapsed": false,
    "pycharm": {
     "name": "#%%\n",
     "is_executing": false
    }
   }
  },
  {
   "cell_type": "code",
   "execution_count": 31,
   "outputs": [],
   "source": [
    "x = 3\n",
    "y = 5\n",
    "z = 4\n",
    "if z == 0:\n",
    "    print(True)\n",
    "    \n",
    "def myRemainder(z,x):    \n",
    "    if x != 0 and z%x == 0:\n",
    "        return True\n",
    "    else:\n",
    "        return False"
   ],
   "metadata": {
    "collapsed": false,
    "pycharm": {
     "name": "#%%\n",
     "is_executing": false
    }
   }
  },
  {
   "cell_type": "code",
   "execution_count": 96,
   "outputs": [
    {
     "name": "stdout",
     "text": [
      "1\n"
     ],
     "output_type": "stream"
    }
   ],
   "source": [
    "import math\n",
    "t = math.gcd(13,32)\n",
    "print(t)"
   ],
   "metadata": {
    "collapsed": false,
    "pycharm": {
     "name": "#%%\n",
     "is_executing": false
    }
   }
  }
 ],
 "metadata": {
  "kernelspec": {
   "display_name": "Python 3",
   "language": "python",
   "name": "python3"
  },
  "language_info": {
   "codemirror_mode": {
    "name": "ipython",
    "version": 2
   },
   "file_extension": ".py",
   "mimetype": "text/x-python",
   "name": "python",
   "nbconvert_exporter": "python",
   "pygments_lexer": "ipython2",
   "version": "2.7.6"
  },
  "pycharm": {
   "stem_cell": {
    "cell_type": "raw",
    "source": [],
    "metadata": {
     "collapsed": false
    }
   }
  }
 },
 "nbformat": 4,
 "nbformat_minor": 0
}