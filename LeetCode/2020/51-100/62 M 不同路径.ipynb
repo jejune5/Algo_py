{
 "cells": [
  {
   "cell_type": "code",
   "execution_count": 51,
   "metadata": {
    "collapsed": true,
    "pycharm": {
     "is_executing": false
    }
   },
   "outputs": [
    {
     "name": "stdout",
     "text": [
      "28.0\n"
     ],
     "output_type": "stream"
    }
   ],
   "source": [
    "# m*n\n",
    "# C(m+n-2,n-1)\n",
    "\n",
    "def uniquePaths(m: int, n: int) -> int:\n",
    "    \n",
    "    def myFactorial(n, step):\n",
    "        res = 1\n",
    "        for i in range(step):\n",
    "            res = res*n\n",
    "            n-=1\n",
    "        return res\n",
    "    \n",
    "    return myFactorial(m+n-2, min(n-1,m-1))/myFactorial(min(n-1,m-1),min(n-1,m-1))\n",
    "\n",
    "m = 7\n",
    "n = 3\n",
    "ans = uniquePaths(m,n)\n",
    "print(ans)"
   ]
  },
  {
   "cell_type": "code",
   "execution_count": 42,
   "outputs": [
    {
     "name": "stdout",
     "text": [
      "20\n"
     ],
     "output_type": "stream"
    }
   ],
   "source": [
    "# import math\n",
    "# a = math.factorial(5)\n",
    "# print(a)\n",
    "\n",
    "def myFactorial(n, step):\n",
    "    res = 1\n",
    "    for i in range(step):\n",
    "        res = res*n\n",
    "        n-=1\n",
    "    return res\n",
    "    \n",
    "    \n",
    "t = myFactorial(5,2)\n",
    "print(t)\n",
    "    "
   ],
   "metadata": {
    "collapsed": false,
    "pycharm": {
     "name": "#%%\n",
     "is_executing": false
    }
   }
  }
 ],
 "metadata": {
  "kernelspec": {
   "display_name": "Python 3",
   "language": "python",
   "name": "python3"
  },
  "language_info": {
   "codemirror_mode": {
    "name": "ipython",
    "version": 2
   },
   "file_extension": ".py",
   "mimetype": "text/x-python",
   "name": "python",
   "nbconvert_exporter": "python",
   "pygments_lexer": "ipython2",
   "version": "2.7.6"
  },
  "pycharm": {
   "stem_cell": {
    "cell_type": "raw",
    "source": [],
    "metadata": {
     "collapsed": false
    }
   }
  }
 },
 "nbformat": 4,
 "nbformat_minor": 0
}