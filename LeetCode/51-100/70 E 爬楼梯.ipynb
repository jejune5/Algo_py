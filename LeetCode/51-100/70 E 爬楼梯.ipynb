{
 "cells": [
  {
   "cell_type": "markdown",
   "metadata": {
    "collapsed": true,
    "pycharm": {
     "name": "#%% md\n"
    }
   },
   "source": [
    "假设你正在爬楼梯。需要 n 阶你才能到达楼顶。\n",
    "\n",
    "每次你可以爬 1 或 2 个台阶。你有多少种不同的方法可以爬到楼顶呢？\n",
    "\n",
    "注意：给定 n 是一个正整数。\n",
    "\n",
    "示例 1：\n",
    "\n",
    "输入： 2\n",
    "输出： 2\n",
    "解释： 有两种方法可以爬到楼顶。\n",
    "1.  1 阶 + 1 阶\n",
    "2.  2 阶\n",
    "\n",
    "示例 2：\n",
    "\n",
    "输入： 3\n",
    "输出： 3\n",
    "解释： 有三种方法可以爬到楼顶。\n",
    "1.  1 阶 + 1 阶 + 1 阶\n",
    "2.  1 阶 + 2 阶\n",
    "3.  2 阶 + 1 阶"
   ]
  },
  {
   "cell_type": "code",
   "execution_count": 33,
   "outputs": [
    {
     "name": "stdout",
     "text": [
      "1\n"
     ],
     "output_type": "stream"
    }
   ],
   "source": [
    "def climbStairs(n: int) -> int:\n",
    "    def climb_Stairs(i, n, memo):\n",
    "        if i>n:\n",
    "            return 0\n",
    "        \n",
    "        elif i == n:\n",
    "            return 1\n",
    "        \n",
    "        elif memo[i]>0:\n",
    "            return memo[i]\n",
    "        \n",
    "        memo[i] = climb_Stairs(i+1,n,memo) + climb_Stairs(i+2,n,memo)\n",
    "        \n",
    "        return memo[i]\n",
    "    \n",
    "    \n",
    "    memo = [0 for j in range(n+1)]\n",
    "    return climb_Stairs(0,n, memo)\n",
    "        \n",
    "a = climbStairs(0)\n",
    "print(a)"
   ],
   "metadata": {
    "collapsed": false,
    "pycharm": {
     "name": "#%%    \n",
     "is_executing": false
    }
   }
  },
  {
   "cell_type": "code",
   "execution_count": 9,
   "outputs": [
    {
     "name": "stdout",
     "text": [
      "[1, None, None, None, None, None, None, None, None, None]\n"
     ],
     "output_type": "stream"
    }
   ],
   "source": [
    "t = [None for j in range(10)]\n",
    "t[0] = 1\n",
    "print(t)\n"
   ],
   "metadata": {
    "collapsed": false,
    "pycharm": {
     "name": "#%%\n",
     "is_executing": false
    }
   }
  },
  {
   "cell_type": "code",
   "execution_count": 5,
   "outputs": [
    {
     "name": "stdout",
     "text": [
      "120\n"
     ],
     "output_type": "stream"
    }
   ],
   "source": [
    "# 1！+2！+3！+4！+5！+...+n!\n",
    "def factorial(n):\n",
    "    ''' n表示要求的数的阶乘 '''\n",
    "    if n==1:\n",
    "        return n # 阶乘为1的时候，结果为1,返回结果并退出\n",
    "    n = n*factorial(n-1) # n! = n*(n-1)!\n",
    "    return n  \n",
    "\n",
    "res = factorial(5) \n",
    "print(res) "
   ],
   "metadata": {
    "collapsed": false,
    "pycharm": {
     "name": "#%%\n",
     "is_executing": false
    }
   }
  },
  {
   "cell_type": "code",
   "execution_count": null,
   "outputs": [],
   "source": [
    "\n"
   ],
   "metadata": {
    "collapsed": false,
    "pycharm": {
     "name": "#%%\n"
    }
   }
  }
 ],
 "metadata": {
  "kernelspec": {
   "display_name": "Python 3",
   "language": "python",
   "name": "python3"
  },
  "language_info": {
   "codemirror_mode": {
    "name": "ipython",
    "version": 2
   },
   "file_extension": ".py",
   "mimetype": "text/x-python",
   "name": "python",
   "nbconvert_exporter": "python",
   "pygments_lexer": "ipython2",
   "version": "2.7.6"
  },
  "pycharm": {
   "stem_cell": {
    "cell_type": "raw",
    "source": [],
    "metadata": {
     "collapsed": false
    }
   }
  }
 },
 "nbformat": 4,
 "nbformat_minor": 0
}